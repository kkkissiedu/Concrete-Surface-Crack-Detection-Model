{
 "cells": [
  {
   "cell_type": "code",
   "execution_count": 1,
   "metadata": {
    "execution": {
     "iopub.execute_input": "2025-05-30T23:47:26.094401Z",
     "iopub.status.busy": "2025-05-30T23:47:26.093254Z",
     "iopub.status.idle": "2025-05-30T23:47:26.099717Z",
     "shell.execute_reply": "2025-05-30T23:47:26.098675Z",
     "shell.execute_reply.started": "2025-05-30T23:47:26.094364Z"
    },
    "trusted": true
   },
   "outputs": [],
   "source": [
    "import numpy as np\n",
    "import pandas as pd\n",
    "\n",
    "import matplotlib.pyplot as plt\n",
    "import seaborn as sns\n",
    "import plotly.express as px\n",
    "\n",
    "from pathlib import Path\n",
    "from sklearn.model_selection import train_test_split\n",
    "\n",
    "import tensorflow as tf\n",
    "\n",
    "from sklearn.metrics import confusion_matrix, classification_report\n",
    "import math"
   ]
  },
  {
   "cell_type": "markdown",
   "metadata": {},
   "source": [
    "# Directories to Images"
   ]
  },
  {
   "cell_type": "code",
   "execution_count": 2,
   "metadata": {
    "execution": {
     "iopub.execute_input": "2025-05-30T23:47:28.522916Z",
     "iopub.status.busy": "2025-05-30T23:47:28.522564Z",
     "iopub.status.idle": "2025-05-30T23:47:28.528226Z",
     "shell.execute_reply": "2025-05-30T23:47:28.527114Z",
     "shell.execute_reply.started": "2025-05-30T23:47:28.522892Z"
    },
    "trusted": true
   },
   "outputs": [],
   "source": [
    "positive_dir = Path('Dataset/Positive')\n",
    "negative_dir = Path('Dataset/Negative') "
   ]
  },
  {
   "cell_type": "markdown",
   "metadata": {},
   "source": [
    "# Creating DataFrames"
   ]
  },
  {
   "cell_type": "code",
   "execution_count": 3,
   "metadata": {
    "execution": {
     "iopub.execute_input": "2025-05-30T23:47:31.202953Z",
     "iopub.status.busy": "2025-05-30T23:47:31.202616Z",
     "iopub.status.idle": "2025-05-30T23:47:31.478251Z",
     "shell.execute_reply": "2025-05-30T23:47:31.477145Z",
     "shell.execute_reply.started": "2025-05-30T23:47:31.202926Z"
    },
    "trusted": true
   },
   "outputs": [
    {
     "data": {
      "text/plain": [
       "[WindowsPath('Dataset/Positive/00001.jpg'),\n",
       " WindowsPath('Dataset/Positive/00002.jpg'),\n",
       " WindowsPath('Dataset/Positive/00003.jpg'),\n",
       " WindowsPath('Dataset/Positive/00004.jpg'),\n",
       " WindowsPath('Dataset/Positive/00005.jpg'),\n",
       " WindowsPath('Dataset/Positive/00006.jpg'),\n",
       " WindowsPath('Dataset/Positive/00007.jpg'),\n",
       " WindowsPath('Dataset/Positive/00008.jpg'),\n",
       " WindowsPath('Dataset/Positive/00009.jpg'),\n",
       " WindowsPath('Dataset/Positive/00010.jpg'),\n",
       " WindowsPath('Dataset/Positive/00011.jpg'),\n",
       " WindowsPath('Dataset/Positive/00012.jpg'),\n",
       " WindowsPath('Dataset/Positive/00013.jpg'),\n",
       " WindowsPath('Dataset/Positive/00014.jpg'),\n",
       " WindowsPath('Dataset/Positive/00015.jpg'),\n",
       " WindowsPath('Dataset/Positive/00016.jpg'),\n",
       " WindowsPath('Dataset/Positive/00017.jpg'),\n",
       " WindowsPath('Dataset/Positive/00018.jpg'),\n",
       " WindowsPath('Dataset/Positive/00019.jpg'),\n",
       " WindowsPath('Dataset/Positive/00020.jpg'),\n",
       " WindowsPath('Dataset/Positive/00021.jpg'),\n",
       " WindowsPath('Dataset/Positive/00022.jpg'),\n",
       " WindowsPath('Dataset/Positive/00023.jpg'),\n",
       " WindowsPath('Dataset/Positive/00024.jpg'),\n",
       " WindowsPath('Dataset/Positive/00025.jpg'),\n",
       " WindowsPath('Dataset/Positive/00026.jpg'),\n",
       " WindowsPath('Dataset/Positive/00027.jpg'),\n",
       " WindowsPath('Dataset/Positive/00028.jpg'),\n",
       " WindowsPath('Dataset/Positive/00029.jpg'),\n",
       " WindowsPath('Dataset/Positive/00030.jpg'),\n",
       " WindowsPath('Dataset/Positive/00031.jpg'),\n",
       " WindowsPath('Dataset/Positive/00032.jpg'),\n",
       " WindowsPath('Dataset/Positive/00033.jpg'),\n",
       " WindowsPath('Dataset/Positive/00034.jpg'),\n",
       " WindowsPath('Dataset/Positive/00035.jpg'),\n",
       " WindowsPath('Dataset/Positive/00036.jpg'),\n",
       " WindowsPath('Dataset/Positive/00037.jpg'),\n",
       " WindowsPath('Dataset/Positive/00038.jpg'),\n",
       " WindowsPath('Dataset/Positive/00039.jpg'),\n",
       " WindowsPath('Dataset/Positive/00040.jpg'),\n",
       " WindowsPath('Dataset/Positive/00041.jpg'),\n",
       " WindowsPath('Dataset/Positive/00042.jpg'),\n",
       " WindowsPath('Dataset/Positive/00043.jpg'),\n",
       " WindowsPath('Dataset/Positive/00044.jpg'),\n",
       " WindowsPath('Dataset/Positive/00045.jpg'),\n",
       " WindowsPath('Dataset/Positive/00046.jpg'),\n",
       " WindowsPath('Dataset/Positive/00047.jpg'),\n",
       " WindowsPath('Dataset/Positive/00048.jpg'),\n",
       " WindowsPath('Dataset/Positive/00049.jpg'),\n",
       " WindowsPath('Dataset/Positive/00050.jpg'),\n",
       " WindowsPath('Dataset/Positive/00051.jpg'),\n",
       " WindowsPath('Dataset/Positive/00052.jpg'),\n",
       " WindowsPath('Dataset/Positive/00053.jpg'),\n",
       " WindowsPath('Dataset/Positive/00054.jpg'),\n",
       " WindowsPath('Dataset/Positive/00055.jpg'),\n",
       " WindowsPath('Dataset/Positive/00056.jpg'),\n",
       " WindowsPath('Dataset/Positive/00057.jpg'),\n",
       " WindowsPath('Dataset/Positive/00058.jpg'),\n",
       " WindowsPath('Dataset/Positive/00059.jpg'),\n",
       " WindowsPath('Dataset/Positive/00060.jpg'),\n",
       " WindowsPath('Dataset/Positive/00061.jpg'),\n",
       " WindowsPath('Dataset/Positive/00062.jpg'),\n",
       " WindowsPath('Dataset/Positive/00063.jpg'),\n",
       " WindowsPath('Dataset/Positive/00064.jpg'),\n",
       " WindowsPath('Dataset/Positive/00065.jpg'),\n",
       " WindowsPath('Dataset/Positive/00066.jpg'),\n",
       " WindowsPath('Dataset/Positive/00067.jpg'),\n",
       " WindowsPath('Dataset/Positive/00068.jpg'),\n",
       " WindowsPath('Dataset/Positive/00069.jpg'),\n",
       " WindowsPath('Dataset/Positive/00070.jpg'),\n",
       " WindowsPath('Dataset/Positive/00071.jpg'),\n",
       " WindowsPath('Dataset/Positive/00072.jpg'),\n",
       " WindowsPath('Dataset/Positive/00073.jpg'),\n",
       " WindowsPath('Dataset/Positive/00074.jpg'),\n",
       " WindowsPath('Dataset/Positive/00075.jpg'),\n",
       " WindowsPath('Dataset/Positive/00076.jpg'),\n",
       " WindowsPath('Dataset/Positive/00077.jpg'),\n",
       " WindowsPath('Dataset/Positive/00078.jpg'),\n",
       " WindowsPath('Dataset/Positive/00079.jpg'),\n",
       " WindowsPath('Dataset/Positive/00080.jpg'),\n",
       " WindowsPath('Dataset/Positive/00081.jpg'),\n",
       " WindowsPath('Dataset/Positive/00082.jpg'),\n",
       " WindowsPath('Dataset/Positive/00083.jpg'),\n",
       " WindowsPath('Dataset/Positive/00084.jpg'),\n",
       " WindowsPath('Dataset/Positive/00085.jpg'),\n",
       " WindowsPath('Dataset/Positive/00086.jpg'),\n",
       " WindowsPath('Dataset/Positive/00087.jpg'),\n",
       " WindowsPath('Dataset/Positive/00088.jpg'),\n",
       " WindowsPath('Dataset/Positive/00089.jpg'),\n",
       " WindowsPath('Dataset/Positive/00090.jpg'),\n",
       " WindowsPath('Dataset/Positive/00091.jpg'),\n",
       " WindowsPath('Dataset/Positive/00092.jpg'),\n",
       " WindowsPath('Dataset/Positive/00093.jpg'),\n",
       " WindowsPath('Dataset/Positive/00094.jpg'),\n",
       " WindowsPath('Dataset/Positive/00095.jpg'),\n",
       " WindowsPath('Dataset/Positive/00096.jpg'),\n",
       " WindowsPath('Dataset/Positive/00097.jpg'),\n",
       " WindowsPath('Dataset/Positive/00098.jpg'),\n",
       " WindowsPath('Dataset/Positive/00099.jpg'),\n",
       " WindowsPath('Dataset/Positive/00100.jpg'),\n",
       " WindowsPath('Dataset/Positive/00101.jpg'),\n",
       " WindowsPath('Dataset/Positive/00102.jpg'),\n",
       " WindowsPath('Dataset/Positive/00103.jpg'),\n",
       " WindowsPath('Dataset/Positive/00104.jpg'),\n",
       " WindowsPath('Dataset/Positive/00105.jpg'),\n",
       " WindowsPath('Dataset/Positive/00106.jpg'),\n",
       " WindowsPath('Dataset/Positive/00107.jpg'),\n",
       " WindowsPath('Dataset/Positive/00108.jpg'),\n",
       " WindowsPath('Dataset/Positive/00109.jpg'),\n",
       " WindowsPath('Dataset/Positive/00110.jpg'),\n",
       " WindowsPath('Dataset/Positive/00111.jpg'),\n",
       " WindowsPath('Dataset/Positive/00112.jpg'),\n",
       " WindowsPath('Dataset/Positive/00113.jpg'),\n",
       " WindowsPath('Dataset/Positive/00114.jpg'),\n",
       " WindowsPath('Dataset/Positive/00115.jpg'),\n",
       " WindowsPath('Dataset/Positive/00116.jpg'),\n",
       " WindowsPath('Dataset/Positive/00117.jpg'),\n",
       " WindowsPath('Dataset/Positive/00118.jpg'),\n",
       " WindowsPath('Dataset/Positive/00119.jpg'),\n",
       " WindowsPath('Dataset/Positive/00120.jpg'),\n",
       " WindowsPath('Dataset/Positive/00121.jpg'),\n",
       " WindowsPath('Dataset/Positive/00122.jpg'),\n",
       " WindowsPath('Dataset/Positive/00123.jpg'),\n",
       " WindowsPath('Dataset/Positive/00124.jpg'),\n",
       " WindowsPath('Dataset/Positive/00125.jpg'),\n",
       " WindowsPath('Dataset/Positive/00126.jpg'),\n",
       " WindowsPath('Dataset/Positive/00127.jpg'),\n",
       " WindowsPath('Dataset/Positive/00128.jpg'),\n",
       " WindowsPath('Dataset/Positive/00129.jpg'),\n",
       " WindowsPath('Dataset/Positive/00130.jpg'),\n",
       " WindowsPath('Dataset/Positive/00131.jpg'),\n",
       " WindowsPath('Dataset/Positive/00132.jpg'),\n",
       " WindowsPath('Dataset/Positive/00133.jpg'),\n",
       " WindowsPath('Dataset/Positive/00134.jpg'),\n",
       " WindowsPath('Dataset/Positive/00135.jpg'),\n",
       " WindowsPath('Dataset/Positive/00136.jpg'),\n",
       " WindowsPath('Dataset/Positive/00137.jpg'),\n",
       " WindowsPath('Dataset/Positive/00138.jpg'),\n",
       " WindowsPath('Dataset/Positive/00139.jpg'),\n",
       " WindowsPath('Dataset/Positive/00140.jpg'),\n",
       " WindowsPath('Dataset/Positive/00141.jpg'),\n",
       " WindowsPath('Dataset/Positive/00142.jpg'),\n",
       " WindowsPath('Dataset/Positive/00143.jpg'),\n",
       " WindowsPath('Dataset/Positive/00144.jpg'),\n",
       " WindowsPath('Dataset/Positive/00145.jpg'),\n",
       " WindowsPath('Dataset/Positive/00146.jpg'),\n",
       " WindowsPath('Dataset/Positive/00147.jpg'),\n",
       " WindowsPath('Dataset/Positive/00148.jpg'),\n",
       " WindowsPath('Dataset/Positive/00149.jpg'),\n",
       " WindowsPath('Dataset/Positive/00150.jpg'),\n",
       " WindowsPath('Dataset/Positive/00151.jpg'),\n",
       " WindowsPath('Dataset/Positive/00152.jpg'),\n",
       " WindowsPath('Dataset/Positive/00153.jpg'),\n",
       " WindowsPath('Dataset/Positive/00154.jpg'),\n",
       " WindowsPath('Dataset/Positive/00155.jpg'),\n",
       " WindowsPath('Dataset/Positive/00156.jpg'),\n",
       " WindowsPath('Dataset/Positive/00157.jpg'),\n",
       " WindowsPath('Dataset/Positive/00158.jpg'),\n",
       " WindowsPath('Dataset/Positive/00159.jpg'),\n",
       " WindowsPath('Dataset/Positive/00160.jpg'),\n",
       " WindowsPath('Dataset/Positive/00161.jpg'),\n",
       " WindowsPath('Dataset/Positive/00162.jpg'),\n",
       " WindowsPath('Dataset/Positive/00163.jpg'),\n",
       " WindowsPath('Dataset/Positive/00164.jpg'),\n",
       " WindowsPath('Dataset/Positive/00165.jpg'),\n",
       " WindowsPath('Dataset/Positive/00166.jpg'),\n",
       " WindowsPath('Dataset/Positive/00167.jpg'),\n",
       " WindowsPath('Dataset/Positive/00168.jpg'),\n",
       " WindowsPath('Dataset/Positive/00169.jpg'),\n",
       " WindowsPath('Dataset/Positive/00170.jpg'),\n",
       " WindowsPath('Dataset/Positive/00171.jpg'),\n",
       " WindowsPath('Dataset/Positive/00172.jpg'),\n",
       " WindowsPath('Dataset/Positive/00173.jpg'),\n",
       " WindowsPath('Dataset/Positive/00174.jpg'),\n",
       " WindowsPath('Dataset/Positive/00175.jpg'),\n",
       " WindowsPath('Dataset/Positive/00176.jpg'),\n",
       " WindowsPath('Dataset/Positive/00177.jpg'),\n",
       " WindowsPath('Dataset/Positive/00178.jpg'),\n",
       " WindowsPath('Dataset/Positive/00179.jpg'),\n",
       " WindowsPath('Dataset/Positive/00180.jpg'),\n",
       " WindowsPath('Dataset/Positive/00181.jpg'),\n",
       " WindowsPath('Dataset/Positive/00182.jpg'),\n",
       " WindowsPath('Dataset/Positive/00183.jpg'),\n",
       " WindowsPath('Dataset/Positive/00184.jpg'),\n",
       " WindowsPath('Dataset/Positive/00185.jpg'),\n",
       " WindowsPath('Dataset/Positive/00186.jpg'),\n",
       " WindowsPath('Dataset/Positive/00187.jpg'),\n",
       " WindowsPath('Dataset/Positive/00188.jpg'),\n",
       " WindowsPath('Dataset/Positive/00189.jpg'),\n",
       " WindowsPath('Dataset/Positive/00190.jpg'),\n",
       " WindowsPath('Dataset/Positive/00191.jpg'),\n",
       " WindowsPath('Dataset/Positive/00192.jpg'),\n",
       " WindowsPath('Dataset/Positive/00193.jpg'),\n",
       " WindowsPath('Dataset/Positive/00194.jpg'),\n",
       " WindowsPath('Dataset/Positive/00195.jpg'),\n",
       " WindowsPath('Dataset/Positive/00196.jpg'),\n",
       " WindowsPath('Dataset/Positive/00197.jpg'),\n",
       " WindowsPath('Dataset/Positive/00198.jpg'),\n",
       " WindowsPath('Dataset/Positive/00199.jpg'),\n",
       " WindowsPath('Dataset/Positive/00200.jpg'),\n",
       " WindowsPath('Dataset/Positive/00201.jpg'),\n",
       " WindowsPath('Dataset/Positive/00202.jpg'),\n",
       " WindowsPath('Dataset/Positive/00203.jpg'),\n",
       " WindowsPath('Dataset/Positive/00204.jpg'),\n",
       " WindowsPath('Dataset/Positive/00205.jpg'),\n",
       " WindowsPath('Dataset/Positive/00206.jpg'),\n",
       " WindowsPath('Dataset/Positive/00207.jpg'),\n",
       " WindowsPath('Dataset/Positive/00208.jpg'),\n",
       " WindowsPath('Dataset/Positive/00209.jpg'),\n",
       " WindowsPath('Dataset/Positive/00210.jpg'),\n",
       " WindowsPath('Dataset/Positive/00211.jpg'),\n",
       " WindowsPath('Dataset/Positive/00212.jpg'),\n",
       " WindowsPath('Dataset/Positive/00213.jpg'),\n",
       " WindowsPath('Dataset/Positive/00214.jpg'),\n",
       " WindowsPath('Dataset/Positive/00215.jpg'),\n",
       " WindowsPath('Dataset/Positive/00216.jpg'),\n",
       " WindowsPath('Dataset/Positive/00217.jpg'),\n",
       " WindowsPath('Dataset/Positive/00218.jpg'),\n",
       " WindowsPath('Dataset/Positive/00219.jpg'),\n",
       " WindowsPath('Dataset/Positive/00220.jpg'),\n",
       " WindowsPath('Dataset/Positive/00221.jpg'),\n",
       " WindowsPath('Dataset/Positive/00222.jpg'),\n",
       " WindowsPath('Dataset/Positive/00223.jpg'),\n",
       " WindowsPath('Dataset/Positive/00224.jpg'),\n",
       " WindowsPath('Dataset/Positive/00225.jpg'),\n",
       " WindowsPath('Dataset/Positive/00226.jpg'),\n",
       " WindowsPath('Dataset/Positive/00227.jpg'),\n",
       " WindowsPath('Dataset/Positive/00228.jpg'),\n",
       " WindowsPath('Dataset/Positive/00229.jpg'),\n",
       " WindowsPath('Dataset/Positive/00230.jpg'),\n",
       " WindowsPath('Dataset/Positive/00231.jpg'),\n",
       " WindowsPath('Dataset/Positive/00232.jpg'),\n",
       " WindowsPath('Dataset/Positive/00233.jpg'),\n",
       " WindowsPath('Dataset/Positive/00234.jpg'),\n",
       " WindowsPath('Dataset/Positive/00235.jpg'),\n",
       " WindowsPath('Dataset/Positive/00236.jpg'),\n",
       " WindowsPath('Dataset/Positive/00237.jpg'),\n",
       " WindowsPath('Dataset/Positive/00238.jpg'),\n",
       " WindowsPath('Dataset/Positive/00239.jpg'),\n",
       " WindowsPath('Dataset/Positive/00240.jpg'),\n",
       " WindowsPath('Dataset/Positive/00241.jpg'),\n",
       " WindowsPath('Dataset/Positive/00242.jpg'),\n",
       " WindowsPath('Dataset/Positive/00243.jpg'),\n",
       " WindowsPath('Dataset/Positive/00244.jpg'),\n",
       " WindowsPath('Dataset/Positive/00245.jpg'),\n",
       " WindowsPath('Dataset/Positive/00246.jpg'),\n",
       " WindowsPath('Dataset/Positive/00247.jpg'),\n",
       " WindowsPath('Dataset/Positive/00248.jpg'),\n",
       " WindowsPath('Dataset/Positive/00249.jpg'),\n",
       " WindowsPath('Dataset/Positive/00250.jpg'),\n",
       " WindowsPath('Dataset/Positive/00251.jpg'),\n",
       " WindowsPath('Dataset/Positive/00252.jpg'),\n",
       " WindowsPath('Dataset/Positive/00253.jpg'),\n",
       " WindowsPath('Dataset/Positive/00254.jpg'),\n",
       " WindowsPath('Dataset/Positive/00255.jpg'),\n",
       " WindowsPath('Dataset/Positive/00256.jpg'),\n",
       " WindowsPath('Dataset/Positive/00257.jpg'),\n",
       " WindowsPath('Dataset/Positive/00258.jpg'),\n",
       " WindowsPath('Dataset/Positive/00259.jpg'),\n",
       " WindowsPath('Dataset/Positive/00260.jpg'),\n",
       " WindowsPath('Dataset/Positive/00261.jpg'),\n",
       " WindowsPath('Dataset/Positive/00262.jpg'),\n",
       " WindowsPath('Dataset/Positive/00263.jpg'),\n",
       " WindowsPath('Dataset/Positive/00264.jpg'),\n",
       " WindowsPath('Dataset/Positive/00265.jpg'),\n",
       " WindowsPath('Dataset/Positive/00266.jpg'),\n",
       " WindowsPath('Dataset/Positive/00267.jpg'),\n",
       " WindowsPath('Dataset/Positive/00268.jpg'),\n",
       " WindowsPath('Dataset/Positive/00269.jpg'),\n",
       " WindowsPath('Dataset/Positive/00270.jpg'),\n",
       " WindowsPath('Dataset/Positive/00271.jpg'),\n",
       " WindowsPath('Dataset/Positive/00272.jpg'),\n",
       " WindowsPath('Dataset/Positive/00273.jpg'),\n",
       " WindowsPath('Dataset/Positive/00274.jpg'),\n",
       " WindowsPath('Dataset/Positive/00275.jpg'),\n",
       " WindowsPath('Dataset/Positive/00276.jpg'),\n",
       " WindowsPath('Dataset/Positive/00277.jpg'),\n",
       " WindowsPath('Dataset/Positive/00278.jpg'),\n",
       " WindowsPath('Dataset/Positive/00279.jpg'),\n",
       " WindowsPath('Dataset/Positive/00280.jpg'),\n",
       " WindowsPath('Dataset/Positive/00281.jpg'),\n",
       " WindowsPath('Dataset/Positive/00282.jpg'),\n",
       " WindowsPath('Dataset/Positive/00283.jpg'),\n",
       " WindowsPath('Dataset/Positive/00284.jpg'),\n",
       " WindowsPath('Dataset/Positive/00285.jpg'),\n",
       " WindowsPath('Dataset/Positive/00286.jpg'),\n",
       " WindowsPath('Dataset/Positive/00287.jpg'),\n",
       " WindowsPath('Dataset/Positive/00288.jpg'),\n",
       " WindowsPath('Dataset/Positive/00289.jpg'),\n",
       " WindowsPath('Dataset/Positive/00290.jpg'),\n",
       " WindowsPath('Dataset/Positive/00291.jpg'),\n",
       " WindowsPath('Dataset/Positive/00292.jpg'),\n",
       " WindowsPath('Dataset/Positive/00293.jpg'),\n",
       " WindowsPath('Dataset/Positive/00294.jpg'),\n",
       " WindowsPath('Dataset/Positive/00295.jpg'),\n",
       " WindowsPath('Dataset/Positive/00296.jpg'),\n",
       " WindowsPath('Dataset/Positive/00297.jpg'),\n",
       " WindowsPath('Dataset/Positive/00298.jpg'),\n",
       " WindowsPath('Dataset/Positive/00299.jpg'),\n",
       " WindowsPath('Dataset/Positive/00300.jpg'),\n",
       " WindowsPath('Dataset/Positive/00301.jpg'),\n",
       " WindowsPath('Dataset/Positive/00302.jpg'),\n",
       " WindowsPath('Dataset/Positive/00303.jpg'),\n",
       " WindowsPath('Dataset/Positive/00304.jpg'),\n",
       " WindowsPath('Dataset/Positive/00305.jpg'),\n",
       " WindowsPath('Dataset/Positive/00306.jpg'),\n",
       " WindowsPath('Dataset/Positive/00307.jpg'),\n",
       " WindowsPath('Dataset/Positive/00308.jpg'),\n",
       " WindowsPath('Dataset/Positive/00309.jpg'),\n",
       " WindowsPath('Dataset/Positive/00310.jpg'),\n",
       " WindowsPath('Dataset/Positive/00311.jpg'),\n",
       " WindowsPath('Dataset/Positive/00312.jpg'),\n",
       " WindowsPath('Dataset/Positive/00313.jpg'),\n",
       " WindowsPath('Dataset/Positive/00314.jpg'),\n",
       " WindowsPath('Dataset/Positive/00315.jpg'),\n",
       " WindowsPath('Dataset/Positive/00316.jpg'),\n",
       " WindowsPath('Dataset/Positive/00317.jpg'),\n",
       " WindowsPath('Dataset/Positive/00318.jpg'),\n",
       " WindowsPath('Dataset/Positive/00319.jpg'),\n",
       " WindowsPath('Dataset/Positive/00320.jpg'),\n",
       " WindowsPath('Dataset/Positive/00321.jpg'),\n",
       " WindowsPath('Dataset/Positive/00322.jpg'),\n",
       " WindowsPath('Dataset/Positive/00323.jpg'),\n",
       " WindowsPath('Dataset/Positive/00324.jpg'),\n",
       " WindowsPath('Dataset/Positive/00325.jpg'),\n",
       " WindowsPath('Dataset/Positive/00326.jpg'),\n",
       " WindowsPath('Dataset/Positive/00327.jpg'),\n",
       " WindowsPath('Dataset/Positive/00328.jpg'),\n",
       " WindowsPath('Dataset/Positive/00329.jpg'),\n",
       " WindowsPath('Dataset/Positive/00330.jpg'),\n",
       " WindowsPath('Dataset/Positive/00331.jpg'),\n",
       " WindowsPath('Dataset/Positive/00332.jpg'),\n",
       " WindowsPath('Dataset/Positive/00333.jpg'),\n",
       " WindowsPath('Dataset/Positive/00334.jpg'),\n",
       " WindowsPath('Dataset/Positive/00335.jpg'),\n",
       " WindowsPath('Dataset/Positive/00336.jpg'),\n",
       " WindowsPath('Dataset/Positive/00337.jpg'),\n",
       " WindowsPath('Dataset/Positive/00338.jpg'),\n",
       " WindowsPath('Dataset/Positive/00339.jpg'),\n",
       " WindowsPath('Dataset/Positive/00340.jpg'),\n",
       " WindowsPath('Dataset/Positive/00341.jpg'),\n",
       " WindowsPath('Dataset/Positive/00342.jpg'),\n",
       " WindowsPath('Dataset/Positive/00343.jpg'),\n",
       " WindowsPath('Dataset/Positive/00344.jpg'),\n",
       " WindowsPath('Dataset/Positive/00345.jpg'),\n",
       " WindowsPath('Dataset/Positive/00346.jpg'),\n",
       " WindowsPath('Dataset/Positive/00347.jpg'),\n",
       " WindowsPath('Dataset/Positive/00348.jpg'),\n",
       " WindowsPath('Dataset/Positive/00349.jpg'),\n",
       " WindowsPath('Dataset/Positive/00350.jpg'),\n",
       " WindowsPath('Dataset/Positive/00351.jpg'),\n",
       " WindowsPath('Dataset/Positive/00352.jpg'),\n",
       " WindowsPath('Dataset/Positive/00353.jpg'),\n",
       " WindowsPath('Dataset/Positive/00354.jpg'),\n",
       " WindowsPath('Dataset/Positive/00355.jpg'),\n",
       " WindowsPath('Dataset/Positive/00356.jpg'),\n",
       " WindowsPath('Dataset/Positive/00357.jpg'),\n",
       " WindowsPath('Dataset/Positive/00358.jpg'),\n",
       " WindowsPath('Dataset/Positive/00359.jpg'),\n",
       " WindowsPath('Dataset/Positive/00360.jpg'),\n",
       " WindowsPath('Dataset/Positive/00361.jpg'),\n",
       " WindowsPath('Dataset/Positive/00362.jpg'),\n",
       " WindowsPath('Dataset/Positive/00363.jpg'),\n",
       " WindowsPath('Dataset/Positive/00364.jpg'),\n",
       " WindowsPath('Dataset/Positive/00365.jpg'),\n",
       " WindowsPath('Dataset/Positive/00366.jpg'),\n",
       " WindowsPath('Dataset/Positive/00367.jpg'),\n",
       " WindowsPath('Dataset/Positive/00368.jpg'),\n",
       " WindowsPath('Dataset/Positive/00369.jpg'),\n",
       " WindowsPath('Dataset/Positive/00370.jpg'),\n",
       " WindowsPath('Dataset/Positive/00371.jpg'),\n",
       " WindowsPath('Dataset/Positive/00372.jpg'),\n",
       " WindowsPath('Dataset/Positive/00373.jpg'),\n",
       " WindowsPath('Dataset/Positive/00374.jpg'),\n",
       " WindowsPath('Dataset/Positive/00375.jpg'),\n",
       " WindowsPath('Dataset/Positive/00376.jpg'),\n",
       " WindowsPath('Dataset/Positive/00377.jpg'),\n",
       " WindowsPath('Dataset/Positive/00378.jpg'),\n",
       " WindowsPath('Dataset/Positive/00379.jpg'),\n",
       " WindowsPath('Dataset/Positive/00380.jpg'),\n",
       " WindowsPath('Dataset/Positive/00381.jpg'),\n",
       " WindowsPath('Dataset/Positive/00382.jpg'),\n",
       " WindowsPath('Dataset/Positive/00383.jpg'),\n",
       " WindowsPath('Dataset/Positive/00384.jpg'),\n",
       " WindowsPath('Dataset/Positive/00385.jpg'),\n",
       " WindowsPath('Dataset/Positive/00386.jpg'),\n",
       " WindowsPath('Dataset/Positive/00387.jpg'),\n",
       " WindowsPath('Dataset/Positive/00388.jpg'),\n",
       " WindowsPath('Dataset/Positive/00389.jpg'),\n",
       " WindowsPath('Dataset/Positive/00390.jpg'),\n",
       " WindowsPath('Dataset/Positive/00391.jpg'),\n",
       " WindowsPath('Dataset/Positive/00392.jpg'),\n",
       " WindowsPath('Dataset/Positive/00393.jpg'),\n",
       " WindowsPath('Dataset/Positive/00394.jpg'),\n",
       " WindowsPath('Dataset/Positive/00395.jpg'),\n",
       " WindowsPath('Dataset/Positive/00396.jpg'),\n",
       " WindowsPath('Dataset/Positive/00397.jpg'),\n",
       " WindowsPath('Dataset/Positive/00398.jpg'),\n",
       " WindowsPath('Dataset/Positive/00399.jpg'),\n",
       " WindowsPath('Dataset/Positive/00400.jpg'),\n",
       " WindowsPath('Dataset/Positive/00401.jpg'),\n",
       " WindowsPath('Dataset/Positive/00402.jpg'),\n",
       " WindowsPath('Dataset/Positive/00403.jpg'),\n",
       " WindowsPath('Dataset/Positive/00404.jpg'),\n",
       " WindowsPath('Dataset/Positive/00405.jpg'),\n",
       " WindowsPath('Dataset/Positive/00406.jpg'),\n",
       " WindowsPath('Dataset/Positive/00407.jpg'),\n",
       " WindowsPath('Dataset/Positive/00408.jpg'),\n",
       " WindowsPath('Dataset/Positive/00409.jpg'),\n",
       " WindowsPath('Dataset/Positive/00410.jpg'),\n",
       " WindowsPath('Dataset/Positive/00411.jpg'),\n",
       " WindowsPath('Dataset/Positive/00412.jpg'),\n",
       " WindowsPath('Dataset/Positive/00413.jpg'),\n",
       " WindowsPath('Dataset/Positive/00414.jpg'),\n",
       " WindowsPath('Dataset/Positive/00415.jpg'),\n",
       " WindowsPath('Dataset/Positive/00416.jpg'),\n",
       " WindowsPath('Dataset/Positive/00417.jpg'),\n",
       " WindowsPath('Dataset/Positive/00418.jpg'),\n",
       " WindowsPath('Dataset/Positive/00419.jpg'),\n",
       " WindowsPath('Dataset/Positive/00420.jpg'),\n",
       " WindowsPath('Dataset/Positive/00421.jpg'),\n",
       " WindowsPath('Dataset/Positive/00422.jpg'),\n",
       " WindowsPath('Dataset/Positive/00423.jpg'),\n",
       " WindowsPath('Dataset/Positive/00424.jpg'),\n",
       " WindowsPath('Dataset/Positive/00425.jpg'),\n",
       " WindowsPath('Dataset/Positive/00426.jpg'),\n",
       " WindowsPath('Dataset/Positive/00427.jpg'),\n",
       " WindowsPath('Dataset/Positive/00428.jpg'),\n",
       " WindowsPath('Dataset/Positive/00429.jpg'),\n",
       " WindowsPath('Dataset/Positive/00430.jpg'),\n",
       " WindowsPath('Dataset/Positive/00431.jpg'),\n",
       " WindowsPath('Dataset/Positive/00432.jpg'),\n",
       " WindowsPath('Dataset/Positive/00433.jpg'),\n",
       " WindowsPath('Dataset/Positive/00434.jpg'),\n",
       " WindowsPath('Dataset/Positive/00435.jpg'),\n",
       " WindowsPath('Dataset/Positive/00436.jpg'),\n",
       " WindowsPath('Dataset/Positive/00437.jpg'),\n",
       " WindowsPath('Dataset/Positive/00438.jpg'),\n",
       " WindowsPath('Dataset/Positive/00439.jpg'),\n",
       " WindowsPath('Dataset/Positive/00440.jpg'),\n",
       " WindowsPath('Dataset/Positive/00441.jpg'),\n",
       " WindowsPath('Dataset/Positive/00442.jpg'),\n",
       " WindowsPath('Dataset/Positive/00443.jpg'),\n",
       " WindowsPath('Dataset/Positive/00444.jpg'),\n",
       " WindowsPath('Dataset/Positive/00445.jpg'),\n",
       " WindowsPath('Dataset/Positive/00446.jpg'),\n",
       " WindowsPath('Dataset/Positive/00447.jpg'),\n",
       " WindowsPath('Dataset/Positive/00448.jpg'),\n",
       " WindowsPath('Dataset/Positive/00449.jpg'),\n",
       " WindowsPath('Dataset/Positive/00450.jpg'),\n",
       " WindowsPath('Dataset/Positive/00451.jpg'),\n",
       " WindowsPath('Dataset/Positive/00452.jpg'),\n",
       " WindowsPath('Dataset/Positive/00453.jpg'),\n",
       " WindowsPath('Dataset/Positive/00454.jpg'),\n",
       " WindowsPath('Dataset/Positive/00455.jpg'),\n",
       " WindowsPath('Dataset/Positive/00456.jpg'),\n",
       " WindowsPath('Dataset/Positive/00457.jpg'),\n",
       " WindowsPath('Dataset/Positive/00458.jpg'),\n",
       " WindowsPath('Dataset/Positive/00459.jpg'),\n",
       " WindowsPath('Dataset/Positive/00460.jpg'),\n",
       " WindowsPath('Dataset/Positive/00461.jpg'),\n",
       " WindowsPath('Dataset/Positive/00462.jpg'),\n",
       " WindowsPath('Dataset/Positive/00463.jpg'),\n",
       " WindowsPath('Dataset/Positive/00464.jpg'),\n",
       " WindowsPath('Dataset/Positive/00465.jpg'),\n",
       " WindowsPath('Dataset/Positive/00466.jpg'),\n",
       " WindowsPath('Dataset/Positive/00467.jpg'),\n",
       " WindowsPath('Dataset/Positive/00468.jpg'),\n",
       " WindowsPath('Dataset/Positive/00469.jpg'),\n",
       " WindowsPath('Dataset/Positive/00470.jpg'),\n",
       " WindowsPath('Dataset/Positive/00471.jpg'),\n",
       " WindowsPath('Dataset/Positive/00472.jpg'),\n",
       " WindowsPath('Dataset/Positive/00473.jpg'),\n",
       " WindowsPath('Dataset/Positive/00474.jpg'),\n",
       " WindowsPath('Dataset/Positive/00475.jpg'),\n",
       " WindowsPath('Dataset/Positive/00476.jpg'),\n",
       " WindowsPath('Dataset/Positive/00477.jpg'),\n",
       " WindowsPath('Dataset/Positive/00478.jpg'),\n",
       " WindowsPath('Dataset/Positive/00479.jpg'),\n",
       " WindowsPath('Dataset/Positive/00480.jpg'),\n",
       " WindowsPath('Dataset/Positive/00481.jpg'),\n",
       " WindowsPath('Dataset/Positive/00482.jpg'),\n",
       " WindowsPath('Dataset/Positive/00483.jpg'),\n",
       " WindowsPath('Dataset/Positive/00484.jpg'),\n",
       " WindowsPath('Dataset/Positive/00485.jpg'),\n",
       " WindowsPath('Dataset/Positive/00486.jpg'),\n",
       " WindowsPath('Dataset/Positive/00487.jpg'),\n",
       " WindowsPath('Dataset/Positive/00488.jpg'),\n",
       " WindowsPath('Dataset/Positive/00489.jpg'),\n",
       " WindowsPath('Dataset/Positive/00490.jpg'),\n",
       " WindowsPath('Dataset/Positive/00491.jpg'),\n",
       " WindowsPath('Dataset/Positive/00492.jpg'),\n",
       " WindowsPath('Dataset/Positive/00493.jpg'),\n",
       " WindowsPath('Dataset/Positive/00494.jpg'),\n",
       " WindowsPath('Dataset/Positive/00495.jpg'),\n",
       " WindowsPath('Dataset/Positive/00496.jpg'),\n",
       " WindowsPath('Dataset/Positive/00497.jpg'),\n",
       " WindowsPath('Dataset/Positive/00498.jpg'),\n",
       " WindowsPath('Dataset/Positive/00499.jpg'),\n",
       " WindowsPath('Dataset/Positive/00500.jpg'),\n",
       " WindowsPath('Dataset/Positive/00501.jpg'),\n",
       " WindowsPath('Dataset/Positive/00502.jpg'),\n",
       " WindowsPath('Dataset/Positive/00503.jpg'),\n",
       " WindowsPath('Dataset/Positive/00504.jpg'),\n",
       " WindowsPath('Dataset/Positive/00505.jpg'),\n",
       " WindowsPath('Dataset/Positive/00506.jpg'),\n",
       " WindowsPath('Dataset/Positive/00507.jpg'),\n",
       " WindowsPath('Dataset/Positive/00508.jpg'),\n",
       " WindowsPath('Dataset/Positive/00509.jpg'),\n",
       " WindowsPath('Dataset/Positive/00510.jpg'),\n",
       " WindowsPath('Dataset/Positive/00511.jpg'),\n",
       " WindowsPath('Dataset/Positive/00512.jpg'),\n",
       " WindowsPath('Dataset/Positive/00513.jpg'),\n",
       " WindowsPath('Dataset/Positive/00514.jpg'),\n",
       " WindowsPath('Dataset/Positive/00515.jpg'),\n",
       " WindowsPath('Dataset/Positive/00516.jpg'),\n",
       " WindowsPath('Dataset/Positive/00517.jpg'),\n",
       " WindowsPath('Dataset/Positive/00518.jpg'),\n",
       " WindowsPath('Dataset/Positive/00519.jpg'),\n",
       " WindowsPath('Dataset/Positive/00520.jpg'),\n",
       " WindowsPath('Dataset/Positive/00521.jpg'),\n",
       " WindowsPath('Dataset/Positive/00522.jpg'),\n",
       " WindowsPath('Dataset/Positive/00523.jpg'),\n",
       " WindowsPath('Dataset/Positive/00524.jpg'),\n",
       " WindowsPath('Dataset/Positive/00525.jpg'),\n",
       " WindowsPath('Dataset/Positive/00526.jpg'),\n",
       " WindowsPath('Dataset/Positive/00527.jpg'),\n",
       " WindowsPath('Dataset/Positive/00528.jpg'),\n",
       " WindowsPath('Dataset/Positive/00529.jpg'),\n",
       " WindowsPath('Dataset/Positive/00530.jpg'),\n",
       " WindowsPath('Dataset/Positive/00531.jpg'),\n",
       " WindowsPath('Dataset/Positive/00532.jpg'),\n",
       " WindowsPath('Dataset/Positive/00533.jpg'),\n",
       " WindowsPath('Dataset/Positive/00534.jpg'),\n",
       " WindowsPath('Dataset/Positive/00535.jpg'),\n",
       " WindowsPath('Dataset/Positive/00536.jpg'),\n",
       " WindowsPath('Dataset/Positive/00537.jpg'),\n",
       " WindowsPath('Dataset/Positive/00538.jpg'),\n",
       " WindowsPath('Dataset/Positive/00539.jpg'),\n",
       " WindowsPath('Dataset/Positive/00540.jpg'),\n",
       " WindowsPath('Dataset/Positive/00541.jpg'),\n",
       " WindowsPath('Dataset/Positive/00542.jpg'),\n",
       " WindowsPath('Dataset/Positive/00543.jpg'),\n",
       " WindowsPath('Dataset/Positive/00544.jpg'),\n",
       " WindowsPath('Dataset/Positive/00545.jpg'),\n",
       " WindowsPath('Dataset/Positive/00546.jpg'),\n",
       " WindowsPath('Dataset/Positive/00547.jpg'),\n",
       " WindowsPath('Dataset/Positive/00548.jpg'),\n",
       " WindowsPath('Dataset/Positive/00549.jpg'),\n",
       " WindowsPath('Dataset/Positive/00550.jpg'),\n",
       " WindowsPath('Dataset/Positive/00551.jpg'),\n",
       " WindowsPath('Dataset/Positive/00552.jpg'),\n",
       " WindowsPath('Dataset/Positive/00553.jpg'),\n",
       " WindowsPath('Dataset/Positive/00554.jpg'),\n",
       " WindowsPath('Dataset/Positive/00555.jpg'),\n",
       " WindowsPath('Dataset/Positive/00556.jpg'),\n",
       " WindowsPath('Dataset/Positive/00557.jpg'),\n",
       " WindowsPath('Dataset/Positive/00558.jpg'),\n",
       " WindowsPath('Dataset/Positive/00559.jpg'),\n",
       " WindowsPath('Dataset/Positive/00560.jpg'),\n",
       " WindowsPath('Dataset/Positive/00561.jpg'),\n",
       " WindowsPath('Dataset/Positive/00562.jpg'),\n",
       " WindowsPath('Dataset/Positive/00563.jpg'),\n",
       " WindowsPath('Dataset/Positive/00564.jpg'),\n",
       " WindowsPath('Dataset/Positive/00565.jpg'),\n",
       " WindowsPath('Dataset/Positive/00566.jpg'),\n",
       " WindowsPath('Dataset/Positive/00567.jpg'),\n",
       " WindowsPath('Dataset/Positive/00568.jpg'),\n",
       " WindowsPath('Dataset/Positive/00569.jpg'),\n",
       " WindowsPath('Dataset/Positive/00570.jpg'),\n",
       " WindowsPath('Dataset/Positive/00571.jpg'),\n",
       " WindowsPath('Dataset/Positive/00572.jpg'),\n",
       " WindowsPath('Dataset/Positive/00573.jpg'),\n",
       " WindowsPath('Dataset/Positive/00574.jpg'),\n",
       " WindowsPath('Dataset/Positive/00575.jpg'),\n",
       " WindowsPath('Dataset/Positive/00576.jpg'),\n",
       " WindowsPath('Dataset/Positive/00577.jpg'),\n",
       " WindowsPath('Dataset/Positive/00578.jpg'),\n",
       " WindowsPath('Dataset/Positive/00579.jpg'),\n",
       " WindowsPath('Dataset/Positive/00580.jpg'),\n",
       " WindowsPath('Dataset/Positive/00581.jpg'),\n",
       " WindowsPath('Dataset/Positive/00582.jpg'),\n",
       " WindowsPath('Dataset/Positive/00583.jpg'),\n",
       " WindowsPath('Dataset/Positive/00584.jpg'),\n",
       " WindowsPath('Dataset/Positive/00585.jpg'),\n",
       " WindowsPath('Dataset/Positive/00586.jpg'),\n",
       " WindowsPath('Dataset/Positive/00587.jpg'),\n",
       " WindowsPath('Dataset/Positive/00588.jpg'),\n",
       " WindowsPath('Dataset/Positive/00589.jpg'),\n",
       " WindowsPath('Dataset/Positive/00590.jpg'),\n",
       " WindowsPath('Dataset/Positive/00591.jpg'),\n",
       " WindowsPath('Dataset/Positive/00592.jpg'),\n",
       " WindowsPath('Dataset/Positive/00593.jpg'),\n",
       " WindowsPath('Dataset/Positive/00594.jpg'),\n",
       " WindowsPath('Dataset/Positive/00595.jpg'),\n",
       " WindowsPath('Dataset/Positive/00596.jpg'),\n",
       " WindowsPath('Dataset/Positive/00597.jpg'),\n",
       " WindowsPath('Dataset/Positive/00598.jpg'),\n",
       " WindowsPath('Dataset/Positive/00599.jpg'),\n",
       " WindowsPath('Dataset/Positive/00600.jpg'),\n",
       " WindowsPath('Dataset/Positive/00601.jpg'),\n",
       " WindowsPath('Dataset/Positive/00602.jpg'),\n",
       " WindowsPath('Dataset/Positive/00603.jpg'),\n",
       " WindowsPath('Dataset/Positive/00604.jpg'),\n",
       " WindowsPath('Dataset/Positive/00605.jpg'),\n",
       " WindowsPath('Dataset/Positive/00606.jpg'),\n",
       " WindowsPath('Dataset/Positive/00607.jpg'),\n",
       " WindowsPath('Dataset/Positive/00608.jpg'),\n",
       " WindowsPath('Dataset/Positive/00609.jpg'),\n",
       " WindowsPath('Dataset/Positive/00610.jpg'),\n",
       " WindowsPath('Dataset/Positive/00611.jpg'),\n",
       " WindowsPath('Dataset/Positive/00612.jpg'),\n",
       " WindowsPath('Dataset/Positive/00613.jpg'),\n",
       " WindowsPath('Dataset/Positive/00614.jpg'),\n",
       " WindowsPath('Dataset/Positive/00615.jpg'),\n",
       " WindowsPath('Dataset/Positive/00616.jpg'),\n",
       " WindowsPath('Dataset/Positive/00617.jpg'),\n",
       " WindowsPath('Dataset/Positive/00618.jpg'),\n",
       " WindowsPath('Dataset/Positive/00619.jpg'),\n",
       " WindowsPath('Dataset/Positive/00620.jpg'),\n",
       " WindowsPath('Dataset/Positive/00621.jpg'),\n",
       " WindowsPath('Dataset/Positive/00622.jpg'),\n",
       " WindowsPath('Dataset/Positive/00623.jpg'),\n",
       " WindowsPath('Dataset/Positive/00624.jpg'),\n",
       " WindowsPath('Dataset/Positive/00625.jpg'),\n",
       " WindowsPath('Dataset/Positive/00626.jpg'),\n",
       " WindowsPath('Dataset/Positive/00627.jpg'),\n",
       " WindowsPath('Dataset/Positive/00628.jpg'),\n",
       " WindowsPath('Dataset/Positive/00629.jpg'),\n",
       " WindowsPath('Dataset/Positive/00630.jpg'),\n",
       " WindowsPath('Dataset/Positive/00631.jpg'),\n",
       " WindowsPath('Dataset/Positive/00632.jpg'),\n",
       " WindowsPath('Dataset/Positive/00633.jpg'),\n",
       " WindowsPath('Dataset/Positive/00634.jpg'),\n",
       " WindowsPath('Dataset/Positive/00635.jpg'),\n",
       " WindowsPath('Dataset/Positive/00636.jpg'),\n",
       " WindowsPath('Dataset/Positive/00637.jpg'),\n",
       " WindowsPath('Dataset/Positive/00638.jpg'),\n",
       " WindowsPath('Dataset/Positive/00639.jpg'),\n",
       " WindowsPath('Dataset/Positive/00640.jpg'),\n",
       " WindowsPath('Dataset/Positive/00641.jpg'),\n",
       " WindowsPath('Dataset/Positive/00642.jpg'),\n",
       " WindowsPath('Dataset/Positive/00643.jpg'),\n",
       " WindowsPath('Dataset/Positive/00644.jpg'),\n",
       " WindowsPath('Dataset/Positive/00645.jpg'),\n",
       " WindowsPath('Dataset/Positive/00646.jpg'),\n",
       " WindowsPath('Dataset/Positive/00647.jpg'),\n",
       " WindowsPath('Dataset/Positive/00648.jpg'),\n",
       " WindowsPath('Dataset/Positive/00649.jpg'),\n",
       " WindowsPath('Dataset/Positive/00650.jpg'),\n",
       " WindowsPath('Dataset/Positive/00651.jpg'),\n",
       " WindowsPath('Dataset/Positive/00652.jpg'),\n",
       " WindowsPath('Dataset/Positive/00653.jpg'),\n",
       " WindowsPath('Dataset/Positive/00654.jpg'),\n",
       " WindowsPath('Dataset/Positive/00655.jpg'),\n",
       " WindowsPath('Dataset/Positive/00656.jpg'),\n",
       " WindowsPath('Dataset/Positive/00657.jpg'),\n",
       " WindowsPath('Dataset/Positive/00658.jpg'),\n",
       " WindowsPath('Dataset/Positive/00659.jpg'),\n",
       " WindowsPath('Dataset/Positive/00660.jpg'),\n",
       " WindowsPath('Dataset/Positive/00661.jpg'),\n",
       " WindowsPath('Dataset/Positive/00662.jpg'),\n",
       " WindowsPath('Dataset/Positive/00663.jpg'),\n",
       " WindowsPath('Dataset/Positive/00664.jpg'),\n",
       " WindowsPath('Dataset/Positive/00665.jpg'),\n",
       " WindowsPath('Dataset/Positive/00666.jpg'),\n",
       " WindowsPath('Dataset/Positive/00667.jpg'),\n",
       " WindowsPath('Dataset/Positive/00668.jpg'),\n",
       " WindowsPath('Dataset/Positive/00669.jpg'),\n",
       " WindowsPath('Dataset/Positive/00670.jpg'),\n",
       " WindowsPath('Dataset/Positive/00671.jpg'),\n",
       " WindowsPath('Dataset/Positive/00672.jpg'),\n",
       " WindowsPath('Dataset/Positive/00673.jpg'),\n",
       " WindowsPath('Dataset/Positive/00674.jpg'),\n",
       " WindowsPath('Dataset/Positive/00675.jpg'),\n",
       " WindowsPath('Dataset/Positive/00676.jpg'),\n",
       " WindowsPath('Dataset/Positive/00677.jpg'),\n",
       " WindowsPath('Dataset/Positive/00678.jpg'),\n",
       " WindowsPath('Dataset/Positive/00679.jpg'),\n",
       " WindowsPath('Dataset/Positive/00680.jpg'),\n",
       " WindowsPath('Dataset/Positive/00681.jpg'),\n",
       " WindowsPath('Dataset/Positive/00682.jpg'),\n",
       " WindowsPath('Dataset/Positive/00683.jpg'),\n",
       " WindowsPath('Dataset/Positive/00684.jpg'),\n",
       " WindowsPath('Dataset/Positive/00685.jpg'),\n",
       " WindowsPath('Dataset/Positive/00686.jpg'),\n",
       " WindowsPath('Dataset/Positive/00687.jpg'),\n",
       " WindowsPath('Dataset/Positive/00688.jpg'),\n",
       " WindowsPath('Dataset/Positive/00689.jpg'),\n",
       " WindowsPath('Dataset/Positive/00690.jpg'),\n",
       " WindowsPath('Dataset/Positive/00691.jpg'),\n",
       " WindowsPath('Dataset/Positive/00692.jpg'),\n",
       " WindowsPath('Dataset/Positive/00693.jpg'),\n",
       " WindowsPath('Dataset/Positive/00694.jpg'),\n",
       " WindowsPath('Dataset/Positive/00695.jpg'),\n",
       " WindowsPath('Dataset/Positive/00696.jpg'),\n",
       " WindowsPath('Dataset/Positive/00697.jpg'),\n",
       " WindowsPath('Dataset/Positive/00698.jpg'),\n",
       " WindowsPath('Dataset/Positive/00699.jpg'),\n",
       " WindowsPath('Dataset/Positive/00700.jpg'),\n",
       " WindowsPath('Dataset/Positive/00701.jpg'),\n",
       " WindowsPath('Dataset/Positive/00702.jpg'),\n",
       " WindowsPath('Dataset/Positive/00703.jpg'),\n",
       " WindowsPath('Dataset/Positive/00704.jpg'),\n",
       " WindowsPath('Dataset/Positive/00705.jpg'),\n",
       " WindowsPath('Dataset/Positive/00706.jpg'),\n",
       " WindowsPath('Dataset/Positive/00707.jpg'),\n",
       " WindowsPath('Dataset/Positive/00708.jpg'),\n",
       " WindowsPath('Dataset/Positive/00709.jpg'),\n",
       " WindowsPath('Dataset/Positive/00710.jpg'),\n",
       " WindowsPath('Dataset/Positive/00711.jpg'),\n",
       " WindowsPath('Dataset/Positive/00712.jpg'),\n",
       " WindowsPath('Dataset/Positive/00713.jpg'),\n",
       " WindowsPath('Dataset/Positive/00714.jpg'),\n",
       " WindowsPath('Dataset/Positive/00715.jpg'),\n",
       " WindowsPath('Dataset/Positive/00716.jpg'),\n",
       " WindowsPath('Dataset/Positive/00717.jpg'),\n",
       " WindowsPath('Dataset/Positive/00718.jpg'),\n",
       " WindowsPath('Dataset/Positive/00719.jpg'),\n",
       " WindowsPath('Dataset/Positive/00720.jpg'),\n",
       " WindowsPath('Dataset/Positive/00721.jpg'),\n",
       " WindowsPath('Dataset/Positive/00722.jpg'),\n",
       " WindowsPath('Dataset/Positive/00723.jpg'),\n",
       " WindowsPath('Dataset/Positive/00724.jpg'),\n",
       " WindowsPath('Dataset/Positive/00725.jpg'),\n",
       " WindowsPath('Dataset/Positive/00726.jpg'),\n",
       " WindowsPath('Dataset/Positive/00727.jpg'),\n",
       " WindowsPath('Dataset/Positive/00728.jpg'),\n",
       " WindowsPath('Dataset/Positive/00729.jpg'),\n",
       " WindowsPath('Dataset/Positive/00730.jpg'),\n",
       " WindowsPath('Dataset/Positive/00731.jpg'),\n",
       " WindowsPath('Dataset/Positive/00732.jpg'),\n",
       " WindowsPath('Dataset/Positive/00733.jpg'),\n",
       " WindowsPath('Dataset/Positive/00734.jpg'),\n",
       " WindowsPath('Dataset/Positive/00735.jpg'),\n",
       " WindowsPath('Dataset/Positive/00736.jpg'),\n",
       " WindowsPath('Dataset/Positive/00737.jpg'),\n",
       " WindowsPath('Dataset/Positive/00738.jpg'),\n",
       " WindowsPath('Dataset/Positive/00739.jpg'),\n",
       " WindowsPath('Dataset/Positive/00740.jpg'),\n",
       " WindowsPath('Dataset/Positive/00741.jpg'),\n",
       " WindowsPath('Dataset/Positive/00742.jpg'),\n",
       " WindowsPath('Dataset/Positive/00743.jpg'),\n",
       " WindowsPath('Dataset/Positive/00744.jpg'),\n",
       " WindowsPath('Dataset/Positive/00745.jpg'),\n",
       " WindowsPath('Dataset/Positive/00746.jpg'),\n",
       " WindowsPath('Dataset/Positive/00747.jpg'),\n",
       " WindowsPath('Dataset/Positive/00748.jpg'),\n",
       " WindowsPath('Dataset/Positive/00749.jpg'),\n",
       " WindowsPath('Dataset/Positive/00750.jpg'),\n",
       " WindowsPath('Dataset/Positive/00751.jpg'),\n",
       " WindowsPath('Dataset/Positive/00752.jpg'),\n",
       " WindowsPath('Dataset/Positive/00753.jpg'),\n",
       " WindowsPath('Dataset/Positive/00754.jpg'),\n",
       " WindowsPath('Dataset/Positive/00755.jpg'),\n",
       " WindowsPath('Dataset/Positive/00756.jpg'),\n",
       " WindowsPath('Dataset/Positive/00757.jpg'),\n",
       " WindowsPath('Dataset/Positive/00758.jpg'),\n",
       " WindowsPath('Dataset/Positive/00759.jpg'),\n",
       " WindowsPath('Dataset/Positive/00760.jpg'),\n",
       " WindowsPath('Dataset/Positive/00761.jpg'),\n",
       " WindowsPath('Dataset/Positive/00762.jpg'),\n",
       " WindowsPath('Dataset/Positive/00763.jpg'),\n",
       " WindowsPath('Dataset/Positive/00764.jpg'),\n",
       " WindowsPath('Dataset/Positive/00765.jpg'),\n",
       " WindowsPath('Dataset/Positive/00766.jpg'),\n",
       " WindowsPath('Dataset/Positive/00767.jpg'),\n",
       " WindowsPath('Dataset/Positive/00768.jpg'),\n",
       " WindowsPath('Dataset/Positive/00769.jpg'),\n",
       " WindowsPath('Dataset/Positive/00770.jpg'),\n",
       " WindowsPath('Dataset/Positive/00771.jpg'),\n",
       " WindowsPath('Dataset/Positive/00772.jpg'),\n",
       " WindowsPath('Dataset/Positive/00773.jpg'),\n",
       " WindowsPath('Dataset/Positive/00774.jpg'),\n",
       " WindowsPath('Dataset/Positive/00775.jpg'),\n",
       " WindowsPath('Dataset/Positive/00776.jpg'),\n",
       " WindowsPath('Dataset/Positive/00777.jpg'),\n",
       " WindowsPath('Dataset/Positive/00778.jpg'),\n",
       " WindowsPath('Dataset/Positive/00779.jpg'),\n",
       " WindowsPath('Dataset/Positive/00780.jpg'),\n",
       " WindowsPath('Dataset/Positive/00781.jpg'),\n",
       " WindowsPath('Dataset/Positive/00782.jpg'),\n",
       " WindowsPath('Dataset/Positive/00783.jpg'),\n",
       " WindowsPath('Dataset/Positive/00784.jpg'),\n",
       " WindowsPath('Dataset/Positive/00785.jpg'),\n",
       " WindowsPath('Dataset/Positive/00786.jpg'),\n",
       " WindowsPath('Dataset/Positive/00787.jpg'),\n",
       " WindowsPath('Dataset/Positive/00788.jpg'),\n",
       " WindowsPath('Dataset/Positive/00789.jpg'),\n",
       " WindowsPath('Dataset/Positive/00790.jpg'),\n",
       " WindowsPath('Dataset/Positive/00791.jpg'),\n",
       " WindowsPath('Dataset/Positive/00792.jpg'),\n",
       " WindowsPath('Dataset/Positive/00793.jpg'),\n",
       " WindowsPath('Dataset/Positive/00794.jpg'),\n",
       " WindowsPath('Dataset/Positive/00795.jpg'),\n",
       " WindowsPath('Dataset/Positive/00796.jpg'),\n",
       " WindowsPath('Dataset/Positive/00797.jpg'),\n",
       " WindowsPath('Dataset/Positive/00798.jpg'),\n",
       " WindowsPath('Dataset/Positive/00799.jpg'),\n",
       " WindowsPath('Dataset/Positive/00800.jpg'),\n",
       " WindowsPath('Dataset/Positive/00801.jpg'),\n",
       " WindowsPath('Dataset/Positive/00802.jpg'),\n",
       " WindowsPath('Dataset/Positive/00803.jpg'),\n",
       " WindowsPath('Dataset/Positive/00804.jpg'),\n",
       " WindowsPath('Dataset/Positive/00805.jpg'),\n",
       " WindowsPath('Dataset/Positive/00806.jpg'),\n",
       " WindowsPath('Dataset/Positive/00807.jpg'),\n",
       " WindowsPath('Dataset/Positive/00808.jpg'),\n",
       " WindowsPath('Dataset/Positive/00809.jpg'),\n",
       " WindowsPath('Dataset/Positive/00810.jpg'),\n",
       " WindowsPath('Dataset/Positive/00811.jpg'),\n",
       " WindowsPath('Dataset/Positive/00812.jpg'),\n",
       " WindowsPath('Dataset/Positive/00813.jpg'),\n",
       " WindowsPath('Dataset/Positive/00814.jpg'),\n",
       " WindowsPath('Dataset/Positive/00815.jpg'),\n",
       " WindowsPath('Dataset/Positive/00816.jpg'),\n",
       " WindowsPath('Dataset/Positive/00817.jpg'),\n",
       " WindowsPath('Dataset/Positive/00818.jpg'),\n",
       " WindowsPath('Dataset/Positive/00819.jpg'),\n",
       " WindowsPath('Dataset/Positive/00820.jpg'),\n",
       " WindowsPath('Dataset/Positive/00821.jpg'),\n",
       " WindowsPath('Dataset/Positive/00822.jpg'),\n",
       " WindowsPath('Dataset/Positive/00823.jpg'),\n",
       " WindowsPath('Dataset/Positive/00824.jpg'),\n",
       " WindowsPath('Dataset/Positive/00825.jpg'),\n",
       " WindowsPath('Dataset/Positive/00826.jpg'),\n",
       " WindowsPath('Dataset/Positive/00827.jpg'),\n",
       " WindowsPath('Dataset/Positive/00828.jpg'),\n",
       " WindowsPath('Dataset/Positive/00829.jpg'),\n",
       " WindowsPath('Dataset/Positive/00830.jpg'),\n",
       " WindowsPath('Dataset/Positive/00831.jpg'),\n",
       " WindowsPath('Dataset/Positive/00832.jpg'),\n",
       " WindowsPath('Dataset/Positive/00833.jpg'),\n",
       " WindowsPath('Dataset/Positive/00834.jpg'),\n",
       " WindowsPath('Dataset/Positive/00835.jpg'),\n",
       " WindowsPath('Dataset/Positive/00836.jpg'),\n",
       " WindowsPath('Dataset/Positive/00837.jpg'),\n",
       " WindowsPath('Dataset/Positive/00838.jpg'),\n",
       " WindowsPath('Dataset/Positive/00839.jpg'),\n",
       " WindowsPath('Dataset/Positive/00840.jpg'),\n",
       " WindowsPath('Dataset/Positive/00841.jpg'),\n",
       " WindowsPath('Dataset/Positive/00842.jpg'),\n",
       " WindowsPath('Dataset/Positive/00843.jpg'),\n",
       " WindowsPath('Dataset/Positive/00844.jpg'),\n",
       " WindowsPath('Dataset/Positive/00845.jpg'),\n",
       " WindowsPath('Dataset/Positive/00846.jpg'),\n",
       " WindowsPath('Dataset/Positive/00847.jpg'),\n",
       " WindowsPath('Dataset/Positive/00848.jpg'),\n",
       " WindowsPath('Dataset/Positive/00849.jpg'),\n",
       " WindowsPath('Dataset/Positive/00850.jpg'),\n",
       " WindowsPath('Dataset/Positive/00851.jpg'),\n",
       " WindowsPath('Dataset/Positive/00852.jpg'),\n",
       " WindowsPath('Dataset/Positive/00853.jpg'),\n",
       " WindowsPath('Dataset/Positive/00854.jpg'),\n",
       " WindowsPath('Dataset/Positive/00855.jpg'),\n",
       " WindowsPath('Dataset/Positive/00856.jpg'),\n",
       " WindowsPath('Dataset/Positive/00857.jpg'),\n",
       " WindowsPath('Dataset/Positive/00858.jpg'),\n",
       " WindowsPath('Dataset/Positive/00859.jpg'),\n",
       " WindowsPath('Dataset/Positive/00860.jpg'),\n",
       " WindowsPath('Dataset/Positive/00861.jpg'),\n",
       " WindowsPath('Dataset/Positive/00862.jpg'),\n",
       " WindowsPath('Dataset/Positive/00863.jpg'),\n",
       " WindowsPath('Dataset/Positive/00864.jpg'),\n",
       " WindowsPath('Dataset/Positive/00865.jpg'),\n",
       " WindowsPath('Dataset/Positive/00866.jpg'),\n",
       " WindowsPath('Dataset/Positive/00867.jpg'),\n",
       " WindowsPath('Dataset/Positive/00868.jpg'),\n",
       " WindowsPath('Dataset/Positive/00869.jpg'),\n",
       " WindowsPath('Dataset/Positive/00870.jpg'),\n",
       " WindowsPath('Dataset/Positive/00871.jpg'),\n",
       " WindowsPath('Dataset/Positive/00872.jpg'),\n",
       " WindowsPath('Dataset/Positive/00873.jpg'),\n",
       " WindowsPath('Dataset/Positive/00874.jpg'),\n",
       " WindowsPath('Dataset/Positive/00875.jpg'),\n",
       " WindowsPath('Dataset/Positive/00876.jpg'),\n",
       " WindowsPath('Dataset/Positive/00877.jpg'),\n",
       " WindowsPath('Dataset/Positive/00878.jpg'),\n",
       " WindowsPath('Dataset/Positive/00879.jpg'),\n",
       " WindowsPath('Dataset/Positive/00880.jpg'),\n",
       " WindowsPath('Dataset/Positive/00881.jpg'),\n",
       " WindowsPath('Dataset/Positive/00882.jpg'),\n",
       " WindowsPath('Dataset/Positive/00883.jpg'),\n",
       " WindowsPath('Dataset/Positive/00884.jpg'),\n",
       " WindowsPath('Dataset/Positive/00885.jpg'),\n",
       " WindowsPath('Dataset/Positive/00886.jpg'),\n",
       " WindowsPath('Dataset/Positive/00887.jpg'),\n",
       " WindowsPath('Dataset/Positive/00888.jpg'),\n",
       " WindowsPath('Dataset/Positive/00889.jpg'),\n",
       " WindowsPath('Dataset/Positive/00890.jpg'),\n",
       " WindowsPath('Dataset/Positive/00891.jpg'),\n",
       " WindowsPath('Dataset/Positive/00892.jpg'),\n",
       " WindowsPath('Dataset/Positive/00893.jpg'),\n",
       " WindowsPath('Dataset/Positive/00894.jpg'),\n",
       " WindowsPath('Dataset/Positive/00895.jpg'),\n",
       " WindowsPath('Dataset/Positive/00896.jpg'),\n",
       " WindowsPath('Dataset/Positive/00897.jpg'),\n",
       " WindowsPath('Dataset/Positive/00898.jpg'),\n",
       " WindowsPath('Dataset/Positive/00899.jpg'),\n",
       " WindowsPath('Dataset/Positive/00900.jpg'),\n",
       " WindowsPath('Dataset/Positive/00901.jpg'),\n",
       " WindowsPath('Dataset/Positive/00902.jpg'),\n",
       " WindowsPath('Dataset/Positive/00903.jpg'),\n",
       " WindowsPath('Dataset/Positive/00904.jpg'),\n",
       " WindowsPath('Dataset/Positive/00905.jpg'),\n",
       " WindowsPath('Dataset/Positive/00906.jpg'),\n",
       " WindowsPath('Dataset/Positive/00907.jpg'),\n",
       " WindowsPath('Dataset/Positive/00908.jpg'),\n",
       " WindowsPath('Dataset/Positive/00909.jpg'),\n",
       " WindowsPath('Dataset/Positive/00910.jpg'),\n",
       " WindowsPath('Dataset/Positive/00911.jpg'),\n",
       " WindowsPath('Dataset/Positive/00912.jpg'),\n",
       " WindowsPath('Dataset/Positive/00913.jpg'),\n",
       " WindowsPath('Dataset/Positive/00914.jpg'),\n",
       " WindowsPath('Dataset/Positive/00915.jpg'),\n",
       " WindowsPath('Dataset/Positive/00916.jpg'),\n",
       " WindowsPath('Dataset/Positive/00917.jpg'),\n",
       " WindowsPath('Dataset/Positive/00918.jpg'),\n",
       " WindowsPath('Dataset/Positive/00919.jpg'),\n",
       " WindowsPath('Dataset/Positive/00920.jpg'),\n",
       " WindowsPath('Dataset/Positive/00921.jpg'),\n",
       " WindowsPath('Dataset/Positive/00922.jpg'),\n",
       " WindowsPath('Dataset/Positive/00923.jpg'),\n",
       " WindowsPath('Dataset/Positive/00924.jpg'),\n",
       " WindowsPath('Dataset/Positive/00925.jpg'),\n",
       " WindowsPath('Dataset/Positive/00926.jpg'),\n",
       " WindowsPath('Dataset/Positive/00927.jpg'),\n",
       " WindowsPath('Dataset/Positive/00928.jpg'),\n",
       " WindowsPath('Dataset/Positive/00929.jpg'),\n",
       " WindowsPath('Dataset/Positive/00930.jpg'),\n",
       " WindowsPath('Dataset/Positive/00931.jpg'),\n",
       " WindowsPath('Dataset/Positive/00932.jpg'),\n",
       " WindowsPath('Dataset/Positive/00933.jpg'),\n",
       " WindowsPath('Dataset/Positive/00934.jpg'),\n",
       " WindowsPath('Dataset/Positive/00935.jpg'),\n",
       " WindowsPath('Dataset/Positive/00936.jpg'),\n",
       " WindowsPath('Dataset/Positive/00937.jpg'),\n",
       " WindowsPath('Dataset/Positive/00938.jpg'),\n",
       " WindowsPath('Dataset/Positive/00939.jpg'),\n",
       " WindowsPath('Dataset/Positive/00940.jpg'),\n",
       " WindowsPath('Dataset/Positive/00941.jpg'),\n",
       " WindowsPath('Dataset/Positive/00942.jpg'),\n",
       " WindowsPath('Dataset/Positive/00943.jpg'),\n",
       " WindowsPath('Dataset/Positive/00944.jpg'),\n",
       " WindowsPath('Dataset/Positive/00945.jpg'),\n",
       " WindowsPath('Dataset/Positive/00946.jpg'),\n",
       " WindowsPath('Dataset/Positive/00947.jpg'),\n",
       " WindowsPath('Dataset/Positive/00948.jpg'),\n",
       " WindowsPath('Dataset/Positive/00949.jpg'),\n",
       " WindowsPath('Dataset/Positive/00950.jpg'),\n",
       " WindowsPath('Dataset/Positive/00951.jpg'),\n",
       " WindowsPath('Dataset/Positive/00952.jpg'),\n",
       " WindowsPath('Dataset/Positive/00953.jpg'),\n",
       " WindowsPath('Dataset/Positive/00954.jpg'),\n",
       " WindowsPath('Dataset/Positive/00955.jpg'),\n",
       " WindowsPath('Dataset/Positive/00956.jpg'),\n",
       " WindowsPath('Dataset/Positive/00957.jpg'),\n",
       " WindowsPath('Dataset/Positive/00958.jpg'),\n",
       " WindowsPath('Dataset/Positive/00959.jpg'),\n",
       " WindowsPath('Dataset/Positive/00960.jpg'),\n",
       " WindowsPath('Dataset/Positive/00961.jpg'),\n",
       " WindowsPath('Dataset/Positive/00962.jpg'),\n",
       " WindowsPath('Dataset/Positive/00963.jpg'),\n",
       " WindowsPath('Dataset/Positive/00964.jpg'),\n",
       " WindowsPath('Dataset/Positive/00965.jpg'),\n",
       " WindowsPath('Dataset/Positive/00966.jpg'),\n",
       " WindowsPath('Dataset/Positive/00967.jpg'),\n",
       " WindowsPath('Dataset/Positive/00968.jpg'),\n",
       " WindowsPath('Dataset/Positive/00969.jpg'),\n",
       " WindowsPath('Dataset/Positive/00970.jpg'),\n",
       " WindowsPath('Dataset/Positive/00971.jpg'),\n",
       " WindowsPath('Dataset/Positive/00972.jpg'),\n",
       " WindowsPath('Dataset/Positive/00973.jpg'),\n",
       " WindowsPath('Dataset/Positive/00974.jpg'),\n",
       " WindowsPath('Dataset/Positive/00975.jpg'),\n",
       " WindowsPath('Dataset/Positive/00976.jpg'),\n",
       " WindowsPath('Dataset/Positive/00977.jpg'),\n",
       " WindowsPath('Dataset/Positive/00978.jpg'),\n",
       " WindowsPath('Dataset/Positive/00979.jpg'),\n",
       " WindowsPath('Dataset/Positive/00980.jpg'),\n",
       " WindowsPath('Dataset/Positive/00981.jpg'),\n",
       " WindowsPath('Dataset/Positive/00982.jpg'),\n",
       " WindowsPath('Dataset/Positive/00983.jpg'),\n",
       " WindowsPath('Dataset/Positive/00984.jpg'),\n",
       " WindowsPath('Dataset/Positive/00985.jpg'),\n",
       " WindowsPath('Dataset/Positive/00986.jpg'),\n",
       " WindowsPath('Dataset/Positive/00987.jpg'),\n",
       " WindowsPath('Dataset/Positive/00988.jpg'),\n",
       " WindowsPath('Dataset/Positive/00989.jpg'),\n",
       " WindowsPath('Dataset/Positive/00990.jpg'),\n",
       " WindowsPath('Dataset/Positive/00991.jpg'),\n",
       " WindowsPath('Dataset/Positive/00992.jpg'),\n",
       " WindowsPath('Dataset/Positive/00993.jpg'),\n",
       " WindowsPath('Dataset/Positive/00994.jpg'),\n",
       " WindowsPath('Dataset/Positive/00995.jpg'),\n",
       " WindowsPath('Dataset/Positive/00996.jpg'),\n",
       " WindowsPath('Dataset/Positive/00997.jpg'),\n",
       " WindowsPath('Dataset/Positive/00998.jpg'),\n",
       " WindowsPath('Dataset/Positive/00999.jpg'),\n",
       " WindowsPath('Dataset/Positive/01000.jpg'),\n",
       " ...]"
      ]
     },
     "execution_count": 3,
     "metadata": {},
     "output_type": "execute_result"
    }
   ],
   "source": [
    "list(positive_dir.glob(r'*.jpg'))"
   ]
  },
  {
   "cell_type": "markdown",
   "metadata": {},
   "source": [
    "# Dataframe Function"
   ]
  },
  {
   "cell_type": "code",
   "execution_count": 4,
   "metadata": {
    "execution": {
     "iopub.execute_input": "2025-05-30T23:47:36.158965Z",
     "iopub.status.busy": "2025-05-30T23:47:36.158680Z",
     "iopub.status.idle": "2025-05-30T23:47:36.165017Z",
     "shell.execute_reply": "2025-05-30T23:47:36.163885Z",
     "shell.execute_reply.started": "2025-05-30T23:47:36.158944Z"
    },
    "trusted": true
   },
   "outputs": [],
   "source": [
    "def generate_df(image_dir, label):\n",
    "    filepaths = pd.Series(list(image_dir.glob(r'*.jpg')), name = 'Filepath').astype(str)\n",
    "    labels = pd.Series(label, name = 'label', index = filepaths.index)\n",
    "\n",
    "    #Combining filepaths and labels dataframes\n",
    "    df = pd.concat([filepaths, labels], axis = 1)\n",
    "    return df"
   ]
  },
  {
   "cell_type": "code",
   "execution_count": 5,
   "metadata": {
    "execution": {
     "iopub.execute_input": "2025-05-30T23:47:38.550984Z",
     "iopub.status.busy": "2025-05-30T23:47:38.550638Z",
     "iopub.status.idle": "2025-05-30T23:47:39.009579Z",
     "shell.execute_reply": "2025-05-30T23:47:39.008642Z",
     "shell.execute_reply.started": "2025-05-30T23:47:38.550961Z"
    },
    "trusted": true
   },
   "outputs": [
    {
     "data": {
      "text/html": [
       "<div>\n",
       "<style scoped>\n",
       "    .dataframe tbody tr th:only-of-type {\n",
       "        vertical-align: middle;\n",
       "    }\n",
       "\n",
       "    .dataframe tbody tr th {\n",
       "        vertical-align: top;\n",
       "    }\n",
       "\n",
       "    .dataframe thead th {\n",
       "        text-align: right;\n",
       "    }\n",
       "</style>\n",
       "<table border=\"1\" class=\"dataframe\">\n",
       "  <thead>\n",
       "    <tr style=\"text-align: right;\">\n",
       "      <th></th>\n",
       "      <th>Filepath</th>\n",
       "      <th>label</th>\n",
       "    </tr>\n",
       "  </thead>\n",
       "  <tbody>\n",
       "    <tr>\n",
       "      <th>0</th>\n",
       "      <td>Dataset\\Positive\\03842.jpg</td>\n",
       "      <td>POSITIVE</td>\n",
       "    </tr>\n",
       "    <tr>\n",
       "      <th>1</th>\n",
       "      <td>Dataset\\Positive\\12899_1.jpg</td>\n",
       "      <td>POSITIVE</td>\n",
       "    </tr>\n",
       "    <tr>\n",
       "      <th>2</th>\n",
       "      <td>Dataset\\Positive\\15033_1.jpg</td>\n",
       "      <td>POSITIVE</td>\n",
       "    </tr>\n",
       "    <tr>\n",
       "      <th>3</th>\n",
       "      <td>Dataset\\Negative\\16782.jpg</td>\n",
       "      <td>NEGATIVE</td>\n",
       "    </tr>\n",
       "    <tr>\n",
       "      <th>4</th>\n",
       "      <td>Dataset\\Positive\\09202.jpg</td>\n",
       "      <td>POSITIVE</td>\n",
       "    </tr>\n",
       "    <tr>\n",
       "      <th>...</th>\n",
       "      <td>...</td>\n",
       "      <td>...</td>\n",
       "    </tr>\n",
       "    <tr>\n",
       "      <th>39995</th>\n",
       "      <td>Dataset\\Positive\\07814.jpg</td>\n",
       "      <td>POSITIVE</td>\n",
       "    </tr>\n",
       "    <tr>\n",
       "      <th>39996</th>\n",
       "      <td>Dataset\\Negative\\12512.jpg</td>\n",
       "      <td>NEGATIVE</td>\n",
       "    </tr>\n",
       "    <tr>\n",
       "      <th>39997</th>\n",
       "      <td>Dataset\\Positive\\05193.jpg</td>\n",
       "      <td>POSITIVE</td>\n",
       "    </tr>\n",
       "    <tr>\n",
       "      <th>39998</th>\n",
       "      <td>Dataset\\Positive\\12173_1.jpg</td>\n",
       "      <td>POSITIVE</td>\n",
       "    </tr>\n",
       "    <tr>\n",
       "      <th>39999</th>\n",
       "      <td>Dataset\\Negative\\13004.jpg</td>\n",
       "      <td>NEGATIVE</td>\n",
       "    </tr>\n",
       "  </tbody>\n",
       "</table>\n",
       "<p>40000 rows × 2 columns</p>\n",
       "</div>"
      ],
      "text/plain": [
       "                           Filepath     label\n",
       "0        Dataset\\Positive\\03842.jpg  POSITIVE\n",
       "1      Dataset\\Positive\\12899_1.jpg  POSITIVE\n",
       "2      Dataset\\Positive\\15033_1.jpg  POSITIVE\n",
       "3        Dataset\\Negative\\16782.jpg  NEGATIVE\n",
       "4        Dataset\\Positive\\09202.jpg  POSITIVE\n",
       "...                             ...       ...\n",
       "39995    Dataset\\Positive\\07814.jpg  POSITIVE\n",
       "39996    Dataset\\Negative\\12512.jpg  NEGATIVE\n",
       "39997    Dataset\\Positive\\05193.jpg  POSITIVE\n",
       "39998  Dataset\\Positive\\12173_1.jpg  POSITIVE\n",
       "39999    Dataset\\Negative\\13004.jpg  NEGATIVE\n",
       "\n",
       "[40000 rows x 2 columns]"
      ]
     },
     "execution_count": 5,
     "metadata": {},
     "output_type": "execute_result"
    }
   ],
   "source": [
    "positive_df = generate_df(positive_dir, label = 'POSITIVE')\n",
    "negative_df =  generate_df(negative_dir, label = 'NEGATIVE')\n",
    "\n",
    "#Create a dataframe that is a combination of both positive and negative dataframes\n",
    "all_df = pd.concat([positive_df, negative_df], axis = 0).sample(frac = 1.0, random_state = 1).reset_index(drop = True)\n",
    "all_df"
   ]
  },
  {
   "cell_type": "markdown",
   "metadata": {},
   "source": [
    "# Splitting data into Training and Test sets"
   ]
  },
  {
   "cell_type": "code",
   "execution_count": 6,
   "metadata": {
    "execution": {
     "iopub.execute_input": "2025-05-30T23:47:42.507269Z",
     "iopub.status.busy": "2025-05-30T23:47:42.506961Z",
     "iopub.status.idle": "2025-05-30T23:47:42.518947Z",
     "shell.execute_reply": "2025-05-30T23:47:42.517807Z",
     "shell.execute_reply.started": "2025-05-30T23:47:42.507246Z"
    },
    "trusted": true
   },
   "outputs": [],
   "source": [
    "train_df, test_df = train_test_split(\n",
    "    all_df, \n",
    "    train_size = 0.7,\n",
    "    shuffle = True,\n",
    "    random_state = 1\n",
    ")"
   ]
  },
  {
   "cell_type": "markdown",
   "metadata": {},
   "source": [
    "# Loading Image Data"
   ]
  },
  {
   "cell_type": "code",
   "execution_count": 7,
   "metadata": {
    "execution": {
     "iopub.execute_input": "2025-05-30T23:47:45.182953Z",
     "iopub.status.busy": "2025-05-30T23:47:45.182625Z",
     "iopub.status.idle": "2025-05-30T23:47:45.257020Z",
     "shell.execute_reply": "2025-05-30T23:47:45.255955Z",
     "shell.execute_reply.started": "2025-05-30T23:47:45.182929Z"
    },
    "trusted": true
   },
   "outputs": [],
   "source": [
    "train_gen = tf.keras.preprocessing.image.ImageDataGenerator(\n",
    "    rescale = 1./255,   #Maximum value is 255, dividing by 255 converts values to a range between 0 and 1 to improve model performance\n",
    "    validation_split = 0.2   #Creates a validation set that is 20% of the training set\n",
    ")\n",
    "test_gen = tf.keras.preprocessing.image.ImageDataGenerator(\n",
    "     rescale = 1./255,\n",
    ")"
   ]
  },
  {
   "cell_type": "code",
   "execution_count": 8,
   "metadata": {
    "execution": {
     "iopub.execute_input": "2025-05-30T23:47:55.805453Z",
     "iopub.status.busy": "2025-05-30T23:47:55.805147Z"
    },
    "trusted": true
   },
   "outputs": [
    {
     "name": "stdout",
     "output_type": "stream",
     "text": [
      "Found 22400 validated image filenames belonging to 2 classes.\n",
      "Found 5600 validated image filenames belonging to 2 classes.\n",
      "Found 12000 validated image filenames belonging to 2 classes.\n"
     ]
    }
   ],
   "source": [
    "train_data = train_gen.flow_from_dataframe(\n",
    "    train_df,\n",
    "    x_col = 'Filepath',            #Tells generator to search for filepaths in 'Filepath' column\n",
    "    y_col = 'label',               #Tells generator to search for image labels in 'label' column\n",
    "    target_size = (120, 120),     #Resize every image loaded to 120 pixels wide by 120 pixels high\n",
    "    color_mode = 'rgb',            #Images will be treated as having three color channels (Red, Green, Blue)\n",
    "    class_mode = 'binary',\n",
    "    batch_size = 32,\n",
    "    subset = 'training'\n",
    ")\n",
    "\n",
    "val_data = train_gen.flow_from_dataframe(\n",
    "    train_df,\n",
    "    x_col = 'Filepath',\n",
    "    y_col = 'label',\n",
    "    target_size = (120, 120),\n",
    "    color_mode = 'rgb',\n",
    "    class_mode = 'binary',\n",
    "    batch_size = 32,\n",
    "    subset = 'validation'\n",
    ")\n",
    "\n",
    "test_data = test_gen.flow_from_dataframe(\n",
    "    test_df,\n",
    "    x_col = 'Filepath',\n",
    "    y_col = 'label',\n",
    "    target_size = (120, 120),\n",
    "    color_mode = 'rgb',\n",
    "    class_mode = 'binary',\n",
    "    batch_size = 32,\n",
    "    shuffle = False  #Do not shuffle the test data to maintain the order of predictions for evaluation\n",
    ")"
   ]
  },
  {
   "cell_type": "markdown",
   "metadata": {},
   "source": [
    "# Defining and Training the Convolutional Neural Network"
   ]
  },
  {
   "cell_type": "code",
   "execution_count": 9,
   "metadata": {
    "execution": {
     "iopub.execute_input": "2025-05-30T23:47:18.215335Z",
     "iopub.status.busy": "2025-05-30T23:47:18.215017Z",
     "iopub.status.idle": "2025-05-30T23:47:18.243308Z",
     "shell.execute_reply": "2025-05-30T23:47:18.241745Z",
     "shell.execute_reply.started": "2025-05-30T23:47:18.215311Z"
    },
    "trusted": true
   },
   "outputs": [
    {
     "name": "stdout",
     "output_type": "stream",
     "text": [
      "Model: \"model\"\n",
      "_________________________________________________________________\n",
      " Layer (type)                Output Shape              Param #   \n",
      "=================================================================\n",
      " input_1 (InputLayer)        [(None, 120, 120, 3)]     0         \n",
      "                                                                 \n",
      " conv2d (Conv2D)             (None, 118, 118, 16)      448       \n",
      "                                                                 \n",
      " max_pooling2d (MaxPooling2D  (None, 59, 59, 16)       0         \n",
      " )                                                               \n",
      "                                                                 \n",
      " conv2d_1 (Conv2D)           (None, 57, 57, 32)        4640      \n",
      "                                                                 \n",
      " max_pooling2d_1 (MaxPooling  (None, 28, 28, 32)       0         \n",
      " 2D)                                                             \n",
      "                                                                 \n",
      " global_average_pooling2d (G  (None, 32)               0         \n",
      " lobalAveragePooling2D)                                          \n",
      "                                                                 \n",
      " dense (Dense)               (None, 1)                 33        \n",
      "                                                                 \n",
      "=================================================================\n",
      "Total params: 5,121\n",
      "Trainable params: 5,121\n",
      "Non-trainable params: 0\n",
      "_________________________________________________________________\n",
      "None\n"
     ]
    }
   ],
   "source": [
    "#Defining Input Layer\n",
    "inputs = tf.keras.Input(shape = (120, 120, 3))  #Defines the shape of the input samples and the number of colour channels\n",
    "\n",
    "x = tf.keras.layers.Conv2D(filters = 16, kernel_size = (3, 3), activation = 'relu')(inputs)  \n",
    "x = tf.keras.layers.MaxPool2D(pool_size = (2, 2))(x)\n",
    "\n",
    "x = tf.keras.layers.Conv2D(filters = 32, kernel_size = (3, 3), activation = 'relu')(x)\n",
    "x = tf.keras.layers.MaxPool2D(pool_size = (2, 2))(x)\n",
    "\n",
    "x = tf.keras.layers.GlobalAveragePooling2D()(x)\n",
    "\n",
    "#Defining Output Layer\n",
    "outputs = tf.keras.layers.Dense(1, activation = 'sigmoid')(x)\n",
    "\n",
    "model = tf.keras.Model(inputs = inputs, outputs = outputs)\n",
    "\n",
    "model.compile(\n",
    "    optimizer = 'adam',\n",
    "    loss = 'binary_crossentropy',\n",
    "    metrics = ['accuracy']\n",
    ")\n",
    "\n",
    "print(model.summary())"
   ]
  },
  {
   "cell_type": "code",
   "execution_count": 10,
   "metadata": {
    "execution": {
     "execution_failed": "2025-05-30T02:43:07.089Z",
     "iopub.execute_input": "2025-05-30T00:37:30.911619Z",
     "iopub.status.busy": "2025-05-30T00:37:30.910647Z"
    },
    "trusted": true
   },
   "outputs": [
    {
     "name": "stdout",
     "output_type": "stream",
     "text": [
      "Epoch 1/50\n",
      "700/700 [==============================] - 29s 34ms/step - loss: 0.5399 - accuracy: 0.7345 - val_loss: 0.2662 - val_accuracy: 0.9229\n",
      "Epoch 2/50\n",
      "700/700 [==============================] - 19s 27ms/step - loss: 0.1606 - accuracy: 0.9579 - val_loss: 0.1160 - val_accuracy: 0.9600\n",
      "Epoch 3/50\n",
      "700/700 [==============================] - 20s 28ms/step - loss: 0.0956 - accuracy: 0.9722 - val_loss: 0.0850 - val_accuracy: 0.9691\n",
      "Epoch 4/50\n",
      "700/700 [==============================] - 21s 30ms/step - loss: 0.0810 - accuracy: 0.9754 - val_loss: 0.0702 - val_accuracy: 0.9818\n",
      "Epoch 5/50\n",
      "700/700 [==============================] - 19s 27ms/step - loss: 0.0693 - accuracy: 0.9781 - val_loss: 0.0667 - val_accuracy: 0.9757\n",
      "Epoch 6/50\n",
      "700/700 [==============================] - 19s 27ms/step - loss: 0.0654 - accuracy: 0.9786 - val_loss: 0.0590 - val_accuracy: 0.9807\n",
      "Epoch 7/50\n",
      "700/700 [==============================] - 17s 24ms/step - loss: 0.0626 - accuracy: 0.9801 - val_loss: 0.0574 - val_accuracy: 0.9837\n",
      "Epoch 8/50\n",
      "700/700 [==============================] - 16s 23ms/step - loss: 0.0632 - accuracy: 0.9793 - val_loss: 0.0550 - val_accuracy: 0.9836\n",
      "Epoch 9/50\n",
      "700/700 [==============================] - 18s 26ms/step - loss: 0.0599 - accuracy: 0.9812 - val_loss: 0.0642 - val_accuracy: 0.9829\n",
      "Epoch 10/50\n",
      "700/700 [==============================] - 18s 26ms/step - loss: 0.0586 - accuracy: 0.9807 - val_loss: 0.0687 - val_accuracy: 0.9820\n",
      "Epoch 11/50\n",
      "700/700 [==============================] - 20s 28ms/step - loss: 0.0593 - accuracy: 0.9809 - val_loss: 0.0577 - val_accuracy: 0.9805\n"
     ]
    }
   ],
   "source": [
    "history = model.fit(\n",
    "    train_data,\n",
    "    validation_data = val_data,\n",
    "    epochs = 50,\n",
    "    callbacks = [            #Functions to run at the start or end of each epoch\n",
    "        tf.keras.callbacks.EarlyStopping(\n",
    "            monitor = 'val_loss', \n",
    "            patience = 3,       #If val_loss doesn't increase for 10 epochs, training will be halted\n",
    "            restore_best_weights = True      #Sets the model's weights to that of the epoch that had the lowest loss\n",
    "        )\n",
    "    ]\n",
    ")"
   ]
  },
  {
   "cell_type": "code",
   "execution_count": 11,
   "metadata": {
    "execution": {
     "iopub.execute_input": "2025-05-30T07:13:33.213300Z",
     "iopub.status.busy": "2025-05-30T07:13:33.213011Z",
     "iopub.status.idle": "2025-05-30T07:13:33.266585Z",
     "shell.execute_reply": "2025-05-30T07:13:33.265464Z",
     "shell.execute_reply.started": "2025-05-30T07:13:33.213280Z"
    },
    "trusted": true
   },
   "outputs": [
    {
     "data": {
      "application/vnd.plotly.v1+json": {
       "config": {
        "plotlyServerURL": "https://plot.ly"
       },
       "data": [
        {
         "hovertemplate": "variable=loss<br>Epoch=%{x}<br>Loss=%{y}<extra></extra>",
         "legendgroup": "loss",
         "line": {
          "color": "#636efa",
          "dash": "solid"
         },
         "marker": {
          "symbol": "circle"
         },
         "mode": "lines",
         "name": "loss",
         "orientation": "v",
         "showlegend": true,
         "type": "scatter",
         "x": {
          "bdata": "AAECAwQFBgcICQo=",
          "dtype": "i1"
         },
         "xaxis": "x",
         "y": {
          "bdata": "AAAAoMFG4T8AAADgFI/EPwAAACAjerg/AAAAQNi+tD8AAACgMbuxPwAAAAB6wLA/AAAAIAYHsD8AAACgtC+wPwAAAMBop64/AAAA4B4Arj8AAADgeleuPw==",
          "dtype": "f8"
         },
         "yaxis": "y"
        },
        {
         "hovertemplate": "variable=val_loss<br>Epoch=%{x}<br>Loss=%{y}<extra></extra>",
         "legendgroup": "val_loss",
         "line": {
          "color": "#EF553B",
          "dash": "solid"
         },
         "marker": {
          "symbol": "circle"
         },
         "mode": "lines",
         "name": "val_loss",
         "orientation": "v",
         "showlegend": true,
         "type": "scatter",
         "x": {
          "bdata": "AAECAwQFBgcICQo=",
          "dtype": "i1"
         },
         "xaxis": "x",
         "y": {
          "bdata": "AAAA4B8K0T8AAABg3rK9PwAAAMDEw7U/AAAAYPf3sT8AAACA8ROxPwAAAACGOK4/AAAAQJVhrT8AAADAKiasPwAAAIC0brA/AAAAABSYsT8AAACgI42tPw==",
          "dtype": "f8"
         },
         "yaxis": "y"
        }
       ],
       "layout": {
        "legend": {
         "title": {
          "text": "variable"
         },
         "tracegroupgap": 0
        },
        "template": {
         "data": {
          "bar": [
           {
            "error_x": {
             "color": "#2a3f5f"
            },
            "error_y": {
             "color": "#2a3f5f"
            },
            "marker": {
             "line": {
              "color": "#E5ECF6",
              "width": 0.5
             },
             "pattern": {
              "fillmode": "overlay",
              "size": 10,
              "solidity": 0.2
             }
            },
            "type": "bar"
           }
          ],
          "barpolar": [
           {
            "marker": {
             "line": {
              "color": "#E5ECF6",
              "width": 0.5
             },
             "pattern": {
              "fillmode": "overlay",
              "size": 10,
              "solidity": 0.2
             }
            },
            "type": "barpolar"
           }
          ],
          "carpet": [
           {
            "aaxis": {
             "endlinecolor": "#2a3f5f",
             "gridcolor": "white",
             "linecolor": "white",
             "minorgridcolor": "white",
             "startlinecolor": "#2a3f5f"
            },
            "baxis": {
             "endlinecolor": "#2a3f5f",
             "gridcolor": "white",
             "linecolor": "white",
             "minorgridcolor": "white",
             "startlinecolor": "#2a3f5f"
            },
            "type": "carpet"
           }
          ],
          "choropleth": [
           {
            "colorbar": {
             "outlinewidth": 0,
             "ticks": ""
            },
            "type": "choropleth"
           }
          ],
          "contour": [
           {
            "colorbar": {
             "outlinewidth": 0,
             "ticks": ""
            },
            "colorscale": [
             [
              0,
              "#0d0887"
             ],
             [
              0.1111111111111111,
              "#46039f"
             ],
             [
              0.2222222222222222,
              "#7201a8"
             ],
             [
              0.3333333333333333,
              "#9c179e"
             ],
             [
              0.4444444444444444,
              "#bd3786"
             ],
             [
              0.5555555555555556,
              "#d8576b"
             ],
             [
              0.6666666666666666,
              "#ed7953"
             ],
             [
              0.7777777777777778,
              "#fb9f3a"
             ],
             [
              0.8888888888888888,
              "#fdca26"
             ],
             [
              1,
              "#f0f921"
             ]
            ],
            "type": "contour"
           }
          ],
          "contourcarpet": [
           {
            "colorbar": {
             "outlinewidth": 0,
             "ticks": ""
            },
            "type": "contourcarpet"
           }
          ],
          "heatmap": [
           {
            "colorbar": {
             "outlinewidth": 0,
             "ticks": ""
            },
            "colorscale": [
             [
              0,
              "#0d0887"
             ],
             [
              0.1111111111111111,
              "#46039f"
             ],
             [
              0.2222222222222222,
              "#7201a8"
             ],
             [
              0.3333333333333333,
              "#9c179e"
             ],
             [
              0.4444444444444444,
              "#bd3786"
             ],
             [
              0.5555555555555556,
              "#d8576b"
             ],
             [
              0.6666666666666666,
              "#ed7953"
             ],
             [
              0.7777777777777778,
              "#fb9f3a"
             ],
             [
              0.8888888888888888,
              "#fdca26"
             ],
             [
              1,
              "#f0f921"
             ]
            ],
            "type": "heatmap"
           }
          ],
          "histogram": [
           {
            "marker": {
             "pattern": {
              "fillmode": "overlay",
              "size": 10,
              "solidity": 0.2
             }
            },
            "type": "histogram"
           }
          ],
          "histogram2d": [
           {
            "colorbar": {
             "outlinewidth": 0,
             "ticks": ""
            },
            "colorscale": [
             [
              0,
              "#0d0887"
             ],
             [
              0.1111111111111111,
              "#46039f"
             ],
             [
              0.2222222222222222,
              "#7201a8"
             ],
             [
              0.3333333333333333,
              "#9c179e"
             ],
             [
              0.4444444444444444,
              "#bd3786"
             ],
             [
              0.5555555555555556,
              "#d8576b"
             ],
             [
              0.6666666666666666,
              "#ed7953"
             ],
             [
              0.7777777777777778,
              "#fb9f3a"
             ],
             [
              0.8888888888888888,
              "#fdca26"
             ],
             [
              1,
              "#f0f921"
             ]
            ],
            "type": "histogram2d"
           }
          ],
          "histogram2dcontour": [
           {
            "colorbar": {
             "outlinewidth": 0,
             "ticks": ""
            },
            "colorscale": [
             [
              0,
              "#0d0887"
             ],
             [
              0.1111111111111111,
              "#46039f"
             ],
             [
              0.2222222222222222,
              "#7201a8"
             ],
             [
              0.3333333333333333,
              "#9c179e"
             ],
             [
              0.4444444444444444,
              "#bd3786"
             ],
             [
              0.5555555555555556,
              "#d8576b"
             ],
             [
              0.6666666666666666,
              "#ed7953"
             ],
             [
              0.7777777777777778,
              "#fb9f3a"
             ],
             [
              0.8888888888888888,
              "#fdca26"
             ],
             [
              1,
              "#f0f921"
             ]
            ],
            "type": "histogram2dcontour"
           }
          ],
          "mesh3d": [
           {
            "colorbar": {
             "outlinewidth": 0,
             "ticks": ""
            },
            "type": "mesh3d"
           }
          ],
          "parcoords": [
           {
            "line": {
             "colorbar": {
              "outlinewidth": 0,
              "ticks": ""
             }
            },
            "type": "parcoords"
           }
          ],
          "pie": [
           {
            "automargin": true,
            "type": "pie"
           }
          ],
          "scatter": [
           {
            "fillpattern": {
             "fillmode": "overlay",
             "size": 10,
             "solidity": 0.2
            },
            "type": "scatter"
           }
          ],
          "scatter3d": [
           {
            "line": {
             "colorbar": {
              "outlinewidth": 0,
              "ticks": ""
             }
            },
            "marker": {
             "colorbar": {
              "outlinewidth": 0,
              "ticks": ""
             }
            },
            "type": "scatter3d"
           }
          ],
          "scattercarpet": [
           {
            "marker": {
             "colorbar": {
              "outlinewidth": 0,
              "ticks": ""
             }
            },
            "type": "scattercarpet"
           }
          ],
          "scattergeo": [
           {
            "marker": {
             "colorbar": {
              "outlinewidth": 0,
              "ticks": ""
             }
            },
            "type": "scattergeo"
           }
          ],
          "scattergl": [
           {
            "marker": {
             "colorbar": {
              "outlinewidth": 0,
              "ticks": ""
             }
            },
            "type": "scattergl"
           }
          ],
          "scattermap": [
           {
            "marker": {
             "colorbar": {
              "outlinewidth": 0,
              "ticks": ""
             }
            },
            "type": "scattermap"
           }
          ],
          "scattermapbox": [
           {
            "marker": {
             "colorbar": {
              "outlinewidth": 0,
              "ticks": ""
             }
            },
            "type": "scattermapbox"
           }
          ],
          "scatterpolar": [
           {
            "marker": {
             "colorbar": {
              "outlinewidth": 0,
              "ticks": ""
             }
            },
            "type": "scatterpolar"
           }
          ],
          "scatterpolargl": [
           {
            "marker": {
             "colorbar": {
              "outlinewidth": 0,
              "ticks": ""
             }
            },
            "type": "scatterpolargl"
           }
          ],
          "scatterternary": [
           {
            "marker": {
             "colorbar": {
              "outlinewidth": 0,
              "ticks": ""
             }
            },
            "type": "scatterternary"
           }
          ],
          "surface": [
           {
            "colorbar": {
             "outlinewidth": 0,
             "ticks": ""
            },
            "colorscale": [
             [
              0,
              "#0d0887"
             ],
             [
              0.1111111111111111,
              "#46039f"
             ],
             [
              0.2222222222222222,
              "#7201a8"
             ],
             [
              0.3333333333333333,
              "#9c179e"
             ],
             [
              0.4444444444444444,
              "#bd3786"
             ],
             [
              0.5555555555555556,
              "#d8576b"
             ],
             [
              0.6666666666666666,
              "#ed7953"
             ],
             [
              0.7777777777777778,
              "#fb9f3a"
             ],
             [
              0.8888888888888888,
              "#fdca26"
             ],
             [
              1,
              "#f0f921"
             ]
            ],
            "type": "surface"
           }
          ],
          "table": [
           {
            "cells": {
             "fill": {
              "color": "#EBF0F8"
             },
             "line": {
              "color": "white"
             }
            },
            "header": {
             "fill": {
              "color": "#C8D4E3"
             },
             "line": {
              "color": "white"
             }
            },
            "type": "table"
           }
          ]
         },
         "layout": {
          "annotationdefaults": {
           "arrowcolor": "#2a3f5f",
           "arrowhead": 0,
           "arrowwidth": 1
          },
          "autotypenumbers": "strict",
          "coloraxis": {
           "colorbar": {
            "outlinewidth": 0,
            "ticks": ""
           }
          },
          "colorscale": {
           "diverging": [
            [
             0,
             "#8e0152"
            ],
            [
             0.1,
             "#c51b7d"
            ],
            [
             0.2,
             "#de77ae"
            ],
            [
             0.3,
             "#f1b6da"
            ],
            [
             0.4,
             "#fde0ef"
            ],
            [
             0.5,
             "#f7f7f7"
            ],
            [
             0.6,
             "#e6f5d0"
            ],
            [
             0.7,
             "#b8e186"
            ],
            [
             0.8,
             "#7fbc41"
            ],
            [
             0.9,
             "#4d9221"
            ],
            [
             1,
             "#276419"
            ]
           ],
           "sequential": [
            [
             0,
             "#0d0887"
            ],
            [
             0.1111111111111111,
             "#46039f"
            ],
            [
             0.2222222222222222,
             "#7201a8"
            ],
            [
             0.3333333333333333,
             "#9c179e"
            ],
            [
             0.4444444444444444,
             "#bd3786"
            ],
            [
             0.5555555555555556,
             "#d8576b"
            ],
            [
             0.6666666666666666,
             "#ed7953"
            ],
            [
             0.7777777777777778,
             "#fb9f3a"
            ],
            [
             0.8888888888888888,
             "#fdca26"
            ],
            [
             1,
             "#f0f921"
            ]
           ],
           "sequentialminus": [
            [
             0,
             "#0d0887"
            ],
            [
             0.1111111111111111,
             "#46039f"
            ],
            [
             0.2222222222222222,
             "#7201a8"
            ],
            [
             0.3333333333333333,
             "#9c179e"
            ],
            [
             0.4444444444444444,
             "#bd3786"
            ],
            [
             0.5555555555555556,
             "#d8576b"
            ],
            [
             0.6666666666666666,
             "#ed7953"
            ],
            [
             0.7777777777777778,
             "#fb9f3a"
            ],
            [
             0.8888888888888888,
             "#fdca26"
            ],
            [
             1,
             "#f0f921"
            ]
           ]
          },
          "colorway": [
           "#636efa",
           "#EF553B",
           "#00cc96",
           "#ab63fa",
           "#FFA15A",
           "#19d3f3",
           "#FF6692",
           "#B6E880",
           "#FF97FF",
           "#FECB52"
          ],
          "font": {
           "color": "#2a3f5f"
          },
          "geo": {
           "bgcolor": "white",
           "lakecolor": "white",
           "landcolor": "#E5ECF6",
           "showlakes": true,
           "showland": true,
           "subunitcolor": "white"
          },
          "hoverlabel": {
           "align": "left"
          },
          "hovermode": "closest",
          "mapbox": {
           "style": "light"
          },
          "paper_bgcolor": "white",
          "plot_bgcolor": "#E5ECF6",
          "polar": {
           "angularaxis": {
            "gridcolor": "white",
            "linecolor": "white",
            "ticks": ""
           },
           "bgcolor": "#E5ECF6",
           "radialaxis": {
            "gridcolor": "white",
            "linecolor": "white",
            "ticks": ""
           }
          },
          "scene": {
           "xaxis": {
            "backgroundcolor": "#E5ECF6",
            "gridcolor": "white",
            "gridwidth": 2,
            "linecolor": "white",
            "showbackground": true,
            "ticks": "",
            "zerolinecolor": "white"
           },
           "yaxis": {
            "backgroundcolor": "#E5ECF6",
            "gridcolor": "white",
            "gridwidth": 2,
            "linecolor": "white",
            "showbackground": true,
            "ticks": "",
            "zerolinecolor": "white"
           },
           "zaxis": {
            "backgroundcolor": "#E5ECF6",
            "gridcolor": "white",
            "gridwidth": 2,
            "linecolor": "white",
            "showbackground": true,
            "ticks": "",
            "zerolinecolor": "white"
           }
          },
          "shapedefaults": {
           "line": {
            "color": "#2a3f5f"
           }
          },
          "ternary": {
           "aaxis": {
            "gridcolor": "white",
            "linecolor": "white",
            "ticks": ""
           },
           "baxis": {
            "gridcolor": "white",
            "linecolor": "white",
            "ticks": ""
           },
           "bgcolor": "#E5ECF6",
           "caxis": {
            "gridcolor": "white",
            "linecolor": "white",
            "ticks": ""
           }
          },
          "title": {
           "x": 0.05
          },
          "xaxis": {
           "automargin": true,
           "gridcolor": "white",
           "linecolor": "white",
           "ticks": "",
           "title": {
            "standoff": 15
           },
           "zerolinecolor": "white",
           "zerolinewidth": 2
          },
          "yaxis": {
           "automargin": true,
           "gridcolor": "white",
           "linecolor": "white",
           "ticks": "",
           "title": {
            "standoff": 15
           },
           "zerolinecolor": "white",
           "zerolinewidth": 2
          }
         }
        },
        "title": {
         "text": "Training and Validation Loss over Time"
        },
        "xaxis": {
         "anchor": "y",
         "domain": [
          0,
          1
         ],
         "title": {
          "text": "Epoch"
         }
        },
        "yaxis": {
         "anchor": "x",
         "domain": [
          0,
          1
         ],
         "title": {
          "text": "Loss"
         }
        }
       }
      }
     },
     "metadata": {},
     "output_type": "display_data"
    }
   ],
   "source": [
    "fig = px.line(\n",
    "    history.history,\n",
    "    y = ['loss', 'val_loss'],\n",
    "    labels = {'index' : \"Epoch\", 'value' : \"Loss\"},\n",
    "    title = \"Training and Validation Loss over Time\"\n",
    ")\n",
    "\n",
    "fig.show()"
   ]
  },
  {
   "cell_type": "code",
   "execution_count": null,
   "metadata": {
    "execution": {
     "iopub.execute_input": "2025-05-30T07:13:59.767434Z",
     "iopub.status.busy": "2025-05-30T07:13:59.766863Z",
     "iopub.status.idle": "2025-05-30T07:13:59.773992Z",
     "shell.execute_reply": "2025-05-30T07:13:59.773114Z",
     "shell.execute_reply.started": "2025-05-30T07:13:59.767411Z"
    },
    "trusted": true
   },
   "outputs": [
    {
     "name": "stdout",
     "output_type": "stream",
     "text": [
      "--- Generating Evaluation Metrics for Model 1 ---\n",
      "Generating predictions...\n",
      "375/375 [==============================] - 11s 29ms/step\n",
      "Generated 12000 predictions for 12000 samples.\n",
      "Number of true labels: 12000\n",
      "\n",
      "Calculating Confusion Matrix...\n"
     ]
    },
    {
     "data": {
      "image/png": "[encoded data removed]",
      "text/plain": [
       "<Figure size 600x600 with 1 Axes>"
      ]
     },
     "metadata": {},
     "output_type": "display_data"
    },
    {
     "name": "stdout",
     "output_type": "stream",
     "text": [
      "\n",
      "Calculating Classification Report...\n",
      "              precision    recall  f1-score   support\n",
      "\n",
      "    NEGATIVE     0.9690    0.9920    0.9803      5978\n",
      "    POSITIVE     0.9918    0.9684    0.9800      6022\n",
      "\n",
      "    accuracy                         0.9802     12000\n",
      "   macro avg     0.9804    0.9802    0.9802     12000\n",
      "weighted avg     0.9804    0.9802    0.9802     12000\n",
      "\n",
      "--- Evaluation Complete ---\n"
     ]
    }
   ],
   "source": [
    "import numpy as np\n",
    "import matplotlib.pyplot as plt\n",
    "import seaborn as sns\n",
    "from sklearn.metrics import confusion_matrix, classification_report\n",
    "import math\n",
    "\n",
    "print(\"--- Generating Evaluation Metrics for Model 1 ---\")\n",
    "\n",
    "# 1. Reset the test_data generator to ensure it starts from the beginning\n",
    "test_data.reset()\n",
    "\n",
    "# 2. Get predictions from the model\n",
    "print(\"Generating predictions...\")\n",
    "# Calculate the number of steps to cover all test samples exactly once\n",
    "steps_for_predict = math.ceil(test_data.n / test_data.batch_size)\n",
    "raw_predictions = model.predict(test_data, steps=steps_for_predict)\n",
    "\n",
    "# Process predictions:\n",
    "# raw_predictions might be slightly longer than test_data.n if steps * batch_size > test_data.n\n",
    "# So, we take only the first test_data.n predictions.\n",
    "y_pred = np.squeeze((raw_predictions[:test_data.n] >= 0.5).astype(int))\n",
    "print(f\"Generated {len(y_pred)} predictions for {test_data.n} samples.\")\n",
    "\n",
    "# 3. Get true labels\n",
    "# For a Keras DataFrameIterator, .labels provides the true labels.\n",
    "# If shuffle=True was used when creating test_data (default for flow_from_dataframe),\n",
    "# test_data.labels holds the labels in the order determined by that initial shuffle.\n",
    "# model.predict() on a reset generator will also follow this same initial shuffle order.\n",
    "true_labels = test_data.labels[:test_data.n] # Ensure we only take up to N labels\n",
    "\n",
    "print(f\"Number of true labels: {len(true_labels)}\")\n",
    "\n",
    "# Double-check lengths (should match if steps and slicing are correct)\n",
    "if len(y_pred) != len(true_labels):\n",
    "    print(\"Warning: Mismatch between the number of predictions and true labels. Metrics might be affected.\")\n",
    "    # Fallback if there's still a mismatch:\n",
    "    min_len = min(len(y_pred), len(true_labels))\n",
    "    y_pred = y_pred[:min_len]\n",
    "    true_labels = true_labels[:min_len]\n",
    "    print(f\"Adjusted lengths to {min_len}.\")\n",
    "\n",
    "\n",
    "# 4. Calculate and Display Confusion Matrix\n",
    "print(\"\\nCalculating Confusion Matrix...\")\n",
    "cm = confusion_matrix(true_labels, y_pred)\n",
    "\n",
    "# Dynamically get target names for display\n",
    "# test_data.class_indices is a dict like {'NEGATIVE': 0, 'POSITIVE': 1}\n",
    "idx_to_class = {v: k for k, v in test_data.class_indices.items()}\n",
    "target_display_names = [idx_to_class[i] for i in sorted(idx_to_class.keys())] # e.g., ['NEGATIVE', 'POSITIVE']\n",
    "\n",
    "plt.figure(figsize=(6, 6))\n",
    "sns.heatmap(cm, annot=True, fmt='g', vmin=0, cmap='Blues', cbar=False,\n",
    "            xticklabels=target_display_names, yticklabels=target_display_names)\n",
    "plt.xlabel('Predicted')\n",
    "plt.ylabel('Actual')\n",
    "plt.title('Confusion Matrix')\n",
    "plt.show()\n",
    "\n",
    "# 5. Calculate and Display Classification Report\n",
    "print(\"\\nCalculating Classification Report...\")\n",
    "# Use the same target_display_names for the report\n",
    "print(classification_report(true_labels, y_pred, target_names=target_display_names, digits=4))\n",
    "\n",
    "print(\"--- Evaluation Complete ---\")"
   ]
  },
  {
   "cell_type": "code",
   "execution_count": null,
   "metadata": {
    "trusted": true
   },
   "outputs": [
    {
     "name": "stdout",
     "output_type": "stream",
     "text": [
      "Sample raw predictions (probabilities for POSITIVE class):\n",
      "[[0.01084805]\n",
      " [0.9999682 ]\n",
      " [0.00663154]\n",
      " [0.00816903]\n",
      " [0.00834438]\n",
      " [1.        ]\n",
      " [0.3116955 ]\n",
      " [0.00785622]\n",
      " [0.0091822 ]\n",
      " [0.00485253]\n",
      " [0.9999968 ]\n",
      " [0.99999714]\n",
      " [0.00395005]\n",
      " [1.        ]\n",
      " [0.02152079]\n",
      " [0.99992347]\n",
      " [0.02406043]\n",
      " [0.10957014]\n",
      " [1.        ]\n",
      " [1.        ]]\n"
     ]
    },
    {
     "data": {
      "image/png": "[encoded data removed]",
      "text/plain": [
       "<Figure size 640x480 with 1 Axes>"
      ]
     },
     "metadata": {},
     "output_type": "display_data"
    }
   ],
   "source": [
    "\n",
    "print(\"Sample raw predictions (probabilities for POSITIVE class):\")\n",
    "print(raw_predictions[:20]) # Shows the first 20 probabilities\n",
    "\n",
    "import matplotlib.pyplot as plt\n",
    "plt.hist(raw_predictions[:test_data.n], bins=50) # Use [:test_data.n] to avoid issues if raw_predictions is longer\n",
    "plt.title(\"Histogram of Raw Predicted Probabilities\")\n",
    "plt.xlabel(\"Predicted Probability for POSITIVE class\")\n",
    "plt.ylabel(\"Frequency\")\n",
    "plt.show()"
   ]
  },
  {
   "cell_type": "code",
   "execution_count": null,
   "metadata": {},
   "outputs": [],
   "source": []
  }
 ],
 "metadata": {
  "kaggle": {
   "accelerator": "none",
   "dataSources": [
    {
     "datasetId": 414522,
     "sourceId": 792851,
     "sourceType": "datasetVersion"
    }
   ],
   "dockerImageVersionId": 31040,
   "isGpuEnabled": false,
   "isInternetEnabled": false,
   "language": "python",
   "sourceType": "notebook"
  },
  "kernelspec": {
   "display_name": "cuda_tf",
   "language": "python",
   "name": "python3"
  },
  "language_info": {
   "codemirror_mode": {
    "name": "ipython",
    "version": 3
   },
   "file_extension": ".py",
   "mimetype": "text/x-python",
   "name": "python",
   "nbconvert_exporter": "python",
   "pygments_lexer": "ipython3",
   "version": "3.10.16"
  }
 },
 "nbformat": 4,
 "nbformat_minor": 4
}
