{
 "cells": [
  {
   "cell_type": "code",
   "execution_count": 1,
   "metadata": {
    "execution": {
     "iopub.execute_input": "2025-05-30T23:47:26.094401Z",
     "iopub.status.busy": "2025-05-30T23:47:26.093254Z",
     "iopub.status.idle": "2025-05-30T23:47:26.099717Z",
     "shell.execute_reply": "2025-05-30T23:47:26.098675Z",
     "shell.execute_reply.started": "2025-05-30T23:47:26.094364Z"
    },
    "trusted": true
   },
   "outputs": [],
   "source": [
    "import numpy as np\n",
    "import pandas as pd\n",
    "\n",
    "import matplotlib.pyplot as plt\n",
    "import seaborn as sns\n",
    "import plotly.express as px\n",
    "\n",
    "from pathlib import Path\n",
    "from sklearn.model_selection import train_test_split\n",
    "\n",
    "import tensorflow as tf\n",
    "\n",
    "from sklearn.metrics import confusion_matrix, classification_report\n",
    "import math"
   ]
  },
  {
   "cell_type": "markdown",
   "metadata": {},
   "source": [
    "# Directories to Images"
   ]
  },
  {
   "cell_type": "code",
   "execution_count": 2,
   "metadata": {
    "execution": {
     "iopub.execute_input": "2025-05-30T23:47:28.522916Z",
     "iopub.status.busy": "2025-05-30T23:47:28.522564Z",
     "iopub.status.idle": "2025-05-30T23:47:28.528226Z",
     "shell.execute_reply": "2025-05-30T23:47:28.527114Z",
     "shell.execute_reply.started": "2025-05-30T23:47:28.522892Z"
    },
    "trusted": true
   },
   "outputs": [],
   "source": [
    "positive_dir = Path('Dataset/Positive')\n",
    "negative_dir = Path('Dataset/Negative') "
   ]
  },
  {
   "cell_type": "markdown",
   "metadata": {},
   "source": [
    "# Creating DataFrames"
   ]
  },
  {
   "cell_type": "code",
   "execution_count": 3,
   "metadata": {
    "execution": {
     "iopub.execute_input": "2025-05-30T23:47:31.202953Z",
     "iopub.status.busy": "2025-05-30T23:47:31.202616Z",
     "iopub.status.idle": "2025-05-30T23:47:31.478251Z",
     "shell.execute_reply": "2025-05-30T23:47:31.477145Z",
     "shell.execute_reply.started": "2025-05-30T23:47:31.202926Z"
    },
    "trusted": true
   },
   "outputs": [
    {
     "data": {
      "text/plain": [
       "[WindowsPath('Dataset/Positive/00001.jpg'),\n",
       " WindowsPath('Dataset/Positive/00002.jpg'),\n",
       " WindowsPath('Dataset/Positive/00003.jpg'),\n",
       " WindowsPath('Dataset/Positive/00004.jpg'),\n",
       " WindowsPath('Dataset/Positive/00005.jpg'),\n",
       " WindowsPath('Dataset/Positive/00006.jpg'),\n",
       " WindowsPath('Dataset/Positive/00007.jpg'),\n",
       " WindowsPath('Dataset/Positive/00008.jpg'),\n",
       " WindowsPath('Dataset/Positive/00009.jpg'),\n",
       " WindowsPath('Dataset/Positive/00010.jpg'),\n",
       " WindowsPath('Dataset/Positive/00011.jpg'),\n",
       " WindowsPath('Dataset/Positive/00012.jpg'),\n",
       " WindowsPath('Dataset/Positive/00013.jpg'),\n",
       " WindowsPath('Dataset/Positive/00014.jpg'),\n",
       " WindowsPath('Dataset/Positive/00015.jpg'),\n",
       " WindowsPath('Dataset/Positive/00016.jpg'),\n",
       " WindowsPath('Dataset/Positive/00017.jpg'),\n",
       " WindowsPath('Dataset/Positive/00018.jpg'),\n",
       " WindowsPath('Dataset/Positive/00019.jpg'),\n",
       " WindowsPath('Dataset/Positive/00020.jpg'),\n",
       " WindowsPath('Dataset/Positive/00021.jpg'),\n",
       " WindowsPath('Dataset/Positive/00022.jpg'),\n",
       " WindowsPath('Dataset/Positive/00023.jpg'),\n",
       " WindowsPath('Dataset/Positive/00024.jpg'),\n",
       " WindowsPath('Dataset/Positive/00025.jpg'),\n",
       " WindowsPath('Dataset/Positive/00026.jpg'),\n",
       " WindowsPath('Dataset/Positive/00027.jpg'),\n",
       " WindowsPath('Dataset/Positive/00028.jpg'),\n",
       " WindowsPath('Dataset/Positive/00029.jpg'),\n",
       " WindowsPath('Dataset/Positive/00030.jpg'),\n",
       " WindowsPath('Dataset/Positive/00031.jpg'),\n",
       " WindowsPath('Dataset/Positive/00032.jpg'),\n",
       " WindowsPath('Dataset/Positive/00033.jpg'),\n",
       " WindowsPath('Dataset/Positive/00034.jpg'),\n",
       " WindowsPath('Dataset/Positive/00035.jpg'),\n",
       " WindowsPath('Dataset/Positive/00036.jpg'),\n",
       " WindowsPath('Dataset/Positive/00037.jpg'),\n",
       " WindowsPath('Dataset/Positive/00038.jpg'),\n",
       " WindowsPath('Dataset/Positive/00039.jpg'),\n",
       " WindowsPath('Dataset/Positive/00040.jpg'),\n",
       " WindowsPath('Dataset/Positive/00041.jpg'),\n",
       " WindowsPath('Dataset/Positive/00042.jpg'),\n",
       " WindowsPath('Dataset/Positive/00043.jpg'),\n",
       " WindowsPath('Dataset/Positive/00044.jpg'),\n",
       " WindowsPath('Dataset/Positive/00045.jpg'),\n",
       " WindowsPath('Dataset/Positive/00046.jpg'),\n",
       " WindowsPath('Dataset/Positive/00047.jpg'),\n",
       " WindowsPath('Dataset/Positive/00048.jpg'),\n",
       " WindowsPath('Dataset/Positive/00049.jpg'),\n",
       " WindowsPath('Dataset/Positive/00050.jpg'),\n",
       " WindowsPath('Dataset/Positive/00051.jpg'),\n",
       " WindowsPath('Dataset/Positive/00052.jpg'),\n",
       " WindowsPath('Dataset/Positive/00053.jpg'),\n",
       " WindowsPath('Dataset/Positive/00054.jpg'),\n",
       " WindowsPath('Dataset/Positive/00055.jpg'),\n",
       " WindowsPath('Dataset/Positive/00056.jpg'),\n",
       " WindowsPath('Dataset/Positive/00057.jpg'),\n",
       " WindowsPath('Dataset/Positive/00058.jpg'),\n",
       " WindowsPath('Dataset/Positive/00059.jpg'),\n",
       " WindowsPath('Dataset/Positive/00060.jpg'),\n",
       " WindowsPath('Dataset/Positive/00061.jpg'),\n",
       " WindowsPath('Dataset/Positive/00062.jpg'),\n",
       " WindowsPath('Dataset/Positive/00063.jpg'),\n",
       " WindowsPath('Dataset/Positive/00064.jpg'),\n",
       " WindowsPath('Dataset/Positive/00065.jpg'),\n",
       " WindowsPath('Dataset/Positive/00066.jpg'),\n",
       " WindowsPath('Dataset/Positive/00067.jpg'),\n",
       " WindowsPath('Dataset/Positive/00068.jpg'),\n",
       " WindowsPath('Dataset/Positive/00069.jpg'),\n",
       " WindowsPath('Dataset/Positive/00070.jpg'),\n",
       " WindowsPath('Dataset/Positive/00071.jpg'),\n",
       " WindowsPath('Dataset/Positive/00072.jpg'),\n",
       " WindowsPath('Dataset/Positive/00073.jpg'),\n",
       " WindowsPath('Dataset/Positive/00074.jpg'),\n",
       " WindowsPath('Dataset/Positive/00075.jpg'),\n",
       " WindowsPath('Dataset/Positive/00076.jpg'),\n",
       " WindowsPath('Dataset/Positive/00077.jpg'),\n",
       " WindowsPath('Dataset/Positive/00078.jpg'),\n",
       " WindowsPath('Dataset/Positive/00079.jpg'),\n",
       " WindowsPath('Dataset/Positive/00080.jpg'),\n",
       " WindowsPath('Dataset/Positive/00081.jpg'),\n",
       " WindowsPath('Dataset/Positive/00082.jpg'),\n",
       " WindowsPath('Dataset/Positive/00083.jpg'),\n",
       " WindowsPath('Dataset/Positive/00084.jpg'),\n",
       " WindowsPath('Dataset/Positive/00085.jpg'),\n",
       " WindowsPath('Dataset/Positive/00086.jpg'),\n",
       " WindowsPath('Dataset/Positive/00087.jpg'),\n",
       " WindowsPath('Dataset/Positive/00088.jpg'),\n",
       " WindowsPath('Dataset/Positive/00089.jpg'),\n",
       " WindowsPath('Dataset/Positive/00090.jpg'),\n",
       " WindowsPath('Dataset/Positive/00091.jpg'),\n",
       " WindowsPath('Dataset/Positive/00092.jpg'),\n",
       " WindowsPath('Dataset/Positive/00093.jpg'),\n",
       " WindowsPath('Dataset/Positive/00094.jpg'),\n",
       " WindowsPath('Dataset/Positive/00095.jpg'),\n",
       " WindowsPath('Dataset/Positive/00096.jpg'),\n",
       " WindowsPath('Dataset/Positive/00097.jpg'),\n",
       " WindowsPath('Dataset/Positive/00098.jpg'),\n",
       " WindowsPath('Dataset/Positive/00099.jpg'),\n",
       " WindowsPath('Dataset/Positive/00100.jpg'),\n",
       " WindowsPath('Dataset/Positive/00101.jpg'),\n",
       " WindowsPath('Dataset/Positive/00102.jpg'),\n",
       " WindowsPath('Dataset/Positive/00103.jpg'),\n",
       " WindowsPath('Dataset/Positive/00104.jpg'),\n",
       " WindowsPath('Dataset/Positive/00105.jpg'),\n",
       " WindowsPath('Dataset/Positive/00106.jpg'),\n",
       " WindowsPath('Dataset/Positive/00107.jpg'),\n",
       " WindowsPath('Dataset/Positive/00108.jpg'),\n",
       " WindowsPath('Dataset/Positive/00109.jpg'),\n",
       " WindowsPath('Dataset/Positive/00110.jpg'),\n",
       " WindowsPath('Dataset/Positive/00111.jpg'),\n",
       " WindowsPath('Dataset/Positive/00112.jpg'),\n",
       " WindowsPath('Dataset/Positive/00113.jpg'),\n",
       " WindowsPath('Dataset/Positive/00114.jpg'),\n",
       " WindowsPath('Dataset/Positive/00115.jpg'),\n",
       " WindowsPath('Dataset/Positive/00116.jpg'),\n",
       " WindowsPath('Dataset/Positive/00117.jpg'),\n",
       " WindowsPath('Dataset/Positive/00118.jpg'),\n",
       " WindowsPath('Dataset/Positive/00119.jpg'),\n",
       " WindowsPath('Dataset/Positive/00120.jpg'),\n",
       " WindowsPath('Dataset/Positive/00121.jpg'),\n",
       " WindowsPath('Dataset/Positive/00122.jpg'),\n",
       " WindowsPath('Dataset/Positive/00123.jpg'),\n",
       " WindowsPath('Dataset/Positive/00124.jpg'),\n",
       " WindowsPath('Dataset/Positive/00125.jpg'),\n",
       " WindowsPath('Dataset/Positive/00126.jpg'),\n",
       " WindowsPath('Dataset/Positive/00127.jpg'),\n",
       " WindowsPath('Dataset/Positive/00128.jpg'),\n",
       " WindowsPath('Dataset/Positive/00129.jpg'),\n",
       " WindowsPath('Dataset/Positive/00130.jpg'),\n",
       " WindowsPath('Dataset/Positive/00131.jpg'),\n",
       " WindowsPath('Dataset/Positive/00132.jpg'),\n",
       " WindowsPath('Dataset/Positive/00133.jpg'),\n",
       " WindowsPath('Dataset/Positive/00134.jpg'),\n",
       " WindowsPath('Dataset/Positive/00135.jpg'),\n",
       " WindowsPath('Dataset/Positive/00136.jpg'),\n",
       " WindowsPath('Dataset/Positive/00137.jpg'),\n",
       " WindowsPath('Dataset/Positive/00138.jpg'),\n",
       " WindowsPath('Dataset/Positive/00139.jpg'),\n",
       " WindowsPath('Dataset/Positive/00140.jpg'),\n",
       " WindowsPath('Dataset/Positive/00141.jpg'),\n",
       " WindowsPath('Dataset/Positive/00142.jpg'),\n",
       " WindowsPath('Dataset/Positive/00143.jpg'),\n",
       " WindowsPath('Dataset/Positive/00144.jpg'),\n",
       " WindowsPath('Dataset/Positive/00145.jpg'),\n",
       " WindowsPath('Dataset/Positive/00146.jpg'),\n",
       " WindowsPath('Dataset/Positive/00147.jpg'),\n",
       " WindowsPath('Dataset/Positive/00148.jpg'),\n",
       " WindowsPath('Dataset/Positive/00149.jpg'),\n",
       " WindowsPath('Dataset/Positive/00150.jpg'),\n",
       " WindowsPath('Dataset/Positive/00151.jpg'),\n",
       " WindowsPath('Dataset/Positive/00152.jpg'),\n",
       " WindowsPath('Dataset/Positive/00153.jpg'),\n",
       " WindowsPath('Dataset/Positive/00154.jpg'),\n",
       " WindowsPath('Dataset/Positive/00155.jpg'),\n",
       " WindowsPath('Dataset/Positive/00156.jpg'),\n",
       " WindowsPath('Dataset/Positive/00157.jpg'),\n",
       " WindowsPath('Dataset/Positive/00158.jpg'),\n",
       " WindowsPath('Dataset/Positive/00159.jpg'),\n",
       " WindowsPath('Dataset/Positive/00160.jpg'),\n",
       " WindowsPath('Dataset/Positive/00161.jpg'),\n",
       " WindowsPath('Dataset/Positive/00162.jpg'),\n",
       " WindowsPath('Dataset/Positive/00163.jpg'),\n",
       " WindowsPath('Dataset/Positive/00164.jpg'),\n",
       " WindowsPath('Dataset/Positive/00165.jpg'),\n",
       " WindowsPath('Dataset/Positive/00166.jpg'),\n",
       " WindowsPath('Dataset/Positive/00167.jpg'),\n",
       " WindowsPath('Dataset/Positive/00168.jpg'),\n",
       " WindowsPath('Dataset/Positive/00169.jpg'),\n",
       " WindowsPath('Dataset/Positive/00170.jpg'),\n",
       " WindowsPath('Dataset/Positive/00171.jpg'),\n",
       " WindowsPath('Dataset/Positive/00172.jpg'),\n",
       " WindowsPath('Dataset/Positive/00173.jpg'),\n",
       " WindowsPath('Dataset/Positive/00174.jpg'),\n",
       " WindowsPath('Dataset/Positive/00175.jpg'),\n",
       " WindowsPath('Dataset/Positive/00176.jpg'),\n",
       " WindowsPath('Dataset/Positive/00177.jpg'),\n",
       " WindowsPath('Dataset/Positive/00178.jpg'),\n",
       " WindowsPath('Dataset/Positive/00179.jpg'),\n",
       " WindowsPath('Dataset/Positive/00180.jpg'),\n",
       " WindowsPath('Dataset/Positive/00181.jpg'),\n",
       " WindowsPath('Dataset/Positive/00182.jpg'),\n",
       " WindowsPath('Dataset/Positive/00183.jpg'),\n",
       " WindowsPath('Dataset/Positive/00184.jpg'),\n",
       " WindowsPath('Dataset/Positive/00185.jpg'),\n",
       " WindowsPath('Dataset/Positive/00186.jpg'),\n",
       " WindowsPath('Dataset/Positive/00187.jpg'),\n",
       " WindowsPath('Dataset/Positive/00188.jpg'),\n",
       " WindowsPath('Dataset/Positive/00189.jpg'),\n",
       " WindowsPath('Dataset/Positive/00190.jpg'),\n",
       " WindowsPath('Dataset/Positive/00191.jpg'),\n",
       " WindowsPath('Dataset/Positive/00192.jpg'),\n",
       " WindowsPath('Dataset/Positive/00193.jpg'),\n",
       " WindowsPath('Dataset/Positive/00194.jpg'),\n",
       " WindowsPath('Dataset/Positive/00195.jpg'),\n",
       " WindowsPath('Dataset/Positive/00196.jpg'),\n",
       " WindowsPath('Dataset/Positive/00197.jpg'),\n",
       " WindowsPath('Dataset/Positive/00198.jpg'),\n",
       " WindowsPath('Dataset/Positive/00199.jpg'),\n",
       " WindowsPath('Dataset/Positive/00200.jpg'),\n",
       " WindowsPath('Dataset/Positive/00201.jpg'),\n",
       " WindowsPath('Dataset/Positive/00202.jpg'),\n",
       " WindowsPath('Dataset/Positive/00203.jpg'),\n",
       " WindowsPath('Dataset/Positive/00204.jpg'),\n",
       " WindowsPath('Dataset/Positive/00205.jpg'),\n",
       " WindowsPath('Dataset/Positive/00206.jpg'),\n",
       " WindowsPath('Dataset/Positive/00207.jpg'),\n",
       " WindowsPath('Dataset/Positive/00208.jpg'),\n",
       " WindowsPath('Dataset/Positive/00209.jpg'),\n",
       " WindowsPath('Dataset/Positive/00210.jpg'),\n",
       " WindowsPath('Dataset/Positive/00211.jpg'),\n",
       " WindowsPath('Dataset/Positive/00212.jpg'),\n",
       " WindowsPath('Dataset/Positive/00213.jpg'),\n",
       " WindowsPath('Dataset/Positive/00214.jpg'),\n",
       " WindowsPath('Dataset/Positive/00215.jpg'),\n",
       " WindowsPath('Dataset/Positive/00216.jpg'),\n",
       " WindowsPath('Dataset/Positive/00217.jpg'),\n",
       " WindowsPath('Dataset/Positive/00218.jpg'),\n",
       " WindowsPath('Dataset/Positive/00219.jpg'),\n",
       " WindowsPath('Dataset/Positive/00220.jpg'),\n",
       " WindowsPath('Dataset/Positive/00221.jpg'),\n",
       " WindowsPath('Dataset/Positive/00222.jpg'),\n",
       " WindowsPath('Dataset/Positive/00223.jpg'),\n",
       " WindowsPath('Dataset/Positive/00224.jpg'),\n",
       " WindowsPath('Dataset/Positive/00225.jpg'),\n",
       " WindowsPath('Dataset/Positive/00226.jpg'),\n",
       " WindowsPath('Dataset/Positive/00227.jpg'),\n",
       " WindowsPath('Dataset/Positive/00228.jpg'),\n",
       " WindowsPath('Dataset/Positive/00229.jpg'),\n",
       " WindowsPath('Dataset/Positive/00230.jpg'),\n",
       " WindowsPath('Dataset/Positive/00231.jpg'),\n",
       " WindowsPath('Dataset/Positive/00232.jpg'),\n",
       " WindowsPath('Dataset/Positive/00233.jpg'),\n",
       " WindowsPath('Dataset/Positive/00234.jpg'),\n",
       " WindowsPath('Dataset/Positive/00235.jpg'),\n",
       " WindowsPath('Dataset/Positive/00236.jpg'),\n",
       " WindowsPath('Dataset/Positive/00237.jpg'),\n",
       " WindowsPath('Dataset/Positive/00238.jpg'),\n",
       " WindowsPath('Dataset/Positive/00239.jpg'),\n",
       " WindowsPath('Dataset/Positive/00240.jpg'),\n",
       " WindowsPath('Dataset/Positive/00241.jpg'),\n",
       " WindowsPath('Dataset/Positive/00242.jpg'),\n",
       " WindowsPath('Dataset/Positive/00243.jpg'),\n",
       " WindowsPath('Dataset/Positive/00244.jpg'),\n",
       " WindowsPath('Dataset/Positive/00245.jpg'),\n",
       " WindowsPath('Dataset/Positive/00246.jpg'),\n",
       " WindowsPath('Dataset/Positive/00247.jpg'),\n",
       " WindowsPath('Dataset/Positive/00248.jpg'),\n",
       " WindowsPath('Dataset/Positive/00249.jpg'),\n",
       " WindowsPath('Dataset/Positive/00250.jpg'),\n",
       " WindowsPath('Dataset/Positive/00251.jpg'),\n",
       " WindowsPath('Dataset/Positive/00252.jpg'),\n",
       " WindowsPath('Dataset/Positive/00253.jpg'),\n",
       " WindowsPath('Dataset/Positive/00254.jpg'),\n",
       " WindowsPath('Dataset/Positive/00255.jpg'),\n",
       " WindowsPath('Dataset/Positive/00256.jpg'),\n",
       " WindowsPath('Dataset/Positive/00257.jpg'),\n",
       " WindowsPath('Dataset/Positive/00258.jpg'),\n",
       " WindowsPath('Dataset/Positive/00259.jpg'),\n",
       " WindowsPath('Dataset/Positive/00260.jpg'),\n",
       " WindowsPath('Dataset/Positive/00261.jpg'),\n",
       " WindowsPath('Dataset/Positive/00262.jpg'),\n",
       " WindowsPath('Dataset/Positive/00263.jpg'),\n",
       " WindowsPath('Dataset/Positive/00264.jpg'),\n",
       " WindowsPath('Dataset/Positive/00265.jpg'),\n",
       " WindowsPath('Dataset/Positive/00266.jpg'),\n",
       " WindowsPath('Dataset/Positive/00267.jpg'),\n",
       " WindowsPath('Dataset/Positive/00268.jpg'),\n",
       " WindowsPath('Dataset/Positive/00269.jpg'),\n",
       " WindowsPath('Dataset/Positive/00270.jpg'),\n",
       " WindowsPath('Dataset/Positive/00271.jpg'),\n",
       " WindowsPath('Dataset/Positive/00272.jpg'),\n",
       " WindowsPath('Dataset/Positive/00273.jpg'),\n",
       " WindowsPath('Dataset/Positive/00274.jpg'),\n",
       " WindowsPath('Dataset/Positive/00275.jpg'),\n",
       " WindowsPath('Dataset/Positive/00276.jpg'),\n",
       " WindowsPath('Dataset/Positive/00277.jpg'),\n",
       " WindowsPath('Dataset/Positive/00278.jpg'),\n",
       " WindowsPath('Dataset/Positive/00279.jpg'),\n",
       " WindowsPath('Dataset/Positive/00280.jpg'),\n",
       " WindowsPath('Dataset/Positive/00281.jpg'),\n",
       " WindowsPath('Dataset/Positive/00282.jpg'),\n",
       " WindowsPath('Dataset/Positive/00283.jpg'),\n",
       " WindowsPath('Dataset/Positive/00284.jpg'),\n",
       " WindowsPath('Dataset/Positive/00285.jpg'),\n",
       " WindowsPath('Dataset/Positive/00286.jpg'),\n",
       " WindowsPath('Dataset/Positive/00287.jpg'),\n",
       " WindowsPath('Dataset/Positive/00288.jpg'),\n",
       " WindowsPath('Dataset/Positive/00289.jpg'),\n",
       " WindowsPath('Dataset/Positive/00290.jpg'),\n",
       " WindowsPath('Dataset/Positive/00291.jpg'),\n",
       " WindowsPath('Dataset/Positive/00292.jpg'),\n",
       " WindowsPath('Dataset/Positive/00293.jpg'),\n",
       " WindowsPath('Dataset/Positive/00294.jpg'),\n",
       " WindowsPath('Dataset/Positive/00295.jpg'),\n",
       " WindowsPath('Dataset/Positive/00296.jpg'),\n",
       " WindowsPath('Dataset/Positive/00297.jpg'),\n",
       " WindowsPath('Dataset/Positive/00298.jpg'),\n",
       " WindowsPath('Dataset/Positive/00299.jpg'),\n",
       " WindowsPath('Dataset/Positive/00300.jpg'),\n",
       " WindowsPath('Dataset/Positive/00301.jpg'),\n",
       " WindowsPath('Dataset/Positive/00302.jpg'),\n",
       " WindowsPath('Dataset/Positive/00303.jpg'),\n",
       " WindowsPath('Dataset/Positive/00304.jpg'),\n",
       " WindowsPath('Dataset/Positive/00305.jpg'),\n",
       " WindowsPath('Dataset/Positive/00306.jpg'),\n",
       " WindowsPath('Dataset/Positive/00307.jpg'),\n",
       " WindowsPath('Dataset/Positive/00308.jpg'),\n",
       " WindowsPath('Dataset/Positive/00309.jpg'),\n",
       " WindowsPath('Dataset/Positive/00310.jpg'),\n",
       " WindowsPath('Dataset/Positive/00311.jpg'),\n",
       " WindowsPath('Dataset/Positive/00312.jpg'),\n",
       " WindowsPath('Dataset/Positive/00313.jpg'),\n",
       " WindowsPath('Dataset/Positive/00314.jpg'),\n",
       " WindowsPath('Dataset/Positive/00315.jpg'),\n",
       " WindowsPath('Dataset/Positive/00316.jpg'),\n",
       " WindowsPath('Dataset/Positive/00317.jpg'),\n",
       " WindowsPath('Dataset/Positive/00318.jpg'),\n",
       " WindowsPath('Dataset/Positive/00319.jpg'),\n",
       " WindowsPath('Dataset/Positive/00320.jpg'),\n",
       " WindowsPath('Dataset/Positive/00321.jpg'),\n",
       " WindowsPath('Dataset/Positive/00322.jpg'),\n",
       " WindowsPath('Dataset/Positive/00323.jpg'),\n",
       " WindowsPath('Dataset/Positive/00324.jpg'),\n",
       " WindowsPath('Dataset/Positive/00325.jpg'),\n",
       " WindowsPath('Dataset/Positive/00326.jpg'),\n",
       " WindowsPath('Dataset/Positive/00327.jpg'),\n",
       " WindowsPath('Dataset/Positive/00328.jpg'),\n",
       " WindowsPath('Dataset/Positive/00329.jpg'),\n",
       " WindowsPath('Dataset/Positive/00330.jpg'),\n",
       " WindowsPath('Dataset/Positive/00331.jpg'),\n",
       " WindowsPath('Dataset/Positive/00332.jpg'),\n",
       " WindowsPath('Dataset/Positive/00333.jpg'),\n",
       " WindowsPath('Dataset/Positive/00334.jpg'),\n",
       " WindowsPath('Dataset/Positive/00335.jpg'),\n",
       " WindowsPath('Dataset/Positive/00336.jpg'),\n",
       " WindowsPath('Dataset/Positive/00337.jpg'),\n",
       " WindowsPath('Dataset/Positive/00338.jpg'),\n",
       " WindowsPath('Dataset/Positive/00339.jpg'),\n",
       " WindowsPath('Dataset/Positive/00340.jpg'),\n",
       " WindowsPath('Dataset/Positive/00341.jpg'),\n",
       " WindowsPath('Dataset/Positive/00342.jpg'),\n",
       " WindowsPath('Dataset/Positive/00343.jpg'),\n",
       " WindowsPath('Dataset/Positive/00344.jpg'),\n",
       " WindowsPath('Dataset/Positive/00345.jpg'),\n",
       " WindowsPath('Dataset/Positive/00346.jpg'),\n",
       " WindowsPath('Dataset/Positive/00347.jpg'),\n",
       " WindowsPath('Dataset/Positive/00348.jpg'),\n",
       " WindowsPath('Dataset/Positive/00349.jpg'),\n",
       " WindowsPath('Dataset/Positive/00350.jpg'),\n",
       " WindowsPath('Dataset/Positive/00351.jpg'),\n",
       " WindowsPath('Dataset/Positive/00352.jpg'),\n",
       " WindowsPath('Dataset/Positive/00353.jpg'),\n",
       " WindowsPath('Dataset/Positive/00354.jpg'),\n",
       " WindowsPath('Dataset/Positive/00355.jpg'),\n",
       " WindowsPath('Dataset/Positive/00356.jpg'),\n",
       " WindowsPath('Dataset/Positive/00357.jpg'),\n",
       " WindowsPath('Dataset/Positive/00358.jpg'),\n",
       " WindowsPath('Dataset/Positive/00359.jpg'),\n",
       " WindowsPath('Dataset/Positive/00360.jpg'),\n",
       " WindowsPath('Dataset/Positive/00361.jpg'),\n",
       " WindowsPath('Dataset/Positive/00362.jpg'),\n",
       " WindowsPath('Dataset/Positive/00363.jpg'),\n",
       " WindowsPath('Dataset/Positive/00364.jpg'),\n",
       " WindowsPath('Dataset/Positive/00365.jpg'),\n",
       " WindowsPath('Dataset/Positive/00366.jpg'),\n",
       " WindowsPath('Dataset/Positive/00367.jpg'),\n",
       " WindowsPath('Dataset/Positive/00368.jpg'),\n",
       " WindowsPath('Dataset/Positive/00369.jpg'),\n",
       " WindowsPath('Dataset/Positive/00370.jpg'),\n",
       " WindowsPath('Dataset/Positive/00371.jpg'),\n",
       " WindowsPath('Dataset/Positive/00372.jpg'),\n",
       " WindowsPath('Dataset/Positive/00373.jpg'),\n",
       " WindowsPath('Dataset/Positive/00374.jpg'),\n",
       " WindowsPath('Dataset/Positive/00375.jpg'),\n",
       " WindowsPath('Dataset/Positive/00376.jpg'),\n",
       " WindowsPath('Dataset/Positive/00377.jpg'),\n",
       " WindowsPath('Dataset/Positive/00378.jpg'),\n",
       " WindowsPath('Dataset/Positive/00379.jpg'),\n",
       " WindowsPath('Dataset/Positive/00380.jpg'),\n",
       " WindowsPath('Dataset/Positive/00381.jpg'),\n",
       " WindowsPath('Dataset/Positive/00382.jpg'),\n",
       " WindowsPath('Dataset/Positive/00383.jpg'),\n",
       " WindowsPath('Dataset/Positive/00384.jpg'),\n",
       " WindowsPath('Dataset/Positive/00385.jpg'),\n",
       " WindowsPath('Dataset/Positive/00386.jpg'),\n",
       " WindowsPath('Dataset/Positive/00387.jpg'),\n",
       " WindowsPath('Dataset/Positive/00388.jpg'),\n",
       " WindowsPath('Dataset/Positive/00389.jpg'),\n",
       " WindowsPath('Dataset/Positive/00390.jpg'),\n",
       " WindowsPath('Dataset/Positive/00391.jpg'),\n",
       " WindowsPath('Dataset/Positive/00392.jpg'),\n",
       " WindowsPath('Dataset/Positive/00393.jpg'),\n",
       " WindowsPath('Dataset/Positive/00394.jpg'),\n",
       " WindowsPath('Dataset/Positive/00395.jpg'),\n",
       " WindowsPath('Dataset/Positive/00396.jpg'),\n",
       " WindowsPath('Dataset/Positive/00397.jpg'),\n",
       " WindowsPath('Dataset/Positive/00398.jpg'),\n",
       " WindowsPath('Dataset/Positive/00399.jpg'),\n",
       " WindowsPath('Dataset/Positive/00400.jpg'),\n",
       " WindowsPath('Dataset/Positive/00401.jpg'),\n",
       " WindowsPath('Dataset/Positive/00402.jpg'),\n",
       " WindowsPath('Dataset/Positive/00403.jpg'),\n",
       " WindowsPath('Dataset/Positive/00404.jpg'),\n",
       " WindowsPath('Dataset/Positive/00405.jpg'),\n",
       " WindowsPath('Dataset/Positive/00406.jpg'),\n",
       " WindowsPath('Dataset/Positive/00407.jpg'),\n",
       " WindowsPath('Dataset/Positive/00408.jpg'),\n",
       " WindowsPath('Dataset/Positive/00409.jpg'),\n",
       " WindowsPath('Dataset/Positive/00410.jpg'),\n",
       " WindowsPath('Dataset/Positive/00411.jpg'),\n",
       " WindowsPath('Dataset/Positive/00412.jpg'),\n",
       " WindowsPath('Dataset/Positive/00413.jpg'),\n",
       " WindowsPath('Dataset/Positive/00414.jpg'),\n",
       " WindowsPath('Dataset/Positive/00415.jpg'),\n",
       " WindowsPath('Dataset/Positive/00416.jpg'),\n",
       " WindowsPath('Dataset/Positive/00417.jpg'),\n",
       " WindowsPath('Dataset/Positive/00418.jpg'),\n",
       " WindowsPath('Dataset/Positive/00419.jpg'),\n",
       " WindowsPath('Dataset/Positive/00420.jpg'),\n",
       " WindowsPath('Dataset/Positive/00421.jpg'),\n",
       " WindowsPath('Dataset/Positive/00422.jpg'),\n",
       " WindowsPath('Dataset/Positive/00423.jpg'),\n",
       " WindowsPath('Dataset/Positive/00424.jpg'),\n",
       " WindowsPath('Dataset/Positive/00425.jpg'),\n",
       " WindowsPath('Dataset/Positive/00426.jpg'),\n",
       " WindowsPath('Dataset/Positive/00427.jpg'),\n",
       " WindowsPath('Dataset/Positive/00428.jpg'),\n",
       " WindowsPath('Dataset/Positive/00429.jpg'),\n",
       " WindowsPath('Dataset/Positive/00430.jpg'),\n",
       " WindowsPath('Dataset/Positive/00431.jpg'),\n",
       " WindowsPath('Dataset/Positive/00432.jpg'),\n",
       " WindowsPath('Dataset/Positive/00433.jpg'),\n",
       " WindowsPath('Dataset/Positive/00434.jpg'),\n",
       " WindowsPath('Dataset/Positive/00435.jpg'),\n",
       " WindowsPath('Dataset/Positive/00436.jpg'),\n",
       " WindowsPath('Dataset/Positive/00437.jpg'),\n",
       " WindowsPath('Dataset/Positive/00438.jpg'),\n",
       " WindowsPath('Dataset/Positive/00439.jpg'),\n",
       " WindowsPath('Dataset/Positive/00440.jpg'),\n",
       " WindowsPath('Dataset/Positive/00441.jpg'),\n",
       " WindowsPath('Dataset/Positive/00442.jpg'),\n",
       " WindowsPath('Dataset/Positive/00443.jpg'),\n",
       " WindowsPath('Dataset/Positive/00444.jpg'),\n",
       " WindowsPath('Dataset/Positive/00445.jpg'),\n",
       " WindowsPath('Dataset/Positive/00446.jpg'),\n",
       " WindowsPath('Dataset/Positive/00447.jpg'),\n",
       " WindowsPath('Dataset/Positive/00448.jpg'),\n",
       " WindowsPath('Dataset/Positive/00449.jpg'),\n",
       " WindowsPath('Dataset/Positive/00450.jpg'),\n",
       " WindowsPath('Dataset/Positive/00451.jpg'),\n",
       " WindowsPath('Dataset/Positive/00452.jpg'),\n",
       " WindowsPath('Dataset/Positive/00453.jpg'),\n",
       " WindowsPath('Dataset/Positive/00454.jpg'),\n",
       " WindowsPath('Dataset/Positive/00455.jpg'),\n",
       " WindowsPath('Dataset/Positive/00456.jpg'),\n",
       " WindowsPath('Dataset/Positive/00457.jpg'),\n",
       " WindowsPath('Dataset/Positive/00458.jpg'),\n",
       " WindowsPath('Dataset/Positive/00459.jpg'),\n",
       " WindowsPath('Dataset/Positive/00460.jpg'),\n",
       " WindowsPath('Dataset/Positive/00461.jpg'),\n",
       " WindowsPath('Dataset/Positive/00462.jpg'),\n",
       " WindowsPath('Dataset/Positive/00463.jpg'),\n",
       " WindowsPath('Dataset/Positive/00464.jpg'),\n",
       " WindowsPath('Dataset/Positive/00465.jpg'),\n",
       " WindowsPath('Dataset/Positive/00466.jpg'),\n",
       " WindowsPath('Dataset/Positive/00467.jpg'),\n",
       " WindowsPath('Dataset/Positive/00468.jpg'),\n",
       " WindowsPath('Dataset/Positive/00469.jpg'),\n",
       " WindowsPath('Dataset/Positive/00470.jpg'),\n",
       " WindowsPath('Dataset/Positive/00471.jpg'),\n",
       " WindowsPath('Dataset/Positive/00472.jpg'),\n",
       " WindowsPath('Dataset/Positive/00473.jpg'),\n",
       " WindowsPath('Dataset/Positive/00474.jpg'),\n",
       " WindowsPath('Dataset/Positive/00475.jpg'),\n",
       " WindowsPath('Dataset/Positive/00476.jpg'),\n",
       " WindowsPath('Dataset/Positive/00477.jpg'),\n",
       " WindowsPath('Dataset/Positive/00478.jpg'),\n",
       " WindowsPath('Dataset/Positive/00479.jpg'),\n",
       " WindowsPath('Dataset/Positive/00480.jpg'),\n",
       " WindowsPath('Dataset/Positive/00481.jpg'),\n",
       " WindowsPath('Dataset/Positive/00482.jpg'),\n",
       " WindowsPath('Dataset/Positive/00483.jpg'),\n",
       " WindowsPath('Dataset/Positive/00484.jpg'),\n",
       " WindowsPath('Dataset/Positive/00485.jpg'),\n",
       " WindowsPath('Dataset/Positive/00486.jpg'),\n",
       " WindowsPath('Dataset/Positive/00487.jpg'),\n",
       " WindowsPath('Dataset/Positive/00488.jpg'),\n",
       " WindowsPath('Dataset/Positive/00489.jpg'),\n",
       " WindowsPath('Dataset/Positive/00490.jpg'),\n",
       " WindowsPath('Dataset/Positive/00491.jpg'),\n",
       " WindowsPath('Dataset/Positive/00492.jpg'),\n",
       " WindowsPath('Dataset/Positive/00493.jpg'),\n",
       " WindowsPath('Dataset/Positive/00494.jpg'),\n",
       " WindowsPath('Dataset/Positive/00495.jpg'),\n",
       " WindowsPath('Dataset/Positive/00496.jpg'),\n",
       " WindowsPath('Dataset/Positive/00497.jpg'),\n",
       " WindowsPath('Dataset/Positive/00498.jpg'),\n",
       " WindowsPath('Dataset/Positive/00499.jpg'),\n",
       " WindowsPath('Dataset/Positive/00500.jpg'),\n",
       " WindowsPath('Dataset/Positive/00501.jpg'),\n",
       " WindowsPath('Dataset/Positive/00502.jpg'),\n",
       " WindowsPath('Dataset/Positive/00503.jpg'),\n",
       " WindowsPath('Dataset/Positive/00504.jpg'),\n",
       " WindowsPath('Dataset/Positive/00505.jpg'),\n",
       " WindowsPath('Dataset/Positive/00506.jpg'),\n",
       " WindowsPath('Dataset/Positive/00507.jpg'),\n",
       " WindowsPath('Dataset/Positive/00508.jpg'),\n",
       " WindowsPath('Dataset/Positive/00509.jpg'),\n",
       " WindowsPath('Dataset/Positive/00510.jpg'),\n",
       " WindowsPath('Dataset/Positive/00511.jpg'),\n",
       " WindowsPath('Dataset/Positive/00512.jpg'),\n",
       " WindowsPath('Dataset/Positive/00513.jpg'),\n",
       " WindowsPath('Dataset/Positive/00514.jpg'),\n",
       " WindowsPath('Dataset/Positive/00515.jpg'),\n",
       " WindowsPath('Dataset/Positive/00516.jpg'),\n",
       " WindowsPath('Dataset/Positive/00517.jpg'),\n",
       " WindowsPath('Dataset/Positive/00518.jpg'),\n",
       " WindowsPath('Dataset/Positive/00519.jpg'),\n",
       " WindowsPath('Dataset/Positive/00520.jpg'),\n",
       " WindowsPath('Dataset/Positive/00521.jpg'),\n",
       " WindowsPath('Dataset/Positive/00522.jpg'),\n",
       " WindowsPath('Dataset/Positive/00523.jpg'),\n",
       " WindowsPath('Dataset/Positive/00524.jpg'),\n",
       " WindowsPath('Dataset/Positive/00525.jpg'),\n",
       " WindowsPath('Dataset/Positive/00526.jpg'),\n",
       " WindowsPath('Dataset/Positive/00527.jpg'),\n",
       " WindowsPath('Dataset/Positive/00528.jpg'),\n",
       " WindowsPath('Dataset/Positive/00529.jpg'),\n",
       " WindowsPath('Dataset/Positive/00530.jpg'),\n",
       " WindowsPath('Dataset/Positive/00531.jpg'),\n",
       " WindowsPath('Dataset/Positive/00532.jpg'),\n",
       " WindowsPath('Dataset/Positive/00533.jpg'),\n",
       " WindowsPath('Dataset/Positive/00534.jpg'),\n",
       " WindowsPath('Dataset/Positive/00535.jpg'),\n",
       " WindowsPath('Dataset/Positive/00536.jpg'),\n",
       " WindowsPath('Dataset/Positive/00537.jpg'),\n",
       " WindowsPath('Dataset/Positive/00538.jpg'),\n",
       " WindowsPath('Dataset/Positive/00539.jpg'),\n",
       " WindowsPath('Dataset/Positive/00540.jpg'),\n",
       " WindowsPath('Dataset/Positive/00541.jpg'),\n",
       " WindowsPath('Dataset/Positive/00542.jpg'),\n",
       " WindowsPath('Dataset/Positive/00543.jpg'),\n",
       " WindowsPath('Dataset/Positive/00544.jpg'),\n",
       " WindowsPath('Dataset/Positive/00545.jpg'),\n",
       " WindowsPath('Dataset/Positive/00546.jpg'),\n",
       " WindowsPath('Dataset/Positive/00547.jpg'),\n",
       " WindowsPath('Dataset/Positive/00548.jpg'),\n",
       " WindowsPath('Dataset/Positive/00549.jpg'),\n",
       " WindowsPath('Dataset/Positive/00550.jpg'),\n",
       " WindowsPath('Dataset/Positive/00551.jpg'),\n",
       " WindowsPath('Dataset/Positive/00552.jpg'),\n",
       " WindowsPath('Dataset/Positive/00553.jpg'),\n",
       " WindowsPath('Dataset/Positive/00554.jpg'),\n",
       " WindowsPath('Dataset/Positive/00555.jpg'),\n",
       " WindowsPath('Dataset/Positive/00556.jpg'),\n",
       " WindowsPath('Dataset/Positive/00557.jpg'),\n",
       " WindowsPath('Dataset/Positive/00558.jpg'),\n",
       " WindowsPath('Dataset/Positive/00559.jpg'),\n",
       " WindowsPath('Dataset/Positive/00560.jpg'),\n",
       " WindowsPath('Dataset/Positive/00561.jpg'),\n",
       " WindowsPath('Dataset/Positive/00562.jpg'),\n",
       " WindowsPath('Dataset/Positive/00563.jpg'),\n",
       " WindowsPath('Dataset/Positive/00564.jpg'),\n",
       " WindowsPath('Dataset/Positive/00565.jpg'),\n",
       " WindowsPath('Dataset/Positive/00566.jpg'),\n",
       " WindowsPath('Dataset/Positive/00567.jpg'),\n",
       " WindowsPath('Dataset/Positive/00568.jpg'),\n",
       " WindowsPath('Dataset/Positive/00569.jpg'),\n",
       " WindowsPath('Dataset/Positive/00570.jpg'),\n",
       " WindowsPath('Dataset/Positive/00571.jpg'),\n",
       " WindowsPath('Dataset/Positive/00572.jpg'),\n",
       " WindowsPath('Dataset/Positive/00573.jpg'),\n",
       " WindowsPath('Dataset/Positive/00574.jpg'),\n",
       " WindowsPath('Dataset/Positive/00575.jpg'),\n",
       " WindowsPath('Dataset/Positive/00576.jpg'),\n",
       " WindowsPath('Dataset/Positive/00577.jpg'),\n",
       " WindowsPath('Dataset/Positive/00578.jpg'),\n",
       " WindowsPath('Dataset/Positive/00579.jpg'),\n",
       " WindowsPath('Dataset/Positive/00580.jpg'),\n",
       " WindowsPath('Dataset/Positive/00581.jpg'),\n",
       " WindowsPath('Dataset/Positive/00582.jpg'),\n",
       " WindowsPath('Dataset/Positive/00583.jpg'),\n",
       " WindowsPath('Dataset/Positive/00584.jpg'),\n",
       " WindowsPath('Dataset/Positive/00585.jpg'),\n",
       " WindowsPath('Dataset/Positive/00586.jpg'),\n",
       " WindowsPath('Dataset/Positive/00587.jpg'),\n",
       " WindowsPath('Dataset/Positive/00588.jpg'),\n",
       " WindowsPath('Dataset/Positive/00589.jpg'),\n",
       " WindowsPath('Dataset/Positive/00590.jpg'),\n",
       " WindowsPath('Dataset/Positive/00591.jpg'),\n",
       " WindowsPath('Dataset/Positive/00592.jpg'),\n",
       " WindowsPath('Dataset/Positive/00593.jpg'),\n",
       " WindowsPath('Dataset/Positive/00594.jpg'),\n",
       " WindowsPath('Dataset/Positive/00595.jpg'),\n",
       " WindowsPath('Dataset/Positive/00596.jpg'),\n",
       " WindowsPath('Dataset/Positive/00597.jpg'),\n",
       " WindowsPath('Dataset/Positive/00598.jpg'),\n",
       " WindowsPath('Dataset/Positive/00599.jpg'),\n",
       " WindowsPath('Dataset/Positive/00600.jpg'),\n",
       " WindowsPath('Dataset/Positive/00601.jpg'),\n",
       " WindowsPath('Dataset/Positive/00602.jpg'),\n",
       " WindowsPath('Dataset/Positive/00603.jpg'),\n",
       " WindowsPath('Dataset/Positive/00604.jpg'),\n",
       " WindowsPath('Dataset/Positive/00605.jpg'),\n",
       " WindowsPath('Dataset/Positive/00606.jpg'),\n",
       " WindowsPath('Dataset/Positive/00607.jpg'),\n",
       " WindowsPath('Dataset/Positive/00608.jpg'),\n",
       " WindowsPath('Dataset/Positive/00609.jpg'),\n",
       " WindowsPath('Dataset/Positive/00610.jpg'),\n",
       " WindowsPath('Dataset/Positive/00611.jpg'),\n",
       " WindowsPath('Dataset/Positive/00612.jpg'),\n",
       " WindowsPath('Dataset/Positive/00613.jpg'),\n",
       " WindowsPath('Dataset/Positive/00614.jpg'),\n",
       " WindowsPath('Dataset/Positive/00615.jpg'),\n",
       " WindowsPath('Dataset/Positive/00616.jpg'),\n",
       " WindowsPath('Dataset/Positive/00617.jpg'),\n",
       " WindowsPath('Dataset/Positive/00618.jpg'),\n",
       " WindowsPath('Dataset/Positive/00619.jpg'),\n",
       " WindowsPath('Dataset/Positive/00620.jpg'),\n",
       " WindowsPath('Dataset/Positive/00621.jpg'),\n",
       " WindowsPath('Dataset/Positive/00622.jpg'),\n",
       " WindowsPath('Dataset/Positive/00623.jpg'),\n",
       " WindowsPath('Dataset/Positive/00624.jpg'),\n",
       " WindowsPath('Dataset/Positive/00625.jpg'),\n",
       " WindowsPath('Dataset/Positive/00626.jpg'),\n",
       " WindowsPath('Dataset/Positive/00627.jpg'),\n",
       " WindowsPath('Dataset/Positive/00628.jpg'),\n",
       " WindowsPath('Dataset/Positive/00629.jpg'),\n",
       " WindowsPath('Dataset/Positive/00630.jpg'),\n",
       " WindowsPath('Dataset/Positive/00631.jpg'),\n",
       " WindowsPath('Dataset/Positive/00632.jpg'),\n",
       " WindowsPath('Dataset/Positive/00633.jpg'),\n",
       " WindowsPath('Dataset/Positive/00634.jpg'),\n",
       " WindowsPath('Dataset/Positive/00635.jpg'),\n",
       " WindowsPath('Dataset/Positive/00636.jpg'),\n",
       " WindowsPath('Dataset/Positive/00637.jpg'),\n",
       " WindowsPath('Dataset/Positive/00638.jpg'),\n",
       " WindowsPath('Dataset/Positive/00639.jpg'),\n",
       " WindowsPath('Dataset/Positive/00640.jpg'),\n",
       " WindowsPath('Dataset/Positive/00641.jpg'),\n",
       " WindowsPath('Dataset/Positive/00642.jpg'),\n",
       " WindowsPath('Dataset/Positive/00643.jpg'),\n",
       " WindowsPath('Dataset/Positive/00644.jpg'),\n",
       " WindowsPath('Dataset/Positive/00645.jpg'),\n",
       " WindowsPath('Dataset/Positive/00646.jpg'),\n",
       " WindowsPath('Dataset/Positive/00647.jpg'),\n",
       " WindowsPath('Dataset/Positive/00648.jpg'),\n",
       " WindowsPath('Dataset/Positive/00649.jpg'),\n",
       " WindowsPath('Dataset/Positive/00650.jpg'),\n",
       " WindowsPath('Dataset/Positive/00651.jpg'),\n",
       " WindowsPath('Dataset/Positive/00652.jpg'),\n",
       " WindowsPath('Dataset/Positive/00653.jpg'),\n",
       " WindowsPath('Dataset/Positive/00654.jpg'),\n",
       " WindowsPath('Dataset/Positive/00655.jpg'),\n",
       " WindowsPath('Dataset/Positive/00656.jpg'),\n",
       " WindowsPath('Dataset/Positive/00657.jpg'),\n",
       " WindowsPath('Dataset/Positive/00658.jpg'),\n",
       " WindowsPath('Dataset/Positive/00659.jpg'),\n",
       " WindowsPath('Dataset/Positive/00660.jpg'),\n",
       " WindowsPath('Dataset/Positive/00661.jpg'),\n",
       " WindowsPath('Dataset/Positive/00662.jpg'),\n",
       " WindowsPath('Dataset/Positive/00663.jpg'),\n",
       " WindowsPath('Dataset/Positive/00664.jpg'),\n",
       " WindowsPath('Dataset/Positive/00665.jpg'),\n",
       " WindowsPath('Dataset/Positive/00666.jpg'),\n",
       " WindowsPath('Dataset/Positive/00667.jpg'),\n",
       " WindowsPath('Dataset/Positive/00668.jpg'),\n",
       " WindowsPath('Dataset/Positive/00669.jpg'),\n",
       " WindowsPath('Dataset/Positive/00670.jpg'),\n",
       " WindowsPath('Dataset/Positive/00671.jpg'),\n",
       " WindowsPath('Dataset/Positive/00672.jpg'),\n",
       " WindowsPath('Dataset/Positive/00673.jpg'),\n",
       " WindowsPath('Dataset/Positive/00674.jpg'),\n",
       " WindowsPath('Dataset/Positive/00675.jpg'),\n",
       " WindowsPath('Dataset/Positive/00676.jpg'),\n",
       " WindowsPath('Dataset/Positive/00677.jpg'),\n",
       " WindowsPath('Dataset/Positive/00678.jpg'),\n",
       " WindowsPath('Dataset/Positive/00679.jpg'),\n",
       " WindowsPath('Dataset/Positive/00680.jpg'),\n",
       " WindowsPath('Dataset/Positive/00681.jpg'),\n",
       " WindowsPath('Dataset/Positive/00682.jpg'),\n",
       " WindowsPath('Dataset/Positive/00683.jpg'),\n",
       " WindowsPath('Dataset/Positive/00684.jpg'),\n",
       " WindowsPath('Dataset/Positive/00685.jpg'),\n",
       " WindowsPath('Dataset/Positive/00686.jpg'),\n",
       " WindowsPath('Dataset/Positive/00687.jpg'),\n",
       " WindowsPath('Dataset/Positive/00688.jpg'),\n",
       " WindowsPath('Dataset/Positive/00689.jpg'),\n",
       " WindowsPath('Dataset/Positive/00690.jpg'),\n",
       " WindowsPath('Dataset/Positive/00691.jpg'),\n",
       " WindowsPath('Dataset/Positive/00692.jpg'),\n",
       " WindowsPath('Dataset/Positive/00693.jpg'),\n",
       " WindowsPath('Dataset/Positive/00694.jpg'),\n",
       " WindowsPath('Dataset/Positive/00695.jpg'),\n",
       " WindowsPath('Dataset/Positive/00696.jpg'),\n",
       " WindowsPath('Dataset/Positive/00697.jpg'),\n",
       " WindowsPath('Dataset/Positive/00698.jpg'),\n",
       " WindowsPath('Dataset/Positive/00699.jpg'),\n",
       " WindowsPath('Dataset/Positive/00700.jpg'),\n",
       " WindowsPath('Dataset/Positive/00701.jpg'),\n",
       " WindowsPath('Dataset/Positive/00702.jpg'),\n",
       " WindowsPath('Dataset/Positive/00703.jpg'),\n",
       " WindowsPath('Dataset/Positive/00704.jpg'),\n",
       " WindowsPath('Dataset/Positive/00705.jpg'),\n",
       " WindowsPath('Dataset/Positive/00706.jpg'),\n",
       " WindowsPath('Dataset/Positive/00707.jpg'),\n",
       " WindowsPath('Dataset/Positive/00708.jpg'),\n",
       " WindowsPath('Dataset/Positive/00709.jpg'),\n",
       " WindowsPath('Dataset/Positive/00710.jpg'),\n",
       " WindowsPath('Dataset/Positive/00711.jpg'),\n",
       " WindowsPath('Dataset/Positive/00712.jpg'),\n",
       " WindowsPath('Dataset/Positive/00713.jpg'),\n",
       " WindowsPath('Dataset/Positive/00714.jpg'),\n",
       " WindowsPath('Dataset/Positive/00715.jpg'),\n",
       " WindowsPath('Dataset/Positive/00716.jpg'),\n",
       " WindowsPath('Dataset/Positive/00717.jpg'),\n",
       " WindowsPath('Dataset/Positive/00718.jpg'),\n",
       " WindowsPath('Dataset/Positive/00719.jpg'),\n",
       " WindowsPath('Dataset/Positive/00720.jpg'),\n",
       " WindowsPath('Dataset/Positive/00721.jpg'),\n",
       " WindowsPath('Dataset/Positive/00722.jpg'),\n",
       " WindowsPath('Dataset/Positive/00723.jpg'),\n",
       " WindowsPath('Dataset/Positive/00724.jpg'),\n",
       " WindowsPath('Dataset/Positive/00725.jpg'),\n",
       " WindowsPath('Dataset/Positive/00726.jpg'),\n",
       " WindowsPath('Dataset/Positive/00727.jpg'),\n",
       " WindowsPath('Dataset/Positive/00728.jpg'),\n",
       " WindowsPath('Dataset/Positive/00729.jpg'),\n",
       " WindowsPath('Dataset/Positive/00730.jpg'),\n",
       " WindowsPath('Dataset/Positive/00731.jpg'),\n",
       " WindowsPath('Dataset/Positive/00732.jpg'),\n",
       " WindowsPath('Dataset/Positive/00733.jpg'),\n",
       " WindowsPath('Dataset/Positive/00734.jpg'),\n",
       " WindowsPath('Dataset/Positive/00735.jpg'),\n",
       " WindowsPath('Dataset/Positive/00736.jpg'),\n",
       " WindowsPath('Dataset/Positive/00737.jpg'),\n",
       " WindowsPath('Dataset/Positive/00738.jpg'),\n",
       " WindowsPath('Dataset/Positive/00739.jpg'),\n",
       " WindowsPath('Dataset/Positive/00740.jpg'),\n",
       " WindowsPath('Dataset/Positive/00741.jpg'),\n",
       " WindowsPath('Dataset/Positive/00742.jpg'),\n",
       " WindowsPath('Dataset/Positive/00743.jpg'),\n",
       " WindowsPath('Dataset/Positive/00744.jpg'),\n",
       " WindowsPath('Dataset/Positive/00745.jpg'),\n",
       " WindowsPath('Dataset/Positive/00746.jpg'),\n",
       " WindowsPath('Dataset/Positive/00747.jpg'),\n",
       " WindowsPath('Dataset/Positive/00748.jpg'),\n",
       " WindowsPath('Dataset/Positive/00749.jpg'),\n",
       " WindowsPath('Dataset/Positive/00750.jpg'),\n",
       " WindowsPath('Dataset/Positive/00751.jpg'),\n",
       " WindowsPath('Dataset/Positive/00752.jpg'),\n",
       " WindowsPath('Dataset/Positive/00753.jpg'),\n",
       " WindowsPath('Dataset/Positive/00754.jpg'),\n",
       " WindowsPath('Dataset/Positive/00755.jpg'),\n",
       " WindowsPath('Dataset/Positive/00756.jpg'),\n",
       " WindowsPath('Dataset/Positive/00757.jpg'),\n",
       " WindowsPath('Dataset/Positive/00758.jpg'),\n",
       " WindowsPath('Dataset/Positive/00759.jpg'),\n",
       " WindowsPath('Dataset/Positive/00760.jpg'),\n",
       " WindowsPath('Dataset/Positive/00761.jpg'),\n",
       " WindowsPath('Dataset/Positive/00762.jpg'),\n",
       " WindowsPath('Dataset/Positive/00763.jpg'),\n",
       " WindowsPath('Dataset/Positive/00764.jpg'),\n",
       " WindowsPath('Dataset/Positive/00765.jpg'),\n",
       " WindowsPath('Dataset/Positive/00766.jpg'),\n",
       " WindowsPath('Dataset/Positive/00767.jpg'),\n",
       " WindowsPath('Dataset/Positive/00768.jpg'),\n",
       " WindowsPath('Dataset/Positive/00769.jpg'),\n",
       " WindowsPath('Dataset/Positive/00770.jpg'),\n",
       " WindowsPath('Dataset/Positive/00771.jpg'),\n",
       " WindowsPath('Dataset/Positive/00772.jpg'),\n",
       " WindowsPath('Dataset/Positive/00773.jpg'),\n",
       " WindowsPath('Dataset/Positive/00774.jpg'),\n",
       " WindowsPath('Dataset/Positive/00775.jpg'),\n",
       " WindowsPath('Dataset/Positive/00776.jpg'),\n",
       " WindowsPath('Dataset/Positive/00777.jpg'),\n",
       " WindowsPath('Dataset/Positive/00778.jpg'),\n",
       " WindowsPath('Dataset/Positive/00779.jpg'),\n",
       " WindowsPath('Dataset/Positive/00780.jpg'),\n",
       " WindowsPath('Dataset/Positive/00781.jpg'),\n",
       " WindowsPath('Dataset/Positive/00782.jpg'),\n",
       " WindowsPath('Dataset/Positive/00783.jpg'),\n",
       " WindowsPath('Dataset/Positive/00784.jpg'),\n",
       " WindowsPath('Dataset/Positive/00785.jpg'),\n",
       " WindowsPath('Dataset/Positive/00786.jpg'),\n",
       " WindowsPath('Dataset/Positive/00787.jpg'),\n",
       " WindowsPath('Dataset/Positive/00788.jpg'),\n",
       " WindowsPath('Dataset/Positive/00789.jpg'),\n",
       " WindowsPath('Dataset/Positive/00790.jpg'),\n",
       " WindowsPath('Dataset/Positive/00791.jpg'),\n",
       " WindowsPath('Dataset/Positive/00792.jpg'),\n",
       " WindowsPath('Dataset/Positive/00793.jpg'),\n",
       " WindowsPath('Dataset/Positive/00794.jpg'),\n",
       " WindowsPath('Dataset/Positive/00795.jpg'),\n",
       " WindowsPath('Dataset/Positive/00796.jpg'),\n",
       " WindowsPath('Dataset/Positive/00797.jpg'),\n",
       " WindowsPath('Dataset/Positive/00798.jpg'),\n",
       " WindowsPath('Dataset/Positive/00799.jpg'),\n",
       " WindowsPath('Dataset/Positive/00800.jpg'),\n",
       " WindowsPath('Dataset/Positive/00801.jpg'),\n",
       " WindowsPath('Dataset/Positive/00802.jpg'),\n",
       " WindowsPath('Dataset/Positive/00803.jpg'),\n",
       " WindowsPath('Dataset/Positive/00804.jpg'),\n",
       " WindowsPath('Dataset/Positive/00805.jpg'),\n",
       " WindowsPath('Dataset/Positive/00806.jpg'),\n",
       " WindowsPath('Dataset/Positive/00807.jpg'),\n",
       " WindowsPath('Dataset/Positive/00808.jpg'),\n",
       " WindowsPath('Dataset/Positive/00809.jpg'),\n",
       " WindowsPath('Dataset/Positive/00810.jpg'),\n",
       " WindowsPath('Dataset/Positive/00811.jpg'),\n",
       " WindowsPath('Dataset/Positive/00812.jpg'),\n",
       " WindowsPath('Dataset/Positive/00813.jpg'),\n",
       " WindowsPath('Dataset/Positive/00814.jpg'),\n",
       " WindowsPath('Dataset/Positive/00815.jpg'),\n",
       " WindowsPath('Dataset/Positive/00816.jpg'),\n",
       " WindowsPath('Dataset/Positive/00817.jpg'),\n",
       " WindowsPath('Dataset/Positive/00818.jpg'),\n",
       " WindowsPath('Dataset/Positive/00819.jpg'),\n",
       " WindowsPath('Dataset/Positive/00820.jpg'),\n",
       " WindowsPath('Dataset/Positive/00821.jpg'),\n",
       " WindowsPath('Dataset/Positive/00822.jpg'),\n",
       " WindowsPath('Dataset/Positive/00823.jpg'),\n",
       " WindowsPath('Dataset/Positive/00824.jpg'),\n",
       " WindowsPath('Dataset/Positive/00825.jpg'),\n",
       " WindowsPath('Dataset/Positive/00826.jpg'),\n",
       " WindowsPath('Dataset/Positive/00827.jpg'),\n",
       " WindowsPath('Dataset/Positive/00828.jpg'),\n",
       " WindowsPath('Dataset/Positive/00829.jpg'),\n",
       " WindowsPath('Dataset/Positive/00830.jpg'),\n",
       " WindowsPath('Dataset/Positive/00831.jpg'),\n",
       " WindowsPath('Dataset/Positive/00832.jpg'),\n",
       " WindowsPath('Dataset/Positive/00833.jpg'),\n",
       " WindowsPath('Dataset/Positive/00834.jpg'),\n",
       " WindowsPath('Dataset/Positive/00835.jpg'),\n",
       " WindowsPath('Dataset/Positive/00836.jpg'),\n",
       " WindowsPath('Dataset/Positive/00837.jpg'),\n",
       " WindowsPath('Dataset/Positive/00838.jpg'),\n",
       " WindowsPath('Dataset/Positive/00839.jpg'),\n",
       " WindowsPath('Dataset/Positive/00840.jpg'),\n",
       " WindowsPath('Dataset/Positive/00841.jpg'),\n",
       " WindowsPath('Dataset/Positive/00842.jpg'),\n",
       " WindowsPath('Dataset/Positive/00843.jpg'),\n",
       " WindowsPath('Dataset/Positive/00844.jpg'),\n",
       " WindowsPath('Dataset/Positive/00845.jpg'),\n",
       " WindowsPath('Dataset/Positive/00846.jpg'),\n",
       " WindowsPath('Dataset/Positive/00847.jpg'),\n",
       " WindowsPath('Dataset/Positive/00848.jpg'),\n",
       " WindowsPath('Dataset/Positive/00849.jpg'),\n",
       " WindowsPath('Dataset/Positive/00850.jpg'),\n",
       " WindowsPath('Dataset/Positive/00851.jpg'),\n",
       " WindowsPath('Dataset/Positive/00852.jpg'),\n",
       " WindowsPath('Dataset/Positive/00853.jpg'),\n",
       " WindowsPath('Dataset/Positive/00854.jpg'),\n",
       " WindowsPath('Dataset/Positive/00855.jpg'),\n",
       " WindowsPath('Dataset/Positive/00856.jpg'),\n",
       " WindowsPath('Dataset/Positive/00857.jpg'),\n",
       " WindowsPath('Dataset/Positive/00858.jpg'),\n",
       " WindowsPath('Dataset/Positive/00859.jpg'),\n",
       " WindowsPath('Dataset/Positive/00860.jpg'),\n",
       " WindowsPath('Dataset/Positive/00861.jpg'),\n",
       " WindowsPath('Dataset/Positive/00862.jpg'),\n",
       " WindowsPath('Dataset/Positive/00863.jpg'),\n",
       " WindowsPath('Dataset/Positive/00864.jpg'),\n",
       " WindowsPath('Dataset/Positive/00865.jpg'),\n",
       " WindowsPath('Dataset/Positive/00866.jpg'),\n",
       " WindowsPath('Dataset/Positive/00867.jpg'),\n",
       " WindowsPath('Dataset/Positive/00868.jpg'),\n",
       " WindowsPath('Dataset/Positive/00869.jpg'),\n",
       " WindowsPath('Dataset/Positive/00870.jpg'),\n",
       " WindowsPath('Dataset/Positive/00871.jpg'),\n",
       " WindowsPath('Dataset/Positive/00872.jpg'),\n",
       " WindowsPath('Dataset/Positive/00873.jpg'),\n",
       " WindowsPath('Dataset/Positive/00874.jpg'),\n",
       " WindowsPath('Dataset/Positive/00875.jpg'),\n",
       " WindowsPath('Dataset/Positive/00876.jpg'),\n",
       " WindowsPath('Dataset/Positive/00877.jpg'),\n",
       " WindowsPath('Dataset/Positive/00878.jpg'),\n",
       " WindowsPath('Dataset/Positive/00879.jpg'),\n",
       " WindowsPath('Dataset/Positive/00880.jpg'),\n",
       " WindowsPath('Dataset/Positive/00881.jpg'),\n",
       " WindowsPath('Dataset/Positive/00882.jpg'),\n",
       " WindowsPath('Dataset/Positive/00883.jpg'),\n",
       " WindowsPath('Dataset/Positive/00884.jpg'),\n",
       " WindowsPath('Dataset/Positive/00885.jpg'),\n",
       " WindowsPath('Dataset/Positive/00886.jpg'),\n",
       " WindowsPath('Dataset/Positive/00887.jpg'),\n",
       " WindowsPath('Dataset/Positive/00888.jpg'),\n",
       " WindowsPath('Dataset/Positive/00889.jpg'),\n",
       " WindowsPath('Dataset/Positive/00890.jpg'),\n",
       " WindowsPath('Dataset/Positive/00891.jpg'),\n",
       " WindowsPath('Dataset/Positive/00892.jpg'),\n",
       " WindowsPath('Dataset/Positive/00893.jpg'),\n",
       " WindowsPath('Dataset/Positive/00894.jpg'),\n",
       " WindowsPath('Dataset/Positive/00895.jpg'),\n",
       " WindowsPath('Dataset/Positive/00896.jpg'),\n",
       " WindowsPath('Dataset/Positive/00897.jpg'),\n",
       " WindowsPath('Dataset/Positive/00898.jpg'),\n",
       " WindowsPath('Dataset/Positive/00899.jpg'),\n",
       " WindowsPath('Dataset/Positive/00900.jpg'),\n",
       " WindowsPath('Dataset/Positive/00901.jpg'),\n",
       " WindowsPath('Dataset/Positive/00902.jpg'),\n",
       " WindowsPath('Dataset/Positive/00903.jpg'),\n",
       " WindowsPath('Dataset/Positive/00904.jpg'),\n",
       " WindowsPath('Dataset/Positive/00905.jpg'),\n",
       " WindowsPath('Dataset/Positive/00906.jpg'),\n",
       " WindowsPath('Dataset/Positive/00907.jpg'),\n",
       " WindowsPath('Dataset/Positive/00908.jpg'),\n",
       " WindowsPath('Dataset/Positive/00909.jpg'),\n",
       " WindowsPath('Dataset/Positive/00910.jpg'),\n",
       " WindowsPath('Dataset/Positive/00911.jpg'),\n",
       " WindowsPath('Dataset/Positive/00912.jpg'),\n",
       " WindowsPath('Dataset/Positive/00913.jpg'),\n",
       " WindowsPath('Dataset/Positive/00914.jpg'),\n",
       " WindowsPath('Dataset/Positive/00915.jpg'),\n",
       " WindowsPath('Dataset/Positive/00916.jpg'),\n",
       " WindowsPath('Dataset/Positive/00917.jpg'),\n",
       " WindowsPath('Dataset/Positive/00918.jpg'),\n",
       " WindowsPath('Dataset/Positive/00919.jpg'),\n",
       " WindowsPath('Dataset/Positive/00920.jpg'),\n",
       " WindowsPath('Dataset/Positive/00921.jpg'),\n",
       " WindowsPath('Dataset/Positive/00922.jpg'),\n",
       " WindowsPath('Dataset/Positive/00923.jpg'),\n",
       " WindowsPath('Dataset/Positive/00924.jpg'),\n",
       " WindowsPath('Dataset/Positive/00925.jpg'),\n",
       " WindowsPath('Dataset/Positive/00926.jpg'),\n",
       " WindowsPath('Dataset/Positive/00927.jpg'),\n",
       " WindowsPath('Dataset/Positive/00928.jpg'),\n",
       " WindowsPath('Dataset/Positive/00929.jpg'),\n",
       " WindowsPath('Dataset/Positive/00930.jpg'),\n",
       " WindowsPath('Dataset/Positive/00931.jpg'),\n",
       " WindowsPath('Dataset/Positive/00932.jpg'),\n",
       " WindowsPath('Dataset/Positive/00933.jpg'),\n",
       " WindowsPath('Dataset/Positive/00934.jpg'),\n",
       " WindowsPath('Dataset/Positive/00935.jpg'),\n",
       " WindowsPath('Dataset/Positive/00936.jpg'),\n",
       " WindowsPath('Dataset/Positive/00937.jpg'),\n",
       " WindowsPath('Dataset/Positive/00938.jpg'),\n",
       " WindowsPath('Dataset/Positive/00939.jpg'),\n",
       " WindowsPath('Dataset/Positive/00940.jpg'),\n",
       " WindowsPath('Dataset/Positive/00941.jpg'),\n",
       " WindowsPath('Dataset/Positive/00942.jpg'),\n",
       " WindowsPath('Dataset/Positive/00943.jpg'),\n",
       " WindowsPath('Dataset/Positive/00944.jpg'),\n",
       " WindowsPath('Dataset/Positive/00945.jpg'),\n",
       " WindowsPath('Dataset/Positive/00946.jpg'),\n",
       " WindowsPath('Dataset/Positive/00947.jpg'),\n",
       " WindowsPath('Dataset/Positive/00948.jpg'),\n",
       " WindowsPath('Dataset/Positive/00949.jpg'),\n",
       " WindowsPath('Dataset/Positive/00950.jpg'),\n",
       " WindowsPath('Dataset/Positive/00951.jpg'),\n",
       " WindowsPath('Dataset/Positive/00952.jpg'),\n",
       " WindowsPath('Dataset/Positive/00953.jpg'),\n",
       " WindowsPath('Dataset/Positive/00954.jpg'),\n",
       " WindowsPath('Dataset/Positive/00955.jpg'),\n",
       " WindowsPath('Dataset/Positive/00956.jpg'),\n",
       " WindowsPath('Dataset/Positive/00957.jpg'),\n",
       " WindowsPath('Dataset/Positive/00958.jpg'),\n",
       " WindowsPath('Dataset/Positive/00959.jpg'),\n",
       " WindowsPath('Dataset/Positive/00960.jpg'),\n",
       " WindowsPath('Dataset/Positive/00961.jpg'),\n",
       " WindowsPath('Dataset/Positive/00962.jpg'),\n",
       " WindowsPath('Dataset/Positive/00963.jpg'),\n",
       " WindowsPath('Dataset/Positive/00964.jpg'),\n",
       " WindowsPath('Dataset/Positive/00965.jpg'),\n",
       " WindowsPath('Dataset/Positive/00966.jpg'),\n",
       " WindowsPath('Dataset/Positive/00967.jpg'),\n",
       " WindowsPath('Dataset/Positive/00968.jpg'),\n",
       " WindowsPath('Dataset/Positive/00969.jpg'),\n",
       " WindowsPath('Dataset/Positive/00970.jpg'),\n",
       " WindowsPath('Dataset/Positive/00971.jpg'),\n",
       " WindowsPath('Dataset/Positive/00972.jpg'),\n",
       " WindowsPath('Dataset/Positive/00973.jpg'),\n",
       " WindowsPath('Dataset/Positive/00974.jpg'),\n",
       " WindowsPath('Dataset/Positive/00975.jpg'),\n",
       " WindowsPath('Dataset/Positive/00976.jpg'),\n",
       " WindowsPath('Dataset/Positive/00977.jpg'),\n",
       " WindowsPath('Dataset/Positive/00978.jpg'),\n",
       " WindowsPath('Dataset/Positive/00979.jpg'),\n",
       " WindowsPath('Dataset/Positive/00980.jpg'),\n",
       " WindowsPath('Dataset/Positive/00981.jpg'),\n",
       " WindowsPath('Dataset/Positive/00982.jpg'),\n",
       " WindowsPath('Dataset/Positive/00983.jpg'),\n",
       " WindowsPath('Dataset/Positive/00984.jpg'),\n",
       " WindowsPath('Dataset/Positive/00985.jpg'),\n",
       " WindowsPath('Dataset/Positive/00986.jpg'),\n",
       " WindowsPath('Dataset/Positive/00987.jpg'),\n",
       " WindowsPath('Dataset/Positive/00988.jpg'),\n",
       " WindowsPath('Dataset/Positive/00989.jpg'),\n",
       " WindowsPath('Dataset/Positive/00990.jpg'),\n",
       " WindowsPath('Dataset/Positive/00991.jpg'),\n",
       " WindowsPath('Dataset/Positive/00992.jpg'),\n",
       " WindowsPath('Dataset/Positive/00993.jpg'),\n",
       " WindowsPath('Dataset/Positive/00994.jpg'),\n",
       " WindowsPath('Dataset/Positive/00995.jpg'),\n",
       " WindowsPath('Dataset/Positive/00996.jpg'),\n",
       " WindowsPath('Dataset/Positive/00997.jpg'),\n",
       " WindowsPath('Dataset/Positive/00998.jpg'),\n",
       " WindowsPath('Dataset/Positive/00999.jpg'),\n",
       " WindowsPath('Dataset/Positive/01000.jpg'),\n",
       " ...]"
      ]
     },
     "execution_count": 3,
     "metadata": {},
     "output_type": "execute_result"
    }
   ],
   "source": [
    "list(positive_dir.glob(r'*.jpg'))"
   ]
  },
  {
   "cell_type": "markdown",
   "metadata": {},
   "source": [
    "# Dataframe Function"
   ]
  },
  {
   "cell_type": "code",
   "execution_count": 4,
   "metadata": {
    "execution": {
     "iopub.execute_input": "2025-05-30T23:47:36.158965Z",
     "iopub.status.busy": "2025-05-30T23:47:36.158680Z",
     "iopub.status.idle": "2025-05-30T23:47:36.165017Z",
     "shell.execute_reply": "2025-05-30T23:47:36.163885Z",
     "shell.execute_reply.started": "2025-05-30T23:47:36.158944Z"
    },
    "trusted": true
   },
   "outputs": [],
   "source": [
    "def generate_df(image_dir, label):\n",
    "    filepaths = pd.Series(list(image_dir.glob(r'*.jpg')), name = 'Filepath').astype(str)\n",
    "    labels = pd.Series(label, name = 'label', index = filepaths.index)\n",
    "\n",
    "    #Combining filepaths and labels dataframes\n",
    "    df = pd.concat([filepaths, labels], axis = 1)\n",
    "    return df"
   ]
  },
  {
   "cell_type": "code",
   "execution_count": 5,
   "metadata": {
    "execution": {
     "iopub.execute_input": "2025-05-30T23:47:38.550984Z",
     "iopub.status.busy": "2025-05-30T23:47:38.550638Z",
     "iopub.status.idle": "2025-05-30T23:47:39.009579Z",
     "shell.execute_reply": "2025-05-30T23:47:39.008642Z",
     "shell.execute_reply.started": "2025-05-30T23:47:38.550961Z"
    },
    "trusted": true
   },
   "outputs": [
    {
     "data": {
      "text/html": [
       "<div>\n",
       "<style scoped>\n",
       "    .dataframe tbody tr th:only-of-type {\n",
       "        vertical-align: middle;\n",
       "    }\n",
       "\n",
       "    .dataframe tbody tr th {\n",
       "        vertical-align: top;\n",
       "    }\n",
       "\n",
       "    .dataframe thead th {\n",
       "        text-align: right;\n",
       "    }\n",
       "</style>\n",
       "<table border=\"1\" class=\"dataframe\">\n",
       "  <thead>\n",
       "    <tr style=\"text-align: right;\">\n",
       "      <th></th>\n",
       "      <th>Filepath</th>\n",
       "      <th>label</th>\n",
       "    </tr>\n",
       "  </thead>\n",
       "  <tbody>\n",
       "    <tr>\n",
       "      <th>0</th>\n",
       "      <td>Dataset\\Positive\\03842.jpg</td>\n",
       "      <td>POSITIVE</td>\n",
       "    </tr>\n",
       "    <tr>\n",
       "      <th>1</th>\n",
       "      <td>Dataset\\Positive\\12899_1.jpg</td>\n",
       "      <td>POSITIVE</td>\n",
       "    </tr>\n",
       "    <tr>\n",
       "      <th>2</th>\n",
       "      <td>Dataset\\Positive\\15033_1.jpg</td>\n",
       "      <td>POSITIVE</td>\n",
       "    </tr>\n",
       "    <tr>\n",
       "      <th>3</th>\n",
       "      <td>Dataset\\Negative\\16782.jpg</td>\n",
       "      <td>NEGATIVE</td>\n",
       "    </tr>\n",
       "    <tr>\n",
       "      <th>4</th>\n",
       "      <td>Dataset\\Positive\\09202.jpg</td>\n",
       "      <td>POSITIVE</td>\n",
       "    </tr>\n",
       "    <tr>\n",
       "      <th>...</th>\n",
       "      <td>...</td>\n",
       "      <td>...</td>\n",
       "    </tr>\n",
       "    <tr>\n",
       "      <th>39995</th>\n",
       "      <td>Dataset\\Positive\\07814.jpg</td>\n",
       "      <td>POSITIVE</td>\n",
       "    </tr>\n",
       "    <tr>\n",
       "      <th>39996</th>\n",
       "      <td>Dataset\\Negative\\12512.jpg</td>\n",
       "      <td>NEGATIVE</td>\n",
       "    </tr>\n",
       "    <tr>\n",
       "      <th>39997</th>\n",
       "      <td>Dataset\\Positive\\05193.jpg</td>\n",
       "      <td>POSITIVE</td>\n",
       "    </tr>\n",
       "    <tr>\n",
       "      <th>39998</th>\n",
       "      <td>Dataset\\Positive\\12173_1.jpg</td>\n",
       "      <td>POSITIVE</td>\n",
       "    </tr>\n",
       "    <tr>\n",
       "      <th>39999</th>\n",
       "      <td>Dataset\\Negative\\13004.jpg</td>\n",
       "      <td>NEGATIVE</td>\n",
       "    </tr>\n",
       "  </tbody>\n",
       "</table>\n",
       "<p>40000 rows × 2 columns</p>\n",
       "</div>"
      ],
      "text/plain": [
       "                           Filepath     label\n",
       "0        Dataset\\Positive\\03842.jpg  POSITIVE\n",
       "1      Dataset\\Positive\\12899_1.jpg  POSITIVE\n",
       "2      Dataset\\Positive\\15033_1.jpg  POSITIVE\n",
       "3        Dataset\\Negative\\16782.jpg  NEGATIVE\n",
       "4        Dataset\\Positive\\09202.jpg  POSITIVE\n",
       "...                             ...       ...\n",
       "39995    Dataset\\Positive\\07814.jpg  POSITIVE\n",
       "39996    Dataset\\Negative\\12512.jpg  NEGATIVE\n",
       "39997    Dataset\\Positive\\05193.jpg  POSITIVE\n",
       "39998  Dataset\\Positive\\12173_1.jpg  POSITIVE\n",
       "39999    Dataset\\Negative\\13004.jpg  NEGATIVE\n",
       "\n",
       "[40000 rows x 2 columns]"
      ]
     },
     "execution_count": 5,
     "metadata": {},
     "output_type": "execute_result"
    }
   ],
   "source": [
    "positive_df = generate_df(positive_dir, label = 'POSITIVE')\n",
    "negative_df =  generate_df(negative_dir, label = 'NEGATIVE')\n",
    "\n",
    "#Create a dataframe that is a combination of both positive and negative dataframes\n",
    "all_df = pd.concat([positive_df, negative_df], axis = 0).sample(frac = 1.0, random_state = 1).reset_index(drop = True)\n",
    "all_df"
   ]
  },
  {
   "cell_type": "markdown",
   "metadata": {},
   "source": [
    "# Splitting data into Training and Test sets"
   ]
  },
  {
   "cell_type": "code",
   "execution_count": 6,
   "metadata": {
    "execution": {
     "iopub.execute_input": "2025-05-30T23:47:42.507269Z",
     "iopub.status.busy": "2025-05-30T23:47:42.506961Z",
     "iopub.status.idle": "2025-05-30T23:47:42.518947Z",
     "shell.execute_reply": "2025-05-30T23:47:42.517807Z",
     "shell.execute_reply.started": "2025-05-30T23:47:42.507246Z"
    },
    "trusted": true
   },
   "outputs": [],
   "source": [
    "train_df, test_df = train_test_split(\n",
    "    all_df, \n",
    "    train_size = 0.7,\n",
    "    shuffle = True,\n",
    "    random_state = 1\n",
    ")"
   ]
  },
  {
   "cell_type": "markdown",
   "metadata": {},
   "source": [
    "# Loading Image Data"
   ]
  },
  {
   "cell_type": "code",
   "execution_count": 7,
   "metadata": {
    "execution": {
     "iopub.execute_input": "2025-05-30T23:47:45.182953Z",
     "iopub.status.busy": "2025-05-30T23:47:45.182625Z",
     "iopub.status.idle": "2025-05-30T23:47:45.257020Z",
     "shell.execute_reply": "2025-05-30T23:47:45.255955Z",
     "shell.execute_reply.started": "2025-05-30T23:47:45.182929Z"
    },
    "trusted": true
   },
   "outputs": [],
   "source": [
    "train_gen = tf.keras.preprocessing.image.ImageDataGenerator(\n",
    "    rescale = 1./255,   #Maximum value is 255, dividing by 255 converts values to a range between 0 and 1 to improve model performance\n",
    "    validation_split = 0.2   #Creates a validation set that is 20% of the training set\n",
    ")\n",
    "test_gen = tf.keras.preprocessing.image.ImageDataGenerator(\n",
    "     rescale = 1./255,\n",
    ")"
   ]
  },
  {
   "cell_type": "code",
   "execution_count": 8,
   "metadata": {
    "execution": {
     "iopub.execute_input": "2025-05-30T23:47:55.805453Z",
     "iopub.status.busy": "2025-05-30T23:47:55.805147Z"
    },
    "trusted": true
   },
   "outputs": [
    {
     "name": "stdout",
     "output_type": "stream",
     "text": [
      "Found 22400 validated image filenames belonging to 2 classes.\n",
      "Found 5600 validated image filenames belonging to 2 classes.\n",
      "Found 12000 validated image filenames belonging to 2 classes.\n"
     ]
    }
   ],
   "source": [
    "train_data = train_gen.flow_from_dataframe(\n",
    "    train_df,\n",
    "    x_col = 'Filepath',            #Tells generator to search for filepaths in 'Filepath' column\n",
    "    y_col = 'label',               #Tells generator to search for image labels in 'label' column\n",
    "    target_size = (120, 120),     #Resize every image loaded to 120 pixels wide by 120 pixels high\n",
    "    color_mode = 'rgb',            #Images will be treated as having three color channels (Red, Green, Blue)\n",
    "    class_mode = 'binary',\n",
    "    batch_size = 32,\n",
    "    subset = 'training'\n",
    ")\n",
    "\n",
    "val_data = train_gen.flow_from_dataframe(\n",
    "    train_df,\n",
    "    x_col = 'Filepath',\n",
    "    y_col = 'label',\n",
    "    target_size = (120, 120),\n",
    "    color_mode = 'rgb',\n",
    "    class_mode = 'binary',\n",
    "    batch_size = 32,\n",
    "    subset = 'validation'\n",
    ")\n",
    "\n",
    "test_data = test_gen.flow_from_dataframe(\n",
    "    test_df,\n",
    "    x_col = 'Filepath',\n",
    "    y_col = 'label',\n",
    "    target_size = (120, 120),\n",
    "    color_mode = 'rgb',\n",
    "    class_mode = 'binary',\n",
    "    batch_size = 32,\n",
    "    shuffle = False  #Do not shuffle the test data to maintain the order of predictions for evaluation\n",
    ")"
   ]
  },
  {
   "cell_type": "markdown",
   "metadata": {},
   "source": [
    "# Defining and Training the Convolutional Neural Network"
   ]
  },
  {
   "cell_type": "code",
   "execution_count": 9,
   "metadata": {
    "execution": {
     "iopub.execute_input": "2025-05-30T23:47:18.215335Z",
     "iopub.status.busy": "2025-05-30T23:47:18.215017Z",
     "iopub.status.idle": "2025-05-30T23:47:18.243308Z",
     "shell.execute_reply": "2025-05-30T23:47:18.241745Z",
     "shell.execute_reply.started": "2025-05-30T23:47:18.215311Z"
    },
    "trusted": true
   },
   "outputs": [
    {
     "name": "stdout",
     "output_type": "stream",
     "text": [
      "Model: \"model\"\n",
      "_________________________________________________________________\n",
      " Layer (type)                Output Shape              Param #   \n",
      "=================================================================\n",
      " input_1 (InputLayer)        [(None, 120, 120, 3)]     0         \n",
      "                                                                 \n",
      " conv2d (Conv2D)             (None, 118, 118, 16)      448       \n",
      "                                                                 \n",
      " max_pooling2d (MaxPooling2D  (None, 59, 59, 16)       0         \n",
      " )                                                               \n",
      "                                                                 \n",
      " conv2d_1 (Conv2D)           (None, 57, 57, 32)        4640      \n",
      "                                                                 \n",
      " max_pooling2d_1 (MaxPooling  (None, 28, 28, 32)       0         \n",
      " 2D)                                                             \n",
      "                                                                 \n",
      " global_average_pooling2d (G  (None, 32)               0         \n",
      " lobalAveragePooling2D)                                          \n",
      "                                                                 \n",
      " dense (Dense)               (None, 1)                 33        \n",
      "                                                                 \n",
      "=================================================================\n",
      "Total params: 5,121\n",
      "Trainable params: 5,121\n",
      "Non-trainable params: 0\n",
      "_________________________________________________________________\n",
      "None\n"
     ]
    }
   ],
   "source": [
    "#Defining Input Layer\n",
    "inputs = tf.keras.Input(shape = (120, 120, 3))  #Defines the shape of the input samples and the number of colour channels\n",
    "\n",
    "x = tf.keras.layers.Conv2D(filters = 16, kernel_size = (3, 3), activation = 'relu')(inputs)  \n",
    "x = tf.keras.layers.MaxPool2D(pool_size = (2, 2))(x)\n",
    "\n",
    "x = tf.keras.layers.Conv2D(filters = 32, kernel_size = (3, 3), activation = 'relu')(x)\n",
    "x = tf.keras.layers.MaxPool2D(pool_size = (2, 2))(x)\n",
    "\n",
    "x = tf.keras.layers.GlobalAveragePooling2D()(x)\n",
    "\n",
    "#Defining Output Layer\n",
    "outputs = tf.keras.layers.Dense(1, activation = 'sigmoid')(x)\n",
    "\n",
    "model = tf.keras.Model(inputs = inputs, outputs = outputs)\n",
    "\n",
    "model.compile(\n",
    "    optimizer = 'adam',\n",
    "    loss = 'binary_crossentropy',\n",
    "    metrics = ['accuracy']\n",
    ")\n",
    "\n",
    "print(model.summary())"
   ]
  },
  {
   "cell_type": "code",
   "execution_count": 10,
   "metadata": {
    "execution": {
     "execution_failed": "2025-05-30T02:43:07.089Z",
     "iopub.execute_input": "2025-05-30T00:37:30.911619Z",
     "iopub.status.busy": "2025-05-30T00:37:30.910647Z"
    },
    "trusted": true
   },
   "outputs": [
    {
     "name": "stdout",
     "output_type": "stream",
     "text": [
      "Epoch 1/100\n",
      "700/700 [==============================] - 29s 34ms/step - loss: 0.4274 - accuracy: 0.8194 - val_loss: 0.1880 - val_accuracy: 0.9525\n",
      "Epoch 2/100\n",
      "700/700 [==============================] - 16s 23ms/step - loss: 0.1322 - accuracy: 0.9644 - val_loss: 0.1229 - val_accuracy: 0.9752\n",
      "Epoch 3/100\n",
      "700/700 [==============================] - 16s 23ms/step - loss: 0.0918 - accuracy: 0.9736 - val_loss: 0.0784 - val_accuracy: 0.9768\n",
      "Epoch 4/100\n",
      "700/700 [==============================] - 16s 23ms/step - loss: 0.0757 - accuracy: 0.9759 - val_loss: 0.0665 - val_accuracy: 0.9812\n",
      "Epoch 5/100\n",
      "700/700 [==============================] - 15s 22ms/step - loss: 0.0747 - accuracy: 0.9771 - val_loss: 0.0788 - val_accuracy: 0.9807\n",
      "Epoch 6/100\n",
      "700/700 [==============================] - 15s 22ms/step - loss: 0.0673 - accuracy: 0.9786 - val_loss: 0.0677 - val_accuracy: 0.9827\n",
      "Epoch 7/100\n",
      "700/700 [==============================] - 15s 22ms/step - loss: 0.0673 - accuracy: 0.9796 - val_loss: 0.0750 - val_accuracy: 0.9811\n",
      "Epoch 8/100\n",
      "700/700 [==============================] - 17s 24ms/step - loss: 0.0644 - accuracy: 0.9805 - val_loss: 0.0681 - val_accuracy: 0.9814\n",
      "Epoch 9/100\n",
      "700/700 [==============================] - 16s 24ms/step - loss: 0.0652 - accuracy: 0.9802 - val_loss: 0.0617 - val_accuracy: 0.9827\n",
      "Epoch 10/100\n",
      "700/700 [==============================] - 16s 22ms/step - loss: 0.0619 - accuracy: 0.9794 - val_loss: 0.0547 - val_accuracy: 0.9837\n",
      "Epoch 11/100\n",
      "700/700 [==============================] - 15s 21ms/step - loss: 0.0601 - accuracy: 0.9801 - val_loss: 0.0622 - val_accuracy: 0.9829\n",
      "Epoch 12/100\n",
      "700/700 [==============================] - 15s 22ms/step - loss: 0.0594 - accuracy: 0.9809 - val_loss: 0.0695 - val_accuracy: 0.9816\n",
      "Epoch 13/100\n",
      "700/700 [==============================] - 17s 24ms/step - loss: 0.0578 - accuracy: 0.9811 - val_loss: 0.0595 - val_accuracy: 0.9834\n",
      "Epoch 14/100\n",
      "700/700 [==============================] - 17s 25ms/step - loss: 0.0567 - accuracy: 0.9814 - val_loss: 0.0541 - val_accuracy: 0.9829\n",
      "Epoch 15/100\n",
      "700/700 [==============================] - 15s 21ms/step - loss: 0.0585 - accuracy: 0.9814 - val_loss: 0.0545 - val_accuracy: 0.9834\n",
      "Epoch 16/100\n",
      "700/700 [==============================] - 14s 20ms/step - loss: 0.0592 - accuracy: 0.9816 - val_loss: 0.0526 - val_accuracy: 0.9837\n",
      "Epoch 17/100\n",
      "700/700 [==============================] - 14s 21ms/step - loss: 0.0565 - accuracy: 0.9815 - val_loss: 0.0663 - val_accuracy: 0.9829\n",
      "Epoch 18/100\n",
      "700/700 [==============================] - 14s 20ms/step - loss: 0.0575 - accuracy: 0.9814 - val_loss: 0.0633 - val_accuracy: 0.9773\n",
      "Epoch 19/100\n",
      "700/700 [==============================] - 14s 20ms/step - loss: 0.0541 - accuracy: 0.9830 - val_loss: 0.0578 - val_accuracy: 0.9812\n",
      "Epoch 20/100\n",
      "700/700 [==============================] - 14s 20ms/step - loss: 0.0550 - accuracy: 0.9823 - val_loss: 0.0510 - val_accuracy: 0.9845\n",
      "Epoch 21/100\n",
      "700/700 [==============================] - 14s 20ms/step - loss: 0.0536 - accuracy: 0.9826 - val_loss: 0.0568 - val_accuracy: 0.9809\n",
      "Epoch 22/100\n",
      "700/700 [==============================] - 15s 21ms/step - loss: 0.0546 - accuracy: 0.9829 - val_loss: 0.0544 - val_accuracy: 0.9809\n",
      "Epoch 23/100\n",
      "700/700 [==============================] - 15s 21ms/step - loss: 0.0535 - accuracy: 0.9828 - val_loss: 0.0520 - val_accuracy: 0.9820\n",
      "Epoch 24/100\n",
      "700/700 [==============================] - 14s 21ms/step - loss: 0.0507 - accuracy: 0.9837 - val_loss: 0.0521 - val_accuracy: 0.9859\n",
      "Epoch 25/100\n",
      "700/700 [==============================] - 15s 21ms/step - loss: 0.0510 - accuracy: 0.9839 - val_loss: 0.0601 - val_accuracy: 0.9855\n",
      "Epoch 26/100\n",
      "700/700 [==============================] - 14s 20ms/step - loss: 0.0498 - accuracy: 0.9845 - val_loss: 0.0717 - val_accuracy: 0.9737\n",
      "Epoch 27/100\n",
      "700/700 [==============================] - 15s 21ms/step - loss: 0.0489 - accuracy: 0.9839 - val_loss: 0.0476 - val_accuracy: 0.9870\n",
      "Epoch 28/100\n",
      "700/700 [==============================] - 15s 21ms/step - loss: 0.0467 - accuracy: 0.9847 - val_loss: 0.0426 - val_accuracy: 0.9866\n",
      "Epoch 29/100\n",
      "700/700 [==============================] - 15s 21ms/step - loss: 0.0484 - accuracy: 0.9854 - val_loss: 0.0437 - val_accuracy: 0.9866\n",
      "Epoch 30/100\n",
      "700/700 [==============================] - 15s 21ms/step - loss: 0.0455 - accuracy: 0.9855 - val_loss: 0.0480 - val_accuracy: 0.9829\n",
      "Epoch 31/100\n",
      "700/700 [==============================] - 14s 21ms/step - loss: 0.0426 - accuracy: 0.9865 - val_loss: 0.0459 - val_accuracy: 0.9879\n",
      "Epoch 32/100\n",
      "700/700 [==============================] - 14s 20ms/step - loss: 0.0432 - accuracy: 0.9867 - val_loss: 0.0461 - val_accuracy: 0.9886\n",
      "Epoch 33/100\n",
      "700/700 [==============================] - 15s 21ms/step - loss: 0.0408 - accuracy: 0.9875 - val_loss: 0.0472 - val_accuracy: 0.9886\n",
      "Epoch 34/100\n",
      "700/700 [==============================] - 14s 21ms/step - loss: 0.0373 - accuracy: 0.9890 - val_loss: 0.0427 - val_accuracy: 0.9886\n",
      "Epoch 35/100\n",
      "700/700 [==============================] - 14s 20ms/step - loss: 0.0395 - accuracy: 0.9874 - val_loss: 0.0435 - val_accuracy: 0.9859\n",
      "Epoch 36/100\n",
      "700/700 [==============================] - 15s 21ms/step - loss: 0.0373 - accuracy: 0.9887 - val_loss: 0.0415 - val_accuracy: 0.9889\n",
      "Epoch 37/100\n",
      "700/700 [==============================] - 14s 20ms/step - loss: 0.0341 - accuracy: 0.9895 - val_loss: 0.0337 - val_accuracy: 0.9909\n",
      "Epoch 38/100\n",
      "700/700 [==============================] - 15s 22ms/step - loss: 0.0361 - accuracy: 0.9887 - val_loss: 0.0393 - val_accuracy: 0.9902\n",
      "Epoch 39/100\n",
      "700/700 [==============================] - 14s 21ms/step - loss: 0.0344 - accuracy: 0.9893 - val_loss: 0.0301 - val_accuracy: 0.9912\n",
      "Epoch 40/100\n",
      "700/700 [==============================] - 15s 21ms/step - loss: 0.0327 - accuracy: 0.9905 - val_loss: 0.0493 - val_accuracy: 0.9827\n",
      "Epoch 41/100\n",
      "700/700 [==============================] - 15s 22ms/step - loss: 0.0332 - accuracy: 0.9900 - val_loss: 0.0320 - val_accuracy: 0.9921\n",
      "Epoch 42/100\n",
      "700/700 [==============================] - 15s 22ms/step - loss: 0.0292 - accuracy: 0.9911 - val_loss: 0.0364 - val_accuracy: 0.9920\n",
      "Epoch 43/100\n",
      "700/700 [==============================] - 14s 20ms/step - loss: 0.0294 - accuracy: 0.9916 - val_loss: 0.0331 - val_accuracy: 0.9930\n",
      "Epoch 44/100\n",
      "700/700 [==============================] - 14s 20ms/step - loss: 0.0270 - accuracy: 0.9913 - val_loss: 0.0323 - val_accuracy: 0.9893\n",
      "Epoch 45/100\n",
      "700/700 [==============================] - 14s 20ms/step - loss: 0.0270 - accuracy: 0.9921 - val_loss: 0.0336 - val_accuracy: 0.9902\n",
      "Epoch 46/100\n",
      "700/700 [==============================] - 14s 20ms/step - loss: 0.0266 - accuracy: 0.9923 - val_loss: 0.0272 - val_accuracy: 0.9925\n",
      "Epoch 47/100\n",
      "700/700 [==============================] - 14s 21ms/step - loss: 0.0270 - accuracy: 0.9916 - val_loss: 0.0286 - val_accuracy: 0.9911\n",
      "Epoch 48/100\n",
      "700/700 [==============================] - 15s 21ms/step - loss: 0.0292 - accuracy: 0.9920 - val_loss: 0.0277 - val_accuracy: 0.9934\n",
      "Epoch 49/100\n",
      "700/700 [==============================] - 14s 21ms/step - loss: 0.0279 - accuracy: 0.9919 - val_loss: 0.0275 - val_accuracy: 0.9930\n",
      "Epoch 50/100\n",
      "700/700 [==============================] - 14s 21ms/step - loss: 0.0239 - accuracy: 0.9933 - val_loss: 0.0239 - val_accuracy: 0.9941\n",
      "Epoch 51/100\n",
      "700/700 [==============================] - 15s 21ms/step - loss: 0.0236 - accuracy: 0.9935 - val_loss: 0.0493 - val_accuracy: 0.9916\n",
      "Epoch 52/100\n",
      "700/700 [==============================] - 15s 22ms/step - loss: 0.0245 - accuracy: 0.9935 - val_loss: 0.0228 - val_accuracy: 0.9937\n",
      "Epoch 53/100\n",
      "700/700 [==============================] - 15s 21ms/step - loss: 0.0240 - accuracy: 0.9927 - val_loss: 0.0266 - val_accuracy: 0.9941\n",
      "Epoch 54/100\n",
      "700/700 [==============================] - 14s 20ms/step - loss: 0.0232 - accuracy: 0.9933 - val_loss: 0.0273 - val_accuracy: 0.9948\n",
      "Epoch 55/100\n",
      "700/700 [==============================] - 15s 21ms/step - loss: 0.0216 - accuracy: 0.9937 - val_loss: 0.0243 - val_accuracy: 0.9941\n",
      "Epoch 56/100\n",
      "700/700 [==============================] - 15s 22ms/step - loss: 0.0245 - accuracy: 0.9929 - val_loss: 0.0242 - val_accuracy: 0.9950\n",
      "Epoch 57/100\n",
      "700/700 [==============================] - 14s 21ms/step - loss: 0.0218 - accuracy: 0.9934 - val_loss: 0.0270 - val_accuracy: 0.9955\n",
      "Epoch 58/100\n",
      "700/700 [==============================] - 14s 20ms/step - loss: 0.0205 - accuracy: 0.9942 - val_loss: 0.0246 - val_accuracy: 0.9943\n",
      "Epoch 59/100\n",
      "700/700 [==============================] - 15s 22ms/step - loss: 0.0244 - accuracy: 0.9929 - val_loss: 0.0310 - val_accuracy: 0.9911\n",
      "Epoch 60/100\n",
      "700/700 [==============================] - 15s 21ms/step - loss: 0.0223 - accuracy: 0.9934 - val_loss: 0.0263 - val_accuracy: 0.9923\n",
      "Epoch 61/100\n",
      "700/700 [==============================] - 15s 22ms/step - loss: 0.0210 - accuracy: 0.9940 - val_loss: 0.0216 - val_accuracy: 0.9945\n",
      "Epoch 62/100\n",
      "700/700 [==============================] - 16s 23ms/step - loss: 0.0203 - accuracy: 0.9947 - val_loss: 0.0552 - val_accuracy: 0.9900\n",
      "Epoch 63/100\n",
      "700/700 [==============================] - 15s 22ms/step - loss: 0.0226 - accuracy: 0.9931 - val_loss: 0.0224 - val_accuracy: 0.9937\n",
      "Epoch 64/100\n",
      "700/700 [==============================] - 15s 21ms/step - loss: 0.0204 - accuracy: 0.9943 - val_loss: 0.0203 - val_accuracy: 0.9954\n",
      "Epoch 65/100\n",
      "700/700 [==============================] - 15s 21ms/step - loss: 0.0200 - accuracy: 0.9945 - val_loss: 0.0286 - val_accuracy: 0.9920\n",
      "Epoch 66/100\n",
      "700/700 [==============================] - 16s 22ms/step - loss: 0.0201 - accuracy: 0.9948 - val_loss: 0.0237 - val_accuracy: 0.9948\n",
      "Epoch 67/100\n",
      "700/700 [==============================] - 15s 21ms/step - loss: 0.0206 - accuracy: 0.9942 - val_loss: 0.0239 - val_accuracy: 0.9946\n",
      "Epoch 68/100\n",
      "700/700 [==============================] - 15s 22ms/step - loss: 0.0200 - accuracy: 0.9940 - val_loss: 0.0218 - val_accuracy: 0.9937\n",
      "Epoch 69/100\n",
      "700/700 [==============================] - 15s 21ms/step - loss: 0.0190 - accuracy: 0.9940 - val_loss: 0.0220 - val_accuracy: 0.9954\n",
      "Epoch 70/100\n",
      "700/700 [==============================] - 15s 21ms/step - loss: 0.0193 - accuracy: 0.9943 - val_loss: 0.0252 - val_accuracy: 0.9952\n",
      "Epoch 71/100\n",
      "700/700 [==============================] - 16s 22ms/step - loss: 0.0179 - accuracy: 0.9946 - val_loss: 0.0204 - val_accuracy: 0.9959\n",
      "Epoch 72/100\n",
      "700/700 [==============================] - 15s 22ms/step - loss: 0.0213 - accuracy: 0.9942 - val_loss: 0.0191 - val_accuracy: 0.9950\n",
      "Epoch 73/100\n",
      "700/700 [==============================] - 15s 22ms/step - loss: 0.0181 - accuracy: 0.9945 - val_loss: 0.0183 - val_accuracy: 0.9961\n",
      "Epoch 74/100\n",
      "700/700 [==============================] - 15s 22ms/step - loss: 0.0197 - accuracy: 0.9940 - val_loss: 0.0193 - val_accuracy: 0.9959\n",
      "Epoch 75/100\n",
      "700/700 [==============================] - 15s 22ms/step - loss: 0.0181 - accuracy: 0.9947 - val_loss: 0.0232 - val_accuracy: 0.9934\n",
      "Epoch 76/100\n",
      "700/700 [==============================] - 15s 22ms/step - loss: 0.0177 - accuracy: 0.9950 - val_loss: 0.0371 - val_accuracy: 0.9887\n",
      "Epoch 77/100\n",
      "700/700 [==============================] - 15s 21ms/step - loss: 0.0179 - accuracy: 0.9952 - val_loss: 0.0185 - val_accuracy: 0.9957\n",
      "Epoch 78/100\n",
      "700/700 [==============================] - 15s 22ms/step - loss: 0.0175 - accuracy: 0.9946 - val_loss: 0.0189 - val_accuracy: 0.9943\n",
      "Epoch 79/100\n",
      "700/700 [==============================] - 15s 22ms/step - loss: 0.0189 - accuracy: 0.9944 - val_loss: 0.0188 - val_accuracy: 0.9957\n",
      "Epoch 80/100\n",
      "700/700 [==============================] - 14s 21ms/step - loss: 0.0187 - accuracy: 0.9947 - val_loss: 0.0377 - val_accuracy: 0.9916\n",
      "Epoch 81/100\n",
      "700/700 [==============================] - 15s 22ms/step - loss: 0.0187 - accuracy: 0.9946 - val_loss: 0.0174 - val_accuracy: 0.9962\n",
      "Epoch 82/100\n",
      "700/700 [==============================] - 16s 22ms/step - loss: 0.0171 - accuracy: 0.9956 - val_loss: 0.0173 - val_accuracy: 0.9957\n",
      "Epoch 83/100\n",
      "700/700 [==============================] - 15s 22ms/step - loss: 0.0197 - accuracy: 0.9947 - val_loss: 0.0170 - val_accuracy: 0.9966\n",
      "Epoch 84/100\n",
      "700/700 [==============================] - 15s 22ms/step - loss: 0.0172 - accuracy: 0.9949 - val_loss: 0.0176 - val_accuracy: 0.9961\n",
      "Epoch 85/100\n",
      "700/700 [==============================] - 15s 21ms/step - loss: 0.0176 - accuracy: 0.9950 - val_loss: 0.0216 - val_accuracy: 0.9952\n",
      "Epoch 86/100\n",
      "700/700 [==============================] - 15s 21ms/step - loss: 0.0181 - accuracy: 0.9944 - val_loss: 0.0215 - val_accuracy: 0.9964\n",
      "Epoch 87/100\n",
      "700/700 [==============================] - 15s 21ms/step - loss: 0.0182 - accuracy: 0.9943 - val_loss: 0.0279 - val_accuracy: 0.9941\n",
      "Epoch 88/100\n",
      "700/700 [==============================] - 14s 21ms/step - loss: 0.0190 - accuracy: 0.9945 - val_loss: 0.0202 - val_accuracy: 0.9945\n",
      "Epoch 89/100\n",
      "700/700 [==============================] - 15s 21ms/step - loss: 0.0177 - accuracy: 0.9949 - val_loss: 0.0171 - val_accuracy: 0.9954\n",
      "Epoch 90/100\n",
      "700/700 [==============================] - 15s 21ms/step - loss: 0.0171 - accuracy: 0.9949 - val_loss: 0.0242 - val_accuracy: 0.9930\n",
      "Epoch 91/100\n",
      "700/700 [==============================] - 15s 21ms/step - loss: 0.0167 - accuracy: 0.9954 - val_loss: 0.0267 - val_accuracy: 0.9939\n",
      "Epoch 92/100\n",
      "700/700 [==============================] - 14s 21ms/step - loss: 0.0167 - accuracy: 0.9955 - val_loss: 0.0182 - val_accuracy: 0.9945\n",
      "Epoch 93/100\n",
      "700/700 [==============================] - 14s 20ms/step - loss: 0.0154 - accuracy: 0.9951 - val_loss: 0.0169 - val_accuracy: 0.9966\n",
      "Epoch 94/100\n",
      "700/700 [==============================] - 15s 21ms/step - loss: 0.0183 - accuracy: 0.9949 - val_loss: 0.0207 - val_accuracy: 0.9961\n",
      "Epoch 95/100\n",
      "700/700 [==============================] - 14s 21ms/step - loss: 0.0166 - accuracy: 0.9951 - val_loss: 0.0180 - val_accuracy: 0.9964\n",
      "Epoch 96/100\n",
      "700/700 [==============================] - 14s 21ms/step - loss: 0.0154 - accuracy: 0.9957 - val_loss: 0.0192 - val_accuracy: 0.9939\n",
      "Epoch 97/100\n",
      "700/700 [==============================] - 15s 21ms/step - loss: 0.0160 - accuracy: 0.9955 - val_loss: 0.0195 - val_accuracy: 0.9946\n",
      "Epoch 98/100\n",
      "700/700 [==============================] - 15s 21ms/step - loss: 0.0162 - accuracy: 0.9954 - val_loss: 0.0166 - val_accuracy: 0.9966\n",
      "Epoch 99/100\n",
      "700/700 [==============================] - 14s 20ms/step - loss: 0.0160 - accuracy: 0.9954 - val_loss: 0.0171 - val_accuracy: 0.9964\n",
      "Epoch 100/100\n",
      "700/700 [==============================] - 14s 21ms/step - loss: 0.0162 - accuracy: 0.9949 - val_loss: 0.0206 - val_accuracy: 0.9945\n"
     ]
    }
   ],
   "source": [
    "history = model.fit(\n",
    "    train_data,\n",
    "    validation_data = val_data,\n",
    "    epochs = 100,\n",
    "    callbacks = [            #Functions to run at the start or end of each epoch\n",
    "        tf.keras.callbacks.EarlyStopping(\n",
    "            monitor = 'val_loss', \n",
    "            patience = 10,       #If val_loss doesn't increase for 10 epochs, training will be halted\n",
    "            restore_best_weights = True      #Sets the model's weights to that of the epoch that had the lowest loss\n",
    "        )\n",
    "    ]\n",
    ")"
   ]
  },
  {
   "cell_type": "code",
   "execution_count": 14,
   "metadata": {
    "execution": {
     "iopub.execute_input": "2025-05-30T07:13:33.213300Z",
     "iopub.status.busy": "2025-05-30T07:13:33.213011Z",
     "iopub.status.idle": "2025-05-30T07:13:33.266585Z",
     "shell.execute_reply": "2025-05-30T07:13:33.265464Z",
     "shell.execute_reply.started": "2025-05-30T07:13:33.213280Z"
    },
    "trusted": true
   },
   "outputs": [
    {
     "data": {
      "application/vnd.plotly.v1+json": {
       "config": {
        "plotlyServerURL": "https://plot.ly"
       },
       "data": [
        {
         "hovertemplate": "variable=loss<br>Epoch=%{x}<br>Loss=%{y}<extra></extra>",
         "legendgroup": "loss",
         "line": {
          "color": "#636efa",
          "dash": "solid"
         },
         "marker": {
          "symbol": "circle"
         },
         "mode": "lines",
         "name": "loss",
         "orientation": "v",
         "showlegend": true,
         "type": "scatter",
         "x": {
          "bdata": "AAECAwQFBgcICQoLDA0ODxAREhMUFRYXGBkaGxwdHh8gISIjJCUmJygpKissLS4vMDEyMzQ1Njc4OTo7PD0+P0BBQkNERUZHSElKS0xNTk9QUVJTVFVWV1hZWltcXV5fYGFiYw==",
          "dtype": "i1"
         },
         "xaxis": "x",
         "y": {
          "bdata": "AAAAIJBa2z8AAACA+OvAPwAAAOAQg7c/AAAAYJ5fsz8AAABAIR+zPwAAAECiPbE/AAAAoHg6sT8AAAAgO3uwPwAAAEDPrrA/AAAAYDqrrz8AAAAAhMuuPwAAAGD1aK4/AAAAwFyTrT8AAADgcwetPwAAAIAj+q0/AAAAIA5Nrj8AAAAAnOesPwAAAGC+a60/AAAAIBKxqz8AAAAg6SqsPwAAAEBkbas/AAAAYEzvqz8AAADAfGWrPwAAAKCn+qk/AAAAoOYdqj8AAAAgjYCpPwAAAAArD6k/AAAAQNXopz8AAACg+8OoPwAAAKDgTac/AAAAYDPKpT8AAAAg0CKmPwAAAABZ5KQ/AAAAAJYWoz8AAADAZjikPwAAACCjGKM/AAAAYEh6oT8AAADAzHuiPwAAAMD2lqE/AAAA4CPBoD8AAACgM/mgPwAAAMAp5J0/AAAAwEAPnj8AAACAoaGbPwAAAMATqps/AAAAYDkzmz8AAADA9a6bPwAAAIB05J0/AAAAoN2NnD8AAADg5HCYPwAAAOAFIZg/AAAAoMwhmT8AAAAA+I+YPwAAAGAZtpc/AAAAYM4olj8AAABA9x2ZPwAAAACSRpY/AAAAIEvxlD8AAADg0fWYPwAAAABK1pY/AAAAYAl0lT8AAAAg3sqUPwAAAGDLF5c/AAAAYJbtlD8AAACA23WUPwAAAEDum5Q/AAAAIMgclT8AAAAg43GUPwAAAMB6eZM/AAAAAAK3kz8AAAAgQV2SPwAAAMBax5U/AAAAwGmNkj8AAADAtzOUPwAAAIBtgZI/AAAAIAQnkj8AAABA0k6SPwAAAOBk9pE/AAAAIIlSkz8AAABAxx2TPwAAAIA/J5M/AAAAgAaJkT8AAADgNDGUPwAAAOC4oZE/AAAAYNv8kT8AAADAEpCSPwAAAOD1mJI/AAAAYCt3kz8AAABAPRaSPwAAAADDi5E/AAAAQNIhkT8AAABgnA2RPwAAAKA7dY8/AAAAQL23kj8AAAAACfyQPwAAAEB7lY8/AAAAIDtXkD8AAABA+qCQPwAAACCYbpA/AAAAQFCckD8=",
          "dtype": "f8"
         },
         "yaxis": "y"
        },
        {
         "hovertemplate": "variable=val_loss<br>Epoch=%{x}<br>Loss=%{y}<extra></extra>",
         "legendgroup": "val_loss",
         "line": {
          "color": "#EF553B",
          "dash": "solid"
         },
         "marker": {
          "symbol": "circle"
         },
         "mode": "lines",
         "name": "val_loss",
         "orientation": "v",
         "showlegend": true,
         "type": "scatter",
         "x": {
          "bdata": "AAECAwQFBgcICQoLDA0ODxAREhMUFRYXGBkaGxwdHh8gISIjJCUmJygpKissLS4vMDEyMzQ1Njc4OTo7PD0+P0BBQkNERUZHSElKS0xNTk9QUVJTVFVWV1hZWltcXV5fYGFiYw==",
          "dtype": "i1"
         },
         "xaxis": "x",
         "y": {
          "bdata": "AAAA4FwRyD8AAAAA03i/PwAAAIA8D7Q/AAAAgO0CsT8AAABgky60PwAAAAC/VrE/AAAAoAw1sz8AAAAA5nCxPwAAAEC7m68/AAAAQBX/qz8AAADgHNmvPwAAACDwyLE/AAAAoHZyrj8AAAAAK7SrPwAAAKCq6qs/AAAAQPLoqj8AAAAA3fuwPwAAAIAvNrA/AAAAoPiWrT8AAADAnh+qPwAAAEBDFK0/AAAAYETWqz8AAABgT6WqPwAAAECMsao/AAAAoIbDrj8AAACA4FeyPwAAAICjY6g/AAAAAAnVpT8AAAAgfmKmPwAAAKA4kag/AAAA4CCEpz8AAABgL5unPwAAAIA2Lag/AAAAYCDapT8AAADAeECmPwAAAOCAO6U/AAAAQMY+oT8AAACgyCKkPwAAAGAx2Z4/AAAAwPlDqT8AAABAlWGgPwAAAOBzqKI/AAAA4OPwoD8AAACAbYegPwAAACCgLqE/AAAAQD/emz8AAADghT6dPwAAAGDrZpw/AAAAIMUtnD8AAACgnYCYPwAAAEC9N6k/AAAA4Hpklz8AAACgpzibPwAAAADC8Zs/AAAAQILjmD8AAAAgfsGYPwAAACCspZs/AAAAAKQomT8AAAAgHL6fPwAAAECy9Zo/AAAAoEUVlj8AAABAQj2sPwAAAGDQ7pY/AAAA4HTTlD8AAAAgx1KdPwAAAECxPpg/AAAAwDeDmD8AAADgrFyWPwAAAOCbfZY/AAAAgL/FmT8AAACAfteUPwAAAGByiZM/AAAAoMy/kj8AAADAYryTPwAAAGAMy5c/AAAAQDoAoz8AAACAwvySPwAAAMD4ZJM/AAAAgJw9kz8AAACA81OjPwAAAMA92ZE/AAAAYIy3kT8AAAAAxGyRPwAAAIAUCpI/AAAA4Okolj8AAAAgawGWPwAAAODvnJw/AAAAIH+6lD8AAACAOoyRPwAAAGD10pg/AAAAIGVcmz8AAAAApaKSPwAAAMArV5E/AAAAoNgrlT8AAADggGeSPwAAAGA5s5M/AAAA4MDskz8AAABA9/mQPwAAAGDGdZE/AAAAoMoilT8=",
          "dtype": "f8"
         },
         "yaxis": "y"
        }
       ],
       "layout": {
        "legend": {
         "title": {
          "text": "variable"
         },
         "tracegroupgap": 0
        },
        "template": {
         "data": {
          "bar": [
           {
            "error_x": {
             "color": "#2a3f5f"
            },
            "error_y": {
             "color": "#2a3f5f"
            },
            "marker": {
             "line": {
              "color": "#E5ECF6",
              "width": 0.5
             },
             "pattern": {
              "fillmode": "overlay",
              "size": 10,
              "solidity": 0.2
             }
            },
            "type": "bar"
           }
          ],
          "barpolar": [
           {
            "marker": {
             "line": {
              "color": "#E5ECF6",
              "width": 0.5
             },
             "pattern": {
              "fillmode": "overlay",
              "size": 10,
              "solidity": 0.2
             }
            },
            "type": "barpolar"
           }
          ],
          "carpet": [
           {
            "aaxis": {
             "endlinecolor": "#2a3f5f",
             "gridcolor": "white",
             "linecolor": "white",
             "minorgridcolor": "white",
             "startlinecolor": "#2a3f5f"
            },
            "baxis": {
             "endlinecolor": "#2a3f5f",
             "gridcolor": "white",
             "linecolor": "white",
             "minorgridcolor": "white",
             "startlinecolor": "#2a3f5f"
            },
            "type": "carpet"
           }
          ],
          "choropleth": [
           {
            "colorbar": {
             "outlinewidth": 0,
             "ticks": ""
            },
            "type": "choropleth"
           }
          ],
          "contour": [
           {
            "colorbar": {
             "outlinewidth": 0,
             "ticks": ""
            },
            "colorscale": [
             [
              0,
              "#0d0887"
             ],
             [
              0.1111111111111111,
              "#46039f"
             ],
             [
              0.2222222222222222,
              "#7201a8"
             ],
             [
              0.3333333333333333,
              "#9c179e"
             ],
             [
              0.4444444444444444,
              "#bd3786"
             ],
             [
              0.5555555555555556,
              "#d8576b"
             ],
             [
              0.6666666666666666,
              "#ed7953"
             ],
             [
              0.7777777777777778,
              "#fb9f3a"
             ],
             [
              0.8888888888888888,
              "#fdca26"
             ],
             [
              1,
              "#f0f921"
             ]
            ],
            "type": "contour"
           }
          ],
          "contourcarpet": [
           {
            "colorbar": {
             "outlinewidth": 0,
             "ticks": ""
            },
            "type": "contourcarpet"
           }
          ],
          "heatmap": [
           {
            "colorbar": {
             "outlinewidth": 0,
             "ticks": ""
            },
            "colorscale": [
             [
              0,
              "#0d0887"
             ],
             [
              0.1111111111111111,
              "#46039f"
             ],
             [
              0.2222222222222222,
              "#7201a8"
             ],
             [
              0.3333333333333333,
              "#9c179e"
             ],
             [
              0.4444444444444444,
              "#bd3786"
             ],
             [
              0.5555555555555556,
              "#d8576b"
             ],
             [
              0.6666666666666666,
              "#ed7953"
             ],
             [
              0.7777777777777778,
              "#fb9f3a"
             ],
             [
              0.8888888888888888,
              "#fdca26"
             ],
             [
              1,
              "#f0f921"
             ]
            ],
            "type": "heatmap"
           }
          ],
          "histogram": [
           {
            "marker": {
             "pattern": {
              "fillmode": "overlay",
              "size": 10,
              "solidity": 0.2
             }
            },
            "type": "histogram"
           }
          ],
          "histogram2d": [
           {
            "colorbar": {
             "outlinewidth": 0,
             "ticks": ""
            },
            "colorscale": [
             [
              0,
              "#0d0887"
             ],
             [
              0.1111111111111111,
              "#46039f"
             ],
             [
              0.2222222222222222,
              "#7201a8"
             ],
             [
              0.3333333333333333,
              "#9c179e"
             ],
             [
              0.4444444444444444,
              "#bd3786"
             ],
             [
              0.5555555555555556,
              "#d8576b"
             ],
             [
              0.6666666666666666,
              "#ed7953"
             ],
             [
              0.7777777777777778,
              "#fb9f3a"
             ],
             [
              0.8888888888888888,
              "#fdca26"
             ],
             [
              1,
              "#f0f921"
             ]
            ],
            "type": "histogram2d"
           }
          ],
          "histogram2dcontour": [
           {
            "colorbar": {
             "outlinewidth": 0,
             "ticks": ""
            },
            "colorscale": [
             [
              0,
              "#0d0887"
             ],
             [
              0.1111111111111111,
              "#46039f"
             ],
             [
              0.2222222222222222,
              "#7201a8"
             ],
             [
              0.3333333333333333,
              "#9c179e"
             ],
             [
              0.4444444444444444,
              "#bd3786"
             ],
             [
              0.5555555555555556,
              "#d8576b"
             ],
             [
              0.6666666666666666,
              "#ed7953"
             ],
             [
              0.7777777777777778,
              "#fb9f3a"
             ],
             [
              0.8888888888888888,
              "#fdca26"
             ],
             [
              1,
              "#f0f921"
             ]
            ],
            "type": "histogram2dcontour"
           }
          ],
          "mesh3d": [
           {
            "colorbar": {
             "outlinewidth": 0,
             "ticks": ""
            },
            "type": "mesh3d"
           }
          ],
          "parcoords": [
           {
            "line": {
             "colorbar": {
              "outlinewidth": 0,
              "ticks": ""
             }
            },
            "type": "parcoords"
           }
          ],
          "pie": [
           {
            "automargin": true,
            "type": "pie"
           }
          ],
          "scatter": [
           {
            "fillpattern": {
             "fillmode": "overlay",
             "size": 10,
             "solidity": 0.2
            },
            "type": "scatter"
           }
          ],
          "scatter3d": [
           {
            "line": {
             "colorbar": {
              "outlinewidth": 0,
              "ticks": ""
             }
            },
            "marker": {
             "colorbar": {
              "outlinewidth": 0,
              "ticks": ""
             }
            },
            "type": "scatter3d"
           }
          ],
          "scattercarpet": [
           {
            "marker": {
             "colorbar": {
              "outlinewidth": 0,
              "ticks": ""
             }
            },
            "type": "scattercarpet"
           }
          ],
          "scattergeo": [
           {
            "marker": {
             "colorbar": {
              "outlinewidth": 0,
              "ticks": ""
             }
            },
            "type": "scattergeo"
           }
          ],
          "scattergl": [
           {
            "marker": {
             "colorbar": {
              "outlinewidth": 0,
              "ticks": ""
             }
            },
            "type": "scattergl"
           }
          ],
          "scattermap": [
           {
            "marker": {
             "colorbar": {
              "outlinewidth": 0,
              "ticks": ""
             }
            },
            "type": "scattermap"
           }
          ],
          "scattermapbox": [
           {
            "marker": {
             "colorbar": {
              "outlinewidth": 0,
              "ticks": ""
             }
            },
            "type": "scattermapbox"
           }
          ],
          "scatterpolar": [
           {
            "marker": {
             "colorbar": {
              "outlinewidth": 0,
              "ticks": ""
             }
            },
            "type": "scatterpolar"
           }
          ],
          "scatterpolargl": [
           {
            "marker": {
             "colorbar": {
              "outlinewidth": 0,
              "ticks": ""
             }
            },
            "type": "scatterpolargl"
           }
          ],
          "scatterternary": [
           {
            "marker": {
             "colorbar": {
              "outlinewidth": 0,
              "ticks": ""
             }
            },
            "type": "scatterternary"
           }
          ],
          "surface": [
           {
            "colorbar": {
             "outlinewidth": 0,
             "ticks": ""
            },
            "colorscale": [
             [
              0,
              "#0d0887"
             ],
             [
              0.1111111111111111,
              "#46039f"
             ],
             [
              0.2222222222222222,
              "#7201a8"
             ],
             [
              0.3333333333333333,
              "#9c179e"
             ],
             [
              0.4444444444444444,
              "#bd3786"
             ],
             [
              0.5555555555555556,
              "#d8576b"
             ],
             [
              0.6666666666666666,
              "#ed7953"
             ],
             [
              0.7777777777777778,
              "#fb9f3a"
             ],
             [
              0.8888888888888888,
              "#fdca26"
             ],
             [
              1,
              "#f0f921"
             ]
            ],
            "type": "surface"
           }
          ],
          "table": [
           {
            "cells": {
             "fill": {
              "color": "#EBF0F8"
             },
             "line": {
              "color": "white"
             }
            },
            "header": {
             "fill": {
              "color": "#C8D4E3"
             },
             "line": {
              "color": "white"
             }
            },
            "type": "table"
           }
          ]
         },
         "layout": {
          "annotationdefaults": {
           "arrowcolor": "#2a3f5f",
           "arrowhead": 0,
           "arrowwidth": 1
          },
          "autotypenumbers": "strict",
          "coloraxis": {
           "colorbar": {
            "outlinewidth": 0,
            "ticks": ""
           }
          },
          "colorscale": {
           "diverging": [
            [
             0,
             "#8e0152"
            ],
            [
             0.1,
             "#c51b7d"
            ],
            [
             0.2,
             "#de77ae"
            ],
            [
             0.3,
             "#f1b6da"
            ],
            [
             0.4,
             "#fde0ef"
            ],
            [
             0.5,
             "#f7f7f7"
            ],
            [
             0.6,
             "#e6f5d0"
            ],
            [
             0.7,
             "#b8e186"
            ],
            [
             0.8,
             "#7fbc41"
            ],
            [
             0.9,
             "#4d9221"
            ],
            [
             1,
             "#276419"
            ]
           ],
           "sequential": [
            [
             0,
             "#0d0887"
            ],
            [
             0.1111111111111111,
             "#46039f"
            ],
            [
             0.2222222222222222,
             "#7201a8"
            ],
            [
             0.3333333333333333,
             "#9c179e"
            ],
            [
             0.4444444444444444,
             "#bd3786"
            ],
            [
             0.5555555555555556,
             "#d8576b"
            ],
            [
             0.6666666666666666,
             "#ed7953"
            ],
            [
             0.7777777777777778,
             "#fb9f3a"
            ],
            [
             0.8888888888888888,
             "#fdca26"
            ],
            [
             1,
             "#f0f921"
            ]
           ],
           "sequentialminus": [
            [
             0,
             "#0d0887"
            ],
            [
             0.1111111111111111,
             "#46039f"
            ],
            [
             0.2222222222222222,
             "#7201a8"
            ],
            [
             0.3333333333333333,
             "#9c179e"
            ],
            [
             0.4444444444444444,
             "#bd3786"
            ],
            [
             0.5555555555555556,
             "#d8576b"
            ],
            [
             0.6666666666666666,
             "#ed7953"
            ],
            [
             0.7777777777777778,
             "#fb9f3a"
            ],
            [
             0.8888888888888888,
             "#fdca26"
            ],
            [
             1,
             "#f0f921"
            ]
           ]
          },
          "colorway": [
           "#636efa",
           "#EF553B",
           "#00cc96",
           "#ab63fa",
           "#FFA15A",
           "#19d3f3",
           "#FF6692",
           "#B6E880",
           "#FF97FF",
           "#FECB52"
          ],
          "font": {
           "color": "#2a3f5f"
          },
          "geo": {
           "bgcolor": "white",
           "lakecolor": "white",
           "landcolor": "#E5ECF6",
           "showlakes": true,
           "showland": true,
           "subunitcolor": "white"
          },
          "hoverlabel": {
           "align": "left"
          },
          "hovermode": "closest",
          "mapbox": {
           "style": "light"
          },
          "paper_bgcolor": "white",
          "plot_bgcolor": "#E5ECF6",
          "polar": {
           "angularaxis": {
            "gridcolor": "white",
            "linecolor": "white",
            "ticks": ""
           },
           "bgcolor": "#E5ECF6",
           "radialaxis": {
            "gridcolor": "white",
            "linecolor": "white",
            "ticks": ""
           }
          },
          "scene": {
           "xaxis": {
            "backgroundcolor": "#E5ECF6",
            "gridcolor": "white",
            "gridwidth": 2,
            "linecolor": "white",
            "showbackground": true,
            "ticks": "",
            "zerolinecolor": "white"
           },
           "yaxis": {
            "backgroundcolor": "#E5ECF6",
            "gridcolor": "white",
            "gridwidth": 2,
            "linecolor": "white",
            "showbackground": true,
            "ticks": "",
            "zerolinecolor": "white"
           },
           "zaxis": {
            "backgroundcolor": "#E5ECF6",
            "gridcolor": "white",
            "gridwidth": 2,
            "linecolor": "white",
            "showbackground": true,
            "ticks": "",
            "zerolinecolor": "white"
           }
          },
          "shapedefaults": {
           "line": {
            "color": "#2a3f5f"
           }
          },
          "ternary": {
           "aaxis": {
            "gridcolor": "white",
            "linecolor": "white",
            "ticks": ""
           },
           "baxis": {
            "gridcolor": "white",
            "linecolor": "white",
            "ticks": ""
           },
           "bgcolor": "#E5ECF6",
           "caxis": {
            "gridcolor": "white",
            "linecolor": "white",
            "ticks": ""
           }
          },
          "title": {
           "x": 0.05
          },
          "xaxis": {
           "automargin": true,
           "gridcolor": "white",
           "linecolor": "white",
           "ticks": "",
           "title": {
            "standoff": 15
           },
           "zerolinecolor": "white",
           "zerolinewidth": 2
          },
          "yaxis": {
           "automargin": true,
           "gridcolor": "white",
           "linecolor": "white",
           "ticks": "",
           "title": {
            "standoff": 15
           },
           "zerolinecolor": "white",
           "zerolinewidth": 2
          }
         }
        },
        "title": {
         "text": "Training and Validation Loss over Time"
        },
        "xaxis": {
         "anchor": "y",
         "domain": [
          0,
          1
         ],
         "title": {
          "text": "Epoch"
         }
        },
        "yaxis": {
         "anchor": "x",
         "domain": [
          0,
          1
         ],
         "title": {
          "text": "Loss"
         }
        }
       }
      }
     },
     "metadata": {},
     "output_type": "display_data"
    }
   ],
   "source": [
    "fig = px.line(\n",
    "    history.history,\n",
    "    y = ['loss', 'val_loss'],\n",
    "    labels = {'index' : \"Epoch\", 'value' : \"Loss\"},\n",
    "    title = \"Training and Validation Loss over Time\"\n",
    ")\n",
    "\n",
    "fig.show()"
   ]
  },
  {
   "cell_type": "code",
   "execution_count": 12,
   "metadata": {
    "execution": {
     "iopub.execute_input": "2025-05-30T07:13:59.767434Z",
     "iopub.status.busy": "2025-05-30T07:13:59.766863Z",
     "iopub.status.idle": "2025-05-30T07:13:59.773992Z",
     "shell.execute_reply": "2025-05-30T07:13:59.773114Z",
     "shell.execute_reply.started": "2025-05-30T07:13:59.767411Z"
    },
    "trusted": true
   },
   "outputs": [
    {
     "name": "stdout",
     "output_type": "stream",
     "text": [
      "--- Generating Evaluation Metrics for Model 1 ---\n",
      "Generating predictions...\n",
      "375/375 [==============================] - 9s 25ms/step\n",
      "Generated 12000 predictions for 12000 samples.\n",
      "Number of true labels: 12000\n",
      "\n",
      "Calculating Confusion Matrix...\n"
     ]
    },
    {
     "data": {
      "image/png": "[encoded data removed]",
      "text/plain": [
       "<Figure size 600x600 with 1 Axes>"
      ]
     },
     "metadata": {},
     "output_type": "display_data"
    },
    {
     "name": "stdout",
     "output_type": "stream",
     "text": [
      "\n",
      "Calculating Classification Report...\n",
      "              precision    recall  f1-score   support\n",
      "\n",
      "    NEGATIVE     0.9876    0.9992    0.9933      5978\n",
      "    POSITIVE     0.9992    0.9875    0.9933      6022\n",
      "\n",
      "    accuracy                         0.9933     12000\n",
      "   macro avg     0.9934    0.9934    0.9933     12000\n",
      "weighted avg     0.9934    0.9933    0.9933     12000\n",
      "\n",
      "--- Evaluation Complete ---\n"
     ]
    }
   ],
   "source": [
    "import numpy as np\n",
    "import matplotlib.pyplot as plt\n",
    "import seaborn as sns\n",
    "from sklearn.metrics import confusion_matrix, classification_report\n",
    "import math\n",
    "\n",
    "print(\"--- Generating Evaluation Metrics for Model 1 ---\")\n",
    "\n",
    "# 1. Reset the test_data generator to ensure it starts from the beginning\n",
    "test_data.reset()\n",
    "\n",
    "# 2. Get predictions from the model\n",
    "print(\"Generating predictions...\")\n",
    "# Calculate the number of steps to cover all test samples exactly once\n",
    "steps_for_predict = math.ceil(test_data.n / test_data.batch_size)\n",
    "raw_predictions = model.predict(test_data, steps=steps_for_predict)\n",
    "\n",
    "# Process predictions:\n",
    "# raw_predictions might be slightly longer than test_data.n if steps * batch_size > test_data.n\n",
    "# So, we take only the first test_data.n predictions.\n",
    "y_pred = np.squeeze((raw_predictions[:test_data.n] >= 0.5).astype(int))\n",
    "print(f\"Generated {len(y_pred)} predictions for {test_data.n} samples.\")\n",
    "\n",
    "# 3. Get true labels\n",
    "# For a Keras DataFrameIterator, .labels provides the true labels.\n",
    "# If shuffle=True was used when creating test_data (default for flow_from_dataframe),\n",
    "# test_data.labels holds the labels in the order determined by that initial shuffle.\n",
    "# model.predict() on a reset generator will also follow this same initial shuffle order.\n",
    "true_labels = test_data.labels[:test_data.n] # Ensure we only take up to N labels\n",
    "\n",
    "print(f\"Number of true labels: {len(true_labels)}\")\n",
    "\n",
    "# Double-check lengths (should match if steps and slicing are correct)\n",
    "if len(y_pred) != len(true_labels):\n",
    "    print(\"Warning: Mismatch between the number of predictions and true labels. Metrics might be affected.\")\n",
    "    # Fallback if there's still a mismatch:\n",
    "    min_len = min(len(y_pred), len(true_labels))\n",
    "    y_pred = y_pred[:min_len]\n",
    "    true_labels = true_labels[:min_len]\n",
    "    print(f\"Adjusted lengths to {min_len}.\")\n",
    "\n",
    "\n",
    "# 4. Calculate and Display Confusion Matrix\n",
    "print(\"\\nCalculating Confusion Matrix...\")\n",
    "cm = confusion_matrix(true_labels, y_pred)\n",
    "\n",
    "# Dynamically get target names for display\n",
    "# test_data.class_indices is a dict like {'NEGATIVE': 0, 'POSITIVE': 1}\n",
    "idx_to_class = {v: k for k, v in test_data.class_indices.items()}\n",
    "target_display_names = [idx_to_class[i] for i in sorted(idx_to_class.keys())] # e.g., ['NEGATIVE', 'POSITIVE']\n",
    "\n",
    "plt.figure(figsize=(6, 6))\n",
    "sns.heatmap(cm, annot=True, fmt='g', vmin=0, cmap='Blues', cbar=False,\n",
    "            xticklabels=target_display_names, yticklabels=target_display_names)\n",
    "plt.xlabel('Predicted')\n",
    "plt.ylabel('Actual')\n",
    "plt.title('Confusion Matrix')\n",
    "plt.show()\n",
    "\n",
    "# 5. Calculate and Display Classification Report\n",
    "print(\"\\nCalculating Classification Report...\")\n",
    "# Use the same target_display_names for the report\n",
    "print(classification_report(true_labels, y_pred, target_names=target_display_names, digits=4))\n",
    "\n",
    "print(\"--- Evaluation Complete ---\")"
   ]
  },
  {
   "cell_type": "code",
   "execution_count": 15,
   "metadata": {
    "trusted": true
   },
   "outputs": [
    {
     "name": "stdout",
     "output_type": "stream",
     "text": [
      "Sample raw predictions (probabilities for POSITIVE class):\n",
      "[[5.5169832e-04]\n",
      " [1.0000000e+00]\n",
      " [7.6972749e-03]\n",
      " [8.9213392e-04]\n",
      " [5.4754955e-03]\n",
      " [1.0000000e+00]\n",
      " [8.4467369e-01]\n",
      " [6.4062583e-04]\n",
      " [6.1571607e-03]\n",
      " [3.3374827e-03]\n",
      " [1.0000000e+00]\n",
      " [5.1231432e-04]\n",
      " [4.6523265e-03]\n",
      " [1.0000000e+00]\n",
      " [4.0424829e-03]\n",
      " [1.0000000e+00]\n",
      " [8.4542325e-03]\n",
      " [4.9416251e-03]\n",
      " [1.0000000e+00]\n",
      " [1.0000000e+00]]\n"
     ]
    },
    {
     "data": {
      "image/png": "[encoded data removed]",
      "text/plain": [
       "<Figure size 640x480 with 1 Axes>"
      ]
     },
     "metadata": {},
     "output_type": "display_data"
    }
   ],
   "source": [
    "\n",
    "print(\"Sample raw predictions (probabilities for POSITIVE class):\")\n",
    "print(raw_predictions[:20]) # Shows the first 20 probabilities\n",
    "\n",
    "import matplotlib.pyplot as plt\n",
    "plt.hist(raw_predictions[:test_data.n], bins=50) # Use [:test_data.n] to avoid issues if raw_predictions is longer\n",
    "plt.title(\"Histogram of Raw Predicted Probabilities\")\n",
    "plt.xlabel(\"Predicted Probability for POSITIVE class\")\n",
    "plt.ylabel(\"Frequency\")\n",
    "plt.show()"
   ]
  },
  {
   "cell_type": "code",
   "execution_count": null,
   "metadata": {},
   "outputs": [],
   "source": []
  }
 ],
 "metadata": {
  "kaggle": {
   "accelerator": "none",
   "dataSources": [
    {
     "datasetId": 414522,
     "sourceId": 792851,
     "sourceType": "datasetVersion"
    }
   ],
   "dockerImageVersionId": 31040,
   "isGpuEnabled": false,
   "isInternetEnabled": false,
   "language": "python",
   "sourceType": "notebook"
  },
  "kernelspec": {
   "display_name": "cuda_tf",
   "language": "python",
   "name": "python3"
  },
  "language_info": {
   "codemirror_mode": {
    "name": "ipython",
    "version": 3
   },
   "file_extension": ".py",
   "mimetype": "text/x-python",
   "name": "python",
   "nbconvert_exporter": "python",
   "pygments_lexer": "ipython3",
   "version": "3.10.16"
  }
 },
 "nbformat": 4,
 "nbformat_minor": 4
}
